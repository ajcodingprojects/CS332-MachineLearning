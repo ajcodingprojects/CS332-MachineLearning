{
 "cells": [
  {
   "cell_type": "code",
   "execution_count": 12,
   "id": "70134b2f",
   "metadata": {},
   "outputs": [],
   "source": [
    "# Load libraries\n",
    "import pandas as pd\n",
    "from sklearn.tree import DecisionTreeClassifier # Import Decision Tree Classifier\n",
    "from sklearn.neighbors import KNeighborsClassifier #Import KNN\n",
    "from sklearn.model_selection import train_test_split # Import train_test_split function\n",
    "from sklearn import metrics #Import scikit-learn metrics module for metric evaluations\n",
    "from sklearn import model_selection\n",
    "from sklearn.model_selection import KFold\n",
    "from sklearn.model_selection import LeaveOneOut\n",
    "from sklearn.model_selection import LeavePOut\n",
    "from sklearn.model_selection import ShuffleSplit\n",
    "from sklearn.model_selection import StratifiedKFold\n",
    "from sklearn.model_selection import cross_val_score\n",
    "from sklearn.model_selection import cross_val_predict\n",
    "import matplotlib.pyplot as plt #so you can draw\n",
    "import numpy as np"
   ]
  },
  {
   "cell_type": "code",
   "execution_count": 13,
   "id": "65785f14",
   "metadata": {},
   "outputs": [
    {
     "data": {
      "text/html": [
       "<div>\n",
       "<style scoped>\n",
       "    .dataframe tbody tr th:only-of-type {\n",
       "        vertical-align: middle;\n",
       "    }\n",
       "\n",
       "    .dataframe tbody tr th {\n",
       "        vertical-align: top;\n",
       "    }\n",
       "\n",
       "    .dataframe thead th {\n",
       "        text-align: right;\n",
       "    }\n",
       "</style>\n",
       "<table border=\"1\" class=\"dataframe\">\n",
       "  <thead>\n",
       "    <tr style=\"text-align: right;\">\n",
       "      <th></th>\n",
       "      <th>pregnancies</th>\n",
       "      <th>glucose</th>\n",
       "      <th>blood_pressure</th>\n",
       "      <th>skin_thickness</th>\n",
       "      <th>insulin</th>\n",
       "      <th>bmi</th>\n",
       "      <th>diabetes_pedigree_function</th>\n",
       "      <th>age</th>\n",
       "      <th>outcome</th>\n",
       "    </tr>\n",
       "  </thead>\n",
       "  <tbody>\n",
       "    <tr>\n",
       "      <th>0</th>\n",
       "      <td>6</td>\n",
       "      <td>148</td>\n",
       "      <td>72</td>\n",
       "      <td>35</td>\n",
       "      <td>0</td>\n",
       "      <td>33.6</td>\n",
       "      <td>0.627</td>\n",
       "      <td>50</td>\n",
       "      <td>1</td>\n",
       "    </tr>\n",
       "    <tr>\n",
       "      <th>1</th>\n",
       "      <td>1</td>\n",
       "      <td>85</td>\n",
       "      <td>66</td>\n",
       "      <td>29</td>\n",
       "      <td>0</td>\n",
       "      <td>26.6</td>\n",
       "      <td>0.351</td>\n",
       "      <td>31</td>\n",
       "      <td>0</td>\n",
       "    </tr>\n",
       "    <tr>\n",
       "      <th>2</th>\n",
       "      <td>8</td>\n",
       "      <td>183</td>\n",
       "      <td>64</td>\n",
       "      <td>0</td>\n",
       "      <td>0</td>\n",
       "      <td>23.3</td>\n",
       "      <td>0.672</td>\n",
       "      <td>32</td>\n",
       "      <td>1</td>\n",
       "    </tr>\n",
       "    <tr>\n",
       "      <th>3</th>\n",
       "      <td>1</td>\n",
       "      <td>89</td>\n",
       "      <td>66</td>\n",
       "      <td>23</td>\n",
       "      <td>94</td>\n",
       "      <td>28.1</td>\n",
       "      <td>0.167</td>\n",
       "      <td>21</td>\n",
       "      <td>0</td>\n",
       "    </tr>\n",
       "    <tr>\n",
       "      <th>4</th>\n",
       "      <td>0</td>\n",
       "      <td>137</td>\n",
       "      <td>40</td>\n",
       "      <td>35</td>\n",
       "      <td>168</td>\n",
       "      <td>43.1</td>\n",
       "      <td>2.288</td>\n",
       "      <td>33</td>\n",
       "      <td>1</td>\n",
       "    </tr>\n",
       "  </tbody>\n",
       "</table>\n",
       "</div>"
      ],
      "text/plain": [
       "   pregnancies  glucose  blood_pressure  skin_thickness  insulin   bmi  \\\n",
       "0            6      148              72              35        0  33.6   \n",
       "1            1       85              66              29        0  26.6   \n",
       "2            8      183              64               0        0  23.3   \n",
       "3            1       89              66              23       94  28.1   \n",
       "4            0      137              40              35      168  43.1   \n",
       "\n",
       "   diabetes_pedigree_function  age  outcome  \n",
       "0                       0.627   50        1  \n",
       "1                       0.351   31        0  \n",
       "2                       0.672   32        1  \n",
       "3                       0.167   21        0  \n",
       "4                       2.288   33        1  "
      ]
     },
     "execution_count": 13,
     "metadata": {},
     "output_type": "execute_result"
    }
   ],
   "source": [
    "#make sure you have your labels correct\n",
    "#some files have this in the file - others it is in the description\n",
    "#if it is in the file you can copy them here then delete that line in the file\n",
    "col_names = ['pregnancies', 'glucose', 'blood_pressure', 'skin_thickness',\n",
    "'insulin', 'bmi', 'diabetes_pedigree_function', 'age', 'outcome']\n",
    "# load dataset\n",
    "data = pd.read_csv(\"diabetes.csv\", header=None, names=col_names)\n",
    "#take a peek to see if this looks right\n",
    "data.head()#optional"
   ]
  },
  {
   "cell_type": "code",
   "execution_count": 14,
   "id": "eacd828c",
   "metadata": {},
   "outputs": [],
   "source": [
    "#split dataset in features and target variable\n",
    "feature_cols = ['pregnancies', 'glucose', 'blood_pressure', 'skin_thickness',\n",
    "'insulin', 'bmi', 'diabetes_pedigree_function', 'age']\n",
    "X = data[feature_cols] # Features\n",
    "y = data.outcome # Target variable"
   ]
  },
  {
   "cell_type": "code",
   "execution_count": 15,
   "id": "5addc9bc",
   "metadata": {},
   "outputs": [
    {
     "name": "stdout",
     "output_type": "stream",
     "text": [
      "Accuracy: 0.7056277056277056\n"
     ]
    }
   ],
   "source": [
    "# Split dataset into training set and test set\n",
    "X_train, X_test, y_train, y_test = train_test_split(X, y, test_size=0.3,\n",
    "random_state=1) # 70% training and 30% test\n",
    "# Create Decision Tree classifer object\n",
    "oneTree = DecisionTreeClassifier()\n",
    "# Train Decision Tree Classifer\n",
    "oneTree.fit(X_train,y_train)\n",
    "y_pred = oneTree.predict(X_test)\n",
    "# Model Accuracy, how often is the classifier correct?\n",
    "print(f\"Accuracy: {metrics.accuracy_score(y_test, y_pred)}\")"
   ]
  },
  {
   "cell_type": "code",
   "execution_count": 16,
   "id": "4d8ca904",
   "metadata": {},
   "outputs": [
    {
     "name": "stdout",
     "output_type": "stream",
     "text": [
      "Accuracy: 0.6925837320574162 (0.06741166993535645)\n"
     ]
    }
   ],
   "source": [
    "#K-fold Cross-Validation\n",
    "'''\n",
    "In k-fold cross-validation, the data is divided into k folds.\n",
    "The model is trained on k-1 folds with one fold held back for testing.\n",
    "This process gets repeated to ensure each fold of the dataset gets the\n",
    "chance to be the held back set. Once the process is completed,\n",
    "we can summarize the evaluation metric using the mean or/and the standard\n",
    "deviation.\n",
    "'''\n",
    "kfold = model_selection.KFold(n_splits=10)\n",
    "model_kfold = DecisionTreeClassifier()\n",
    "results_kfold = model_selection.cross_val_score(model_kfold, X, y, cv=kfold)\n",
    "print(f\"Accuracy: {results_kfold.mean()} ({results_kfold.std()})\")"
   ]
  },
  {
   "cell_type": "markdown",
   "id": "e7408155",
   "metadata": {},
   "source": [
    "# Questions Page 4\n",
    "<p>1. The accuracy with the k-fold was a bit worse than that of the regular decision tree above. The mean for the kfold results scored only  a little over 1% under the decision tree. The standard deviation also shows that there are few outliers in the data so the accuracy should represent most of the data used in the kfold.</p>\n",
    "<p>2. Accidentally explained above, but the standard deviation of ~6% shows us that most of the data fall within the same mean/average value and that means that our validation above should be relatively accurate. </p>"
   ]
  },
  {
   "cell_type": "code",
   "execution_count": 17,
   "id": "e34721a8",
   "metadata": {},
   "outputs": [
    {
     "name": "stdout",
     "output_type": "stream",
     "text": [
      "Accuracy: 0.7030587833219413 (0.06873033285781456)\n"
     ]
    }
   ],
   "source": [
    "#Stratified K-fold Cross-Validation\n",
    "'''\n",
    "Stratified K-Fold approach is a variation of k-fold cross-validation\n",
    "that returns stratified folds, i.e., each set containing approximately\n",
    "the same ratio of target labels as the complete data.\n",
    "'''\n",
    "skfold = StratifiedKFold(n_splits=10)\n",
    "model_skfold = DecisionTreeClassifier()\n",
    "results_skfold = model_selection.cross_val_score(model_skfold, X, y,\n",
    "cv=skfold)\n",
    "print(f\"Accuracy: {results_skfold.mean()} ({results_skfold.std()})\")"
   ]
  },
  {
   "cell_type": "markdown",
   "id": "f4d44fe4",
   "metadata": {},
   "source": [
    "# Questions Page 5 First Set\n",
    "<p>1. This accuracy is a little bit better than the non-stratified k-fold and the decision tree. The standard deviation is nearly the same as the previous k-fold, meaning that the data is within in the same average values.</p>\n",
    "<p>2. Roughly, they could be conisdered the same. I think since the accuracy is only slightly higher and due to the spread of the deviation being a little higher, that they could be considered the same statistically. </p>"
   ]
  },
  {
   "cell_type": "code",
   "execution_count": 18,
   "id": "4c6adc37",
   "metadata": {},
   "outputs": [
    {
     "name": "stdout",
     "output_type": "stream",
     "text": [
      "Accuracy: 0.7057291666666666 (0.4557142854713235)\n"
     ]
    }
   ],
   "source": [
    "#Leave One Out Cross-Validation (LOOCV)\n",
    "'''\n",
    "LOOCV is the cross-validation technique in which the size of the fold\n",
    "is “1” with “k” being set to the number of observations in the data.\n",
    "This variation is useful when the training data is of limited size and\n",
    "the number of parameters to be tested is not high.\n",
    "'''\n",
    "loocv = model_selection.LeaveOneOut()\n",
    "model_loocv = DecisionTreeClassifier()\n",
    "results_loocv = model_selection.cross_val_score(model_loocv, X, y, cv=loocv)\n",
    "print(f\"Accuracy: {results_loocv.mean()} ({results_loocv.std()})\")"
   ]
  },
  {
   "cell_type": "markdown",
   "id": "fa95b1cb",
   "metadata": {},
   "source": [
    "# Questions Page 5 Second Set\n",
    "<p>1. So far, this one has the highest accuracy and the lowest standard deviation of all the validation techniques used at around 70.5% and 2.6%. </p>\n",
    "<p>2. Since the standard deviation is lower than the first two, this proves to me that the dataset is smaller in comparison since this method worked just as good as the rest and has a smaller standard deviation. It also tells me that the data subsets tested pretty close to the same average each time making it the most accurate accuracy thusfar.</p>"
   ]
  },
  {
   "cell_type": "code",
   "execution_count": 19,
   "id": "33295685",
   "metadata": {},
   "outputs": [
    {
     "name": "stdout",
     "output_type": "stream",
     "text": [
      "Accuracy: 0.6961038961038961 (0.026175266593646686)\n"
     ]
    }
   ],
   "source": [
    "#Repeated Random Test-Train Splits\n",
    "'''\n",
    "This technique is a hybrid of traditional train-test splitting and the k-fold\n",
    "cross-validation method. In this technique, we create random splits of the\n",
    "data\n",
    "in the training-test set manner and then repeat the process of splitting and\n",
    "evaluating the algorithm multiple times, just like the cross-validation\n",
    "method.\n",
    "'''\n",
    "kfold2 = model_selection.ShuffleSplit(n_splits=10, test_size=0.30,\n",
    "random_state=100)\n",
    "model_shufflecv = DecisionTreeClassifier()\n",
    "results_shufflecv = model_selection.cross_val_score(model_shufflecv, X, y,\n",
    "cv=kfold2)\n",
    "print(f\"Accuracy: {results_shufflecv.mean()} ({results_shufflecv.std()})\")"
   ]
  },
  {
   "cell_type": "markdown",
   "id": "e225bf12",
   "metadata": {},
   "source": [
    "# Questions Page 6\n",
    "<p>1. This accuracy score is pretty similar to most, within 1% of all other accuracies. However, the standard deviation is very low at 2.6%, which is nearly half the previous lowest. </p>\n",
    "<p>2. Because of how low the standard deviation is in this one, I think these results are not statistically the same. The low standard deviation means that each subset of the data tested at roughly the same accuracy percentage. This means that this one is the most consistent algorithm created so far compared to the rest. </p>"
   ]
  },
  {
   "cell_type": "code",
   "execution_count": 20,
   "id": "f35e50d5",
   "metadata": {},
   "outputs": [],
   "source": [
    "def lookAtModels(models):\n",
    "    results=[]\n",
    "    names=[]\n",
    "    for name, model in models:\n",
    "        skfold = StratifiedKFold(n_splits=10)\n",
    "        cv_results= cross_val_score(model, X_train, y_train, cv=skfold, scoring='accuracy')\n",
    "        results.append(cv_results)\n",
    "        names.append(name)\n",
    "        print(f'{name}: {cv_results.mean()} ({cv_results.std()})')\n",
    "    return names, results#not sure why I want lists yet"
   ]
  },
  {
   "cell_type": "code",
   "execution_count": 21,
   "id": "c3e04105",
   "metadata": {},
   "outputs": [
    {
     "name": "stdout",
     "output_type": "stream",
     "text": [
      "Tree depth 2: 0.7317610062893081 (0.05299397306129626)\n",
      "Tree depth 3: 0.7447938504542277 (0.048179325963155294)\n",
      "Tree depth 4: 0.7132075471698114 (0.029022496922623348)\n",
      "Tree depth 5: 0.7411949685534591 (0.0313505211590959)\n",
      "Tree depth 6: 0.7299091544374562 (0.03597830136760317)\n",
      "Tree depth 7: 0.7075471698113207 (0.04138920299324315)\n",
      "Tree depth 8: 0.7001747030048917 (0.03148706527767741)\n"
     ]
    }
   ],
   "source": [
    "#make all your models\n",
    "models =[]\n",
    "for d in range(2,9):\n",
    "    models.append((f'Tree depth {d}',DecisionTreeClassifier(criterion=\"entropy\",max_depth=d)))\n",
    "#see your results\n",
    "names,results = lookAtModels(models)"
   ]
  },
  {
   "cell_type": "code",
   "execution_count": 22,
   "id": "30fb2473",
   "metadata": {},
   "outputs": [
    {
     "data": {
      "image/png": "[encoded data removed]",
      "text/plain": [
       "<Figure size 640x480 with 1 Axes>"
      ]
     },
     "metadata": {},
     "output_type": "display_data"
    }
   ],
   "source": [
    "D2_mean = np.mean(results[0])\n",
    "D2_std= np.std(results[0])\n",
    "D3_mean = np.mean(results[1])\n",
    "D3_std = np.std(results[1])\n",
    "D4_mean = np.mean(results[2])\n",
    "D4_std = np.std(results[2])\n",
    "D5_mean = np.mean(results[3])\n",
    "D5_std = np.std(results[3])\n",
    "D6_mean = np.mean(results[4])\n",
    "D6_std = np.std(results[4])\n",
    "D7_mean = np.mean(results[5])\n",
    "D7_std = np.std(results[5])\n",
    "D8_mean = np.mean(results[6])\n",
    "D8_std = np.std(results[6])\n",
    "\n",
    "#lists for plot – I bet there is a better way to do this\n",
    "depth =['2','3','4','5','6','7','8']\n",
    "x_pos = np.arange(len(depth))\n",
    "#print(x_pos)\n",
    "Means = [D2_mean,D3_mean,D4_mean,D5_mean,D6_mean,D7_mean,D8_mean]\n",
    "error = [D2_std,D3_std,D4_std,D5_std,D6_std,D7_std,D8_std]\n",
    "# Build the plot\n",
    "fig, ax = plt.subplots()\n",
    "ax.bar(x_pos, Means, yerr=error, align='center', alpha=0.5, ecolor='black',\n",
    "capsize=10)\n",
    "ax.set_ylabel('Accuracy')\n",
    "ax.set_xticks(x_pos)\n",
    "ax.set_xticklabels(depth)\n",
    "ax.set_title('Accuracy scores of different depths')\n",
    "ax.yaxis.grid(True)"
   ]
  },
  {
   "cell_type": "markdown",
   "id": "d732168e",
   "metadata": {},
   "source": [
    "# Questions Page 8\n",
    "<p>1. Not necessarily significant, but there is a bit of diffence between the depths. The trees with smaller depths tend to have a higher standard deviation, I take that this is due to there being overall more bias and less variance. While higher depths of trees leads to the opposite with a tendancy of a lower standard deviation. Again, I would say that there is not evidence of \"significant\" difference, but there is a little bit of a trend that can be seen. </p>\n"
   ]
  },
  {
   "cell_type": "code",
   "execution_count": 23,
   "id": "a65bb21a",
   "metadata": {},
   "outputs": [],
   "source": [
    "#Fix data for KNN\n",
    "# Import module to standardize the scale\n",
    "from sklearn.preprocessing import StandardScaler\n",
    "# Create instance (i.e. object) of the standard scaler\n",
    "scaler = StandardScaler()\n",
    "# Fit the object to all the data except the Target Class or Outcome\n",
    "# use the .drop() method to gather all features except Target Class/outcome\n",
    "# axis -> argument refers to columns; a 0 would represent rows a 1 is column\n",
    "scaler.fit(data.drop('outcome', axis=1))\n",
    "# Use scaler object to conduct a transforms\n",
    "scaled_features = scaler.transform(data.drop('outcome',axis=1))\n",
    "#Here we have the normalized dataset, minus the target/output column which is the last col\n",
    "data_feat = pd.DataFrame(scaled_features, columns= data.columns[:-1])\n",
    "#split dataset in features and target variable\n",
    "X = data_feat\n",
    "y = data['outcome'] # Target variable\n",
    "# Split dataset into training set and test set\n",
    "X_train, X_test, y_train, y_test = train_test_split(X, y, test_size=0.3,\n",
    "random_state=1) # 70% training and 30% test"
   ]
  },
  {
   "cell_type": "code",
   "execution_count": 24,
   "id": "b331c1b3",
   "metadata": {},
   "outputs": [],
   "source": [
    "#To help with model selection\n",
    "models =[]\n",
    "models.append(('KNN', KNeighborsClassifier(n_neighbors=9,\n",
    "metric='euclidean')))\n",
    "models.append(('Tree',DecisionTreeClassifier(criterion=\"entropy\",\n",
    "max_depth=3)))"
   ]
  },
  {
   "cell_type": "code",
   "execution_count": 25,
   "id": "4118ce8f",
   "metadata": {},
   "outputs": [
    {
     "name": "stdout",
     "output_type": "stream",
     "text": [
      "KNN: 0.7095737246680642 (0.05850162742819442)\n",
      "Tree: 0.7447938504542277 (0.048179325963155294)\n"
     ]
    }
   ],
   "source": [
    "names,results = lookAtModels(models)"
   ]
  },
  {
   "cell_type": "code",
   "execution_count": 26,
   "id": "4978ca2e",
   "metadata": {},
   "outputs": [
    {
     "name": "stdout",
     "output_type": "stream",
     "text": [
      "KNN mean: 0.7095737246680642 (0.05850162742819442)\n",
      "Tree mean: 0.7447938504542277 (0.048179325963155294)\n"
     ]
    }
   ],
   "source": [
    "#verify your results\n",
    "KNN_mean = np.mean(results[0])\n",
    "KNN_std= np.std(results[0])\n",
    "DT_mean = np.mean(results[1])\n",
    "DT_std = np.std(results[1])\n",
    "print(f'KNN mean: {KNN_mean} ({KNN_std})\\nTree mean: {DT_mean} ({DT_std})')"
   ]
  },
  {
   "cell_type": "code",
   "execution_count": 27,
   "id": "febaab00",
   "metadata": {},
   "outputs": [
    {
     "data": {
      "image/png": "[encoded data removed]",
      "text/plain": [
       "<Figure size 640x480 with 1 Axes>"
      ]
     },
     "metadata": {},
     "output_type": "display_data"
    }
   ],
   "source": [
    "#lists for plot\n",
    "classifiers =['KNN', 'Decision Tree']\n",
    "x_pos = np.arange(len(classifiers))\n",
    "#print(x_pos)\n",
    "Means = [KNN_mean, DT_mean]\n",
    "error = [KNN_std, DT_std]\n",
    "# Build the plot\n",
    "fig, ax = plt.subplots()\n",
    "ax.bar(x_pos, Means, yerr=error, align='center', alpha=0.5, ecolor='black',\n",
    "capsize=10)\n",
    "ax.set_ylabel('Accuracy')\n",
    "ax.set_xticks(x_pos)\n",
    "ax.set_xticklabels(classifiers)\n",
    "ax.set_title('Accuracy scores of different classifiers')\n",
    "ax.yaxis.grid(True)"
   ]
  },
  {
   "cell_type": "markdown",
   "id": "c15d5f29",
   "metadata": {},
   "source": [
    "# Questions Page 10\n",
    "<p>1. Yes, these results are statistically different from one another. The KNN performs a bit worse than the Decision Tree in a few ways. The overall accuracy of the KNN is ~5% worse than the DT. Also, the KNN has a ~1% higher standard deviation. This shows that the DT classifier is more accurate amoungst different groupings of data whereas KNN is slightly more unpredictable, where for some groups it has a higher accuracy and others it has a lower accuracy. </p>\n"
   ]
  },
  {
   "cell_type": "code",
   "execution_count": 28,
   "id": "d50e888e",
   "metadata": {},
   "outputs": [
    {
     "name": "stdout",
     "output_type": "stream",
     "text": [
      "KNN: 0.5287463754862473 (0.0795544065996891)\n",
      "Tree: 0.5769695384642548 (0.09367782293422108)\n"
     ]
    }
   ],
   "source": [
    "def lookAtModels(models):\n",
    "    results=[]\n",
    "    names=[]\n",
    "    for name, model in models:\n",
    "        skfold = StratifiedKFold(n_splits=10)\n",
    "        cv_results= cross_val_score(model, X_train, y_train, cv=skfold, scoring='f1')\n",
    "        results.append(cv_results)\n",
    "        names.append(name)\n",
    "        print(f'{name}: {cv_results.mean()} ({cv_results.std()})')\n",
    "    return names, results#if you wish to graph later\n",
    "names,results = lookAtModels(models)"
   ]
  },
  {
   "cell_type": "code",
   "execution_count": 31,
   "id": "ffb26a7f",
   "metadata": {},
   "outputs": [
    {
     "name": "stdout",
     "output_type": "stream",
     "text": [
      "KNN mean: 0.5287463754862473 (0.0795544065996891)\n",
      "Tree mean: 0.5769695384642548 (0.09367782293422108)\n"
     ]
    }
   ],
   "source": [
    "#verify your results\n",
    "KNN_mean = np.mean(results[0])\n",
    "KNN_std= np.std(results[0])\n",
    "DT_mean = np.mean(results[1])\n",
    "DT_std = np.std(results[1])\n",
    "print(f'KNN mean: {KNN_mean} ({KNN_std})\\nTree mean: {DT_mean} ({DT_std})')"
   ]
  },
  {
   "cell_type": "code",
   "execution_count": 32,
   "id": "f35fdc8d",
   "metadata": {},
   "outputs": [
    {
     "data": {
      "image/png": "[encoded data removed]",
      "text/plain": [
       "<Figure size 640x480 with 1 Axes>"
      ]
     },
     "metadata": {},
     "output_type": "display_data"
    }
   ],
   "source": [
    "\n",
    "\n",
    "#lists for plot\n",
    "classifiers =['KNN', 'Decision Tree']\n",
    "x_pos = np.arange(len(classifiers))\n",
    "#print(x_pos)\n",
    "Means = [KNN_mean, DT_mean]\n",
    "error = [KNN_std, DT_std]\n",
    "# Build the plot\n",
    "fig, ax = plt.subplots()\n",
    "ax.bar(x_pos, Means, yerr=error, align='center', alpha=0.5, ecolor='black',\n",
    "capsize=10)\n",
    "ax.set_ylabel('Accuracy')\n",
    "ax.set_xticks(x_pos)\n",
    "ax.set_xticklabels(classifiers)\n",
    "ax.set_title('Accuracy scores of different classifiers')\n",
    "ax.yaxis.grid(True)"
   ]
  },
  {
   "cell_type": "markdown",
   "id": "f657a6fd",
   "metadata": {},
   "source": [
    "# Questions Page 11 First Set\n",
    "<p>1. Not at all, the f-1 scores make these models look doubly worse overall. These scores show that both of these models are hardly any better than flipping a coin to decide whether a person has diabetes or not - Actually since it is the average, this is saying that sometimes it is worse than a coin flip and other times its a small amount better. </p>\n",
    "<p>2. They are only slightly different statistically. Because the DT  has a higher accuracy but higher standard deviation, it is probably on true average going to be closer to the KNN accuracy with a lower standard deviation. KNN has a much smaller standard deviation by 2% (in comparison close to 20% less than DT's standard deviation value) which means when tested with more untrained data, that the accuracy will be more stable overall than the DT.  </p>"
   ]
  },
  {
   "cell_type": "markdown",
   "id": "a2344db0",
   "metadata": {},
   "source": [
    "# PERSONAL DATA SECTION"
   ]
  },
  {
   "cell_type": "code",
   "execution_count": 34,
   "id": "e20c6750",
   "metadata": {
    "scrolled": true
   },
   "outputs": [
    {
     "data": {
      "text/html": [
       "<div>\n",
       "<style scoped>\n",
       "    .dataframe tbody tr th:only-of-type {\n",
       "        vertical-align: middle;\n",
       "    }\n",
       "\n",
       "    .dataframe tbody tr th {\n",
       "        vertical-align: top;\n",
       "    }\n",
       "\n",
       "    .dataframe thead th {\n",
       "        text-align: right;\n",
       "    }\n",
       "</style>\n",
       "<table border=\"1\" class=\"dataframe\">\n",
       "  <thead>\n",
       "    <tr style=\"text-align: right;\">\n",
       "      <th></th>\n",
       "      <th>ACCESS_ALL_DOWNLOADS</th>\n",
       "      <th>ACCESS_CACHE_FILESYSTEM</th>\n",
       "      <th>ACCESS_CHECKIN_PROPERTIES</th>\n",
       "      <th>ACCESS_COARSE_LOCATION</th>\n",
       "      <th>ACCESS_COARSE_UPDATES</th>\n",
       "      <th>ACCESS_FINE_LOCATION</th>\n",
       "      <th>ACCESS_LOCATION_EXTRA_COMMANDS</th>\n",
       "      <th>ACCESS_MOCK_LOCATION</th>\n",
       "      <th>ACCESS_MTK_MMHW</th>\n",
       "      <th>ACCESS_NETWORK_STATE</th>\n",
       "      <th>...</th>\n",
       "      <th>Landroid/telephony/TelephonyManager;-&gt;getLine1Number</th>\n",
       "      <th>Landroid/telephony/TelephonyManager;-&gt;getNetworkOperator</th>\n",
       "      <th>Landroid/telephony/TelephonyManager;-&gt;getNetworkOperatorName</th>\n",
       "      <th>Landroid/telephony/TelephonyManager;-&gt;getNetworkCountryIso</th>\n",
       "      <th>Landroid/telephony/TelephonyManager;-&gt;getSimOperator</th>\n",
       "      <th>Landroid/telephony/TelephonyManager;-&gt;getSimOperatorName</th>\n",
       "      <th>Landroid/telephony/TelephonyManager;-&gt;getSimCountryIso</th>\n",
       "      <th>Landroid/telephony/TelephonyManager;-&gt;getSimSerialNumber</th>\n",
       "      <th>Lorg/apache/http/impl/client/DefaultHttpClient;-&gt;execute</th>\n",
       "      <th>Label</th>\n",
       "    </tr>\n",
       "  </thead>\n",
       "  <tbody>\n",
       "    <tr>\n",
       "      <th>0</th>\n",
       "      <td>0</td>\n",
       "      <td>0</td>\n",
       "      <td>0</td>\n",
       "      <td>0</td>\n",
       "      <td>0</td>\n",
       "      <td>0</td>\n",
       "      <td>0</td>\n",
       "      <td>0</td>\n",
       "      <td>0</td>\n",
       "      <td>1</td>\n",
       "      <td>...</td>\n",
       "      <td>1</td>\n",
       "      <td>1</td>\n",
       "      <td>1</td>\n",
       "      <td>0</td>\n",
       "      <td>0</td>\n",
       "      <td>0</td>\n",
       "      <td>0</td>\n",
       "      <td>0</td>\n",
       "      <td>1</td>\n",
       "      <td>1</td>\n",
       "    </tr>\n",
       "    <tr>\n",
       "      <th>1</th>\n",
       "      <td>0</td>\n",
       "      <td>0</td>\n",
       "      <td>0</td>\n",
       "      <td>0</td>\n",
       "      <td>0</td>\n",
       "      <td>0</td>\n",
       "      <td>0</td>\n",
       "      <td>0</td>\n",
       "      <td>0</td>\n",
       "      <td>1</td>\n",
       "      <td>...</td>\n",
       "      <td>0</td>\n",
       "      <td>0</td>\n",
       "      <td>0</td>\n",
       "      <td>1</td>\n",
       "      <td>0</td>\n",
       "      <td>0</td>\n",
       "      <td>1</td>\n",
       "      <td>0</td>\n",
       "      <td>0</td>\n",
       "      <td>1</td>\n",
       "    </tr>\n",
       "    <tr>\n",
       "      <th>2</th>\n",
       "      <td>0</td>\n",
       "      <td>0</td>\n",
       "      <td>0</td>\n",
       "      <td>0</td>\n",
       "      <td>0</td>\n",
       "      <td>0</td>\n",
       "      <td>0</td>\n",
       "      <td>0</td>\n",
       "      <td>0</td>\n",
       "      <td>1</td>\n",
       "      <td>...</td>\n",
       "      <td>0</td>\n",
       "      <td>0</td>\n",
       "      <td>0</td>\n",
       "      <td>0</td>\n",
       "      <td>0</td>\n",
       "      <td>0</td>\n",
       "      <td>0</td>\n",
       "      <td>0</td>\n",
       "      <td>0</td>\n",
       "      <td>1</td>\n",
       "    </tr>\n",
       "    <tr>\n",
       "      <th>3</th>\n",
       "      <td>0</td>\n",
       "      <td>0</td>\n",
       "      <td>0</td>\n",
       "      <td>0</td>\n",
       "      <td>0</td>\n",
       "      <td>0</td>\n",
       "      <td>0</td>\n",
       "      <td>0</td>\n",
       "      <td>0</td>\n",
       "      <td>0</td>\n",
       "      <td>...</td>\n",
       "      <td>0</td>\n",
       "      <td>1</td>\n",
       "      <td>1</td>\n",
       "      <td>1</td>\n",
       "      <td>1</td>\n",
       "      <td>0</td>\n",
       "      <td>1</td>\n",
       "      <td>0</td>\n",
       "      <td>0</td>\n",
       "      <td>1</td>\n",
       "    </tr>\n",
       "    <tr>\n",
       "      <th>4</th>\n",
       "      <td>0</td>\n",
       "      <td>0</td>\n",
       "      <td>0</td>\n",
       "      <td>0</td>\n",
       "      <td>0</td>\n",
       "      <td>0</td>\n",
       "      <td>0</td>\n",
       "      <td>0</td>\n",
       "      <td>0</td>\n",
       "      <td>0</td>\n",
       "      <td>...</td>\n",
       "      <td>0</td>\n",
       "      <td>0</td>\n",
       "      <td>0</td>\n",
       "      <td>0</td>\n",
       "      <td>0</td>\n",
       "      <td>0</td>\n",
       "      <td>0</td>\n",
       "      <td>0</td>\n",
       "      <td>0</td>\n",
       "      <td>1</td>\n",
       "    </tr>\n",
       "  </tbody>\n",
       "</table>\n",
       "<p>5 rows × 242 columns</p>\n",
       "</div>"
      ],
      "text/plain": [
       "   ACCESS_ALL_DOWNLOADS  ACCESS_CACHE_FILESYSTEM  ACCESS_CHECKIN_PROPERTIES  \\\n",
       "0                     0                        0                          0   \n",
       "1                     0                        0                          0   \n",
       "2                     0                        0                          0   \n",
       "3                     0                        0                          0   \n",
       "4                     0                        0                          0   \n",
       "\n",
       "   ACCESS_COARSE_LOCATION  ACCESS_COARSE_UPDATES  ACCESS_FINE_LOCATION  \\\n",
       "0                       0                      0                     0   \n",
       "1                       0                      0                     0   \n",
       "2                       0                      0                     0   \n",
       "3                       0                      0                     0   \n",
       "4                       0                      0                     0   \n",
       "\n",
       "   ACCESS_LOCATION_EXTRA_COMMANDS  ACCESS_MOCK_LOCATION  ACCESS_MTK_MMHW  \\\n",
       "0                               0                     0                0   \n",
       "1                               0                     0                0   \n",
       "2                               0                     0                0   \n",
       "3                               0                     0                0   \n",
       "4                               0                     0                0   \n",
       "\n",
       "   ACCESS_NETWORK_STATE  ...  \\\n",
       "0                     1  ...   \n",
       "1                     1  ...   \n",
       "2                     1  ...   \n",
       "3                     0  ...   \n",
       "4                     0  ...   \n",
       "\n",
       "   Landroid/telephony/TelephonyManager;->getLine1Number  \\\n",
       "0                                                  1      \n",
       "1                                                  0      \n",
       "2                                                  0      \n",
       "3                                                  0      \n",
       "4                                                  0      \n",
       "\n",
       "   Landroid/telephony/TelephonyManager;->getNetworkOperator  \\\n",
       "0                                                  1          \n",
       "1                                                  0          \n",
       "2                                                  0          \n",
       "3                                                  1          \n",
       "4                                                  0          \n",
       "\n",
       "   Landroid/telephony/TelephonyManager;->getNetworkOperatorName  \\\n",
       "0                                                  1              \n",
       "1                                                  0              \n",
       "2                                                  0              \n",
       "3                                                  1              \n",
       "4                                                  0              \n",
       "\n",
       "   Landroid/telephony/TelephonyManager;->getNetworkCountryIso  \\\n",
       "0                                                  0            \n",
       "1                                                  1            \n",
       "2                                                  0            \n",
       "3                                                  1            \n",
       "4                                                  0            \n",
       "\n",
       "   Landroid/telephony/TelephonyManager;->getSimOperator  \\\n",
       "0                                                  0      \n",
       "1                                                  0      \n",
       "2                                                  0      \n",
       "3                                                  1      \n",
       "4                                                  0      \n",
       "\n",
       "   Landroid/telephony/TelephonyManager;->getSimOperatorName  \\\n",
       "0                                                  0          \n",
       "1                                                  0          \n",
       "2                                                  0          \n",
       "3                                                  0          \n",
       "4                                                  0          \n",
       "\n",
       "   Landroid/telephony/TelephonyManager;->getSimCountryIso  \\\n",
       "0                                                  0        \n",
       "1                                                  1        \n",
       "2                                                  0        \n",
       "3                                                  1        \n",
       "4                                                  0        \n",
       "\n",
       "   Landroid/telephony/TelephonyManager;->getSimSerialNumber  \\\n",
       "0                                                  0          \n",
       "1                                                  0          \n",
       "2                                                  0          \n",
       "3                                                  0          \n",
       "4                                                  0          \n",
       "\n",
       "   Lorg/apache/http/impl/client/DefaultHttpClient;->execute  Label  \n",
       "0                                                  1             1  \n",
       "1                                                  0             1  \n",
       "2                                                  0             1  \n",
       "3                                                  0             1  \n",
       "4                                                  0             1  \n",
       "\n",
       "[5 rows x 242 columns]"
      ]
     },
     "execution_count": 34,
     "metadata": {},
     "output_type": "execute_result"
    }
   ],
   "source": [
    "# Load libraries\n",
    "import pandas as pd\n",
    "from sklearn.ensemble import RandomForestClassifier # Import RandomForest Classifier\n",
    "from sklearn.model_selection import train_test_split # Import train_test_split function\n",
    "from sklearn import metrics #Import scikit-learn metrics module for accuracy calculation\n",
    "#make sure you have your labels correct\n",
    "#some files have this in the file - others it is in the description\n",
    "col_names = ['ACCESS_ALL_DOWNLOADS','ACCESS_CACHE_FILESYSTEM','ACCESS_CHECKIN_PROPERTIES',\n",
    "                'ACCESS_COARSE_LOCATION','ACCESS_COARSE_UPDATES','ACCESS_FINE_LOCATION',\n",
    "                'ACCESS_LOCATION_EXTRA_COMMANDS','ACCESS_MOCK_LOCATION','ACCESS_MTK_MMHW',\n",
    "                'ACCESS_NETWORK_STATE','ACCESS_PROVIDER','ACCESS_SERVICE','ACCESS_SHARED_DATA',\n",
    "                'ACCESS_SUPERUSER','ACCESS_SURFACE_FLINGER','ACCESS_WIFI_STATE','activityCalled',\n",
    "                'ACTIVITY_RECOGNITION','ACCOUNT_MANAGER','ADD_VOICEMAIL','ANT','ANT_ADMIN',\n",
    "                'AUTHENTICATE_ACCOUNTS','AUTORUN_MANAGER_LICENSE_MANAGER','AUTORUN_MANAGER_LICENSE_SERVICE(.autorun)',\n",
    "                'BATTERY_STATS','BILLING','BIND_ACCESSIBILITY_SERVICE','BIND_APPWIDGET',\n",
    "                'BIND_CARRIER_MESSAGING_SERVICE','BIND_DEVICE_ADMIN','BIND_DREAM_SERVICE',\n",
    "                'BIND_GET_INSTALL_REFERRER_SERVICE','BIND_INPUT_METHOD','BIND_NFC_SERVICE',\n",
    "                'BIND_goodwareTIFICATION_LISTENER_SERVICE','BIND_PRINT_SERVICE','BIND_REMOTEVIEWS',\n",
    "                'BIND_TEXT_SERVICE','BIND_TV_INPUT','BIND_VOICE_INTERACTION','BIND_VPN_SERVICE',\n",
    "                'BIND_WALLPAPER','BLUETOOTH','BLUETOOTH_ADMIN','BLUETOOTH_PRIVILEGED','BODY_SENSORS',\n",
    "                'BRICK','BROADCAST_PACKAGE_REMOVED','BROADCAST_SMS','BROADCAST_STICKY','BROADCAST_WAP_PUSH',\n",
    "                'C2D_MESSAGE','CALL_PHONE','CALL_PRIVILEGED','CAMERA','CAPTURE_AUDIO_OUTPUT',\n",
    "                'CAPTURE_SECURE_VIDEO_OUTPUT','CAPTURE_VIDEO_OUTPUT','CHANGE_COMPONENT_ENABLED_STATE',\n",
    "                'CHANGE_CONFIGURATION','CHANGE_DISPLAY_MODE','CHANGE_NETWORK_STATE',\n",
    "                'CHANGE_WIFI_MULTICAST_STATE','CHANGE_WIFI_STATE','CHECK_LICENSE','CLEAR_APP_CACHE',\n",
    "                'CLEAR_APP_USER_DATA','CONTROL_LOCATION_UPDATES','DATABASE_INTERFACE_SERVICE',\n",
    "                'DELETE_CACHE_FILES','DELETE_PACKAGES','DEVICE_POWER','DIAGgoodwareSTIC','DISABLE_KEYGUARD',\n",
    "                'DOWNLOAD_SERVICE','DOWNLOAD_WITHOUT_goodwareTIFICATION','DUMP','EXPAND_STATUS_BAR',\n",
    "                'EXTENSION_PERMISSION','FACTORY_TEST','FLASHLIGHT','FORCE_BACK','FULLSCREEN.FULL',\n",
    "                'GET_ACCOUNTS','GET_PACKAGE_SIZE','GET_TASKS','GET_TOP_ACTIVITY_INFO','GLOBAL_SEARCH',\n",
    "                'GOOGLE_AUTH','GOOGLE_PHOTOS','HARDWARE_TEST','INJECT_EVENTS','INSTALL_LOCATION_PROVIDER',\n",
    "                'INSTALL_PACKAGES','INSTALL_SHORTCUT','INTERACT_ACROSS_USERS','INTERNAL_SYSTEM_WINDOW',\n",
    "                'INTERNET','JPUSH_MESSAGE','KILL_BACKGROUND_PROCESSES','LOCATION_HARDWARE','MANAGE_ACCOUNTS',\n",
    "                'MANAGE_APP_TOKENS','MANAGE_DOCUMENTS','MAPS_RECEIVE','MASTER_CLEAR','MEDIA_BUTTON',\n",
    "                'MEDIA_CONTENT_CONTROL','MESSAGE','MODIFY_AUDIO_SETTINGS','MODIFY_PHONE_STATE',\n",
    "                'MOUNT_FORMAT_FILESYSTEMS','MOUNT_UNMOUNT_FILESYSTEMS','NFC','PERSISTENT_ACTIVITY',\n",
    "                'PERMISSION','PERMISSION_RUN_TASKS','PLUGIN','PROCESS_OUTGOING_CALLS','READ',\n",
    "                'READ_ATTACHMENT','READ_AVESTTINGS','READ_CALENDAR','READ_CALL_LOG','READ_CONTACTS',\n",
    "                'READ_CONTENT_PROVIDER','READ_DATA','READ_DATABASES','READ_EXTERNAL_STORAGE',\n",
    "                'READ_FRAME_BUFFER','READ_GMAIL','READ_GSERVICES','READ_HISTORY_BOOKMARKS',\n",
    "                'READ_INPUT_STATE','READ_LOGS','READ_MESSAGES','READ_OWNER_DATA','READ_PHONE_STATE',\n",
    "                'READ_PROFILE','READ_SETTINGS','READ_SMS','READ_SOCIAL_STREAM','READ_SYNC_SETTINGS',\n",
    "                'READ_SYNC_STATS','READ_USER_DICTIONARY','READ_VOICEMAIL','REBOOT','RECEIVE',\n",
    "                'RECEIVE_BOOT_COMPLETED','RECEIVE_MMS','RECEIVE_SIGNED_DATA_RESULT','RECEIVE_SMS',\n",
    "                'RECEIVE_USER_PRESENT','RECEIVE_WAP_PUSH','RECORD_AUDIO','REORDER_TASKS','RESPOND',\n",
    "                'RESTART_PACKAGES','REQUEST','SDCARD_WRITE','SEND','SEND_RESPOND_VIA_MESSAGE','SEND_SMS',\n",
    "                'SET_ACTIVITY_WATCHER','SET_ALARM','SET_ALWAYS_FINISH','SET_ANIMATION_SCALE','SET_DEBUG_APP',\n",
    "                'SET_ORIENTATION','SET_POINTER_SPEED','SET_PREFERRED_APPLICATIONS','SET_PROCESS_LIMIT',\n",
    "                'SET_TIME','SET_TIME_ZONE','SET_WALLPAPER','SET_WALLPAPER_HINTS',\n",
    "                'SIGNAL_PERSISTENT_PROCESSES','STATUS_BAR','STORAGE','SUBSCRIBED_FEEDS_READ',\n",
    "                'SUBSCRIBED_FEEDS_WRITE','SYSTEM_ALERT_WINDOW','TRANSMIT_IR','UNINSTALL_SHORTCUT',\n",
    "                'UPDATE_DEVICE_STATS','USES_POLICY_FORCE_LOCK','USE_CREDENTIALS','USE_FINGERPRINT',\n",
    "                'USE_SIP','VIBRATE','WAKE_LOCK','WRITE','WRITE_APN_SETTINGS','WRITE_AVSETTING',\n",
    "                'WRITE_CALENDAR','WRITE_CALL_LOG','WRITE_CONTACTS','WRITE_DATA','WRITE_DATABASES',\n",
    "                'WRITE_EXTERNAL_STORAGE','WRITE_GSERVICES','WRITE_HISTORY_BOOKMARKS',\n",
    "                'WRITE_INTERNAL_STORAGE','WRITE_MEDIA_STORAGE','WRITE_OWNER_DATA','WRITE_PROFILE',\n",
    "                'WRITE_SECURE_SETTINGS','WRITE_SETTINGS','WRITE_SMS','WRITE_SOCIAL_STREAM',\n",
    "                'WRITE_SYNC_SETTINGS','WRITE_USER_DICTIONARY','WRITE_VOICEMAIL',\n",
    "                'Ljava/lang/reflect/Method;->invoke','Ljavax/crypto/Cipher;->doFinal',\n",
    "                'Ljava/lang/Runtime;->exec','Ljava/lang/System;->load',\n",
    "                'Ldalvik/system/DexClassLoader;->loadClass','Ljava/lang/System;->loadLibrary',\n",
    "                'Ljava/net/URL;->openConnection','Landroid/hardware/Camera;->open',\n",
    "                'Landroid/hardware/Camera;->takePicture',\n",
    "                'Landroid/telephony/SmsManager;->sendMultipartTextMessage',\n",
    "                'Landroid/telephony/SmsManager;->sendTextMessage',\n",
    "                'Landroid/media/AudioRecord;->startRecording',\n",
    "                'Landroid/telephony/TelephonyManager;->getCellLocation',\n",
    "                'Lcom/google/android/gms/location/LocationClient;->getLastLocation',\n",
    "                'Landroid/location/LocationManager;->getLastKgoodwarewnLocation',\n",
    "                'Landroid/telephony/TelephonyManager;->getDeviceId',\n",
    "                'Landroid/content/pm/PackageManager;->getInstalledApplications',\n",
    "                'Landroid/content/pm/PackageManager;->getInstalledPackages',\n",
    "                'Landroid/telephony/TelephonyManager;->getLine1Number',\n",
    "                'Landroid/telephony/TelephonyManager;->getNetworkOperator',\n",
    "                'Landroid/telephony/TelephonyManager;->getNetworkOperatorName',\n",
    "                'Landroid/telephony/TelephonyManager;->getNetworkCountryIso',\n",
    "                'Landroid/telephony/TelephonyManager;->getSimOperator',\n",
    "                'Landroid/telephony/TelephonyManager;->getSimOperatorName',\n",
    "                'Landroid/telephony/TelephonyManager;->getSimCountryIso',\n",
    "                'Landroid/telephony/TelephonyManager;->getSimSerialNumber',\n",
    "                'Lorg/apache/http/impl/client/DefaultHttpClient;->execute',\n",
    "                'Label']\n",
    "# load dataset\n",
    "data = pd.read_csv(\"TUANDROMD.csv\", header=None, names=col_names, low_memory=False)\n",
    "#take a peek to see if this looks right\n",
    "data.head()"
   ]
  },
  {
   "cell_type": "code",
   "execution_count": 35,
   "id": "01f76e6b",
   "metadata": {},
   "outputs": [],
   "source": [
    "#split dataset in features and target variable\n",
    "feature_cols = ['ACCESS_ALL_DOWNLOADS','ACCESS_CACHE_FILESYSTEM','ACCESS_CHECKIN_PROPERTIES',\n",
    "                'ACCESS_COARSE_LOCATION','ACCESS_COARSE_UPDATES','ACCESS_FINE_LOCATION',\n",
    "                'ACCESS_LOCATION_EXTRA_COMMANDS','ACCESS_MOCK_LOCATION','ACCESS_MTK_MMHW',\n",
    "                'ACCESS_NETWORK_STATE','ACCESS_PROVIDER','ACCESS_SERVICE','ACCESS_SHARED_DATA',\n",
    "                'ACCESS_SUPERUSER','ACCESS_SURFACE_FLINGER','ACCESS_WIFI_STATE','activityCalled',\n",
    "                'ACTIVITY_RECOGNITION','ACCOUNT_MANAGER','ADD_VOICEMAIL','ANT','ANT_ADMIN',\n",
    "                'AUTHENTICATE_ACCOUNTS','AUTORUN_MANAGER_LICENSE_MANAGER','AUTORUN_MANAGER_LICENSE_SERVICE(.autorun)',\n",
    "                'BATTERY_STATS','BILLING','BIND_ACCESSIBILITY_SERVICE','BIND_APPWIDGET',\n",
    "                'BIND_CARRIER_MESSAGING_SERVICE','BIND_DEVICE_ADMIN','BIND_DREAM_SERVICE',\n",
    "                'BIND_GET_INSTALL_REFERRER_SERVICE','BIND_INPUT_METHOD','BIND_NFC_SERVICE',\n",
    "                'BIND_goodwareTIFICATION_LISTENER_SERVICE','BIND_PRINT_SERVICE','BIND_REMOTEVIEWS',\n",
    "                'BIND_TEXT_SERVICE','BIND_TV_INPUT','BIND_VOICE_INTERACTION','BIND_VPN_SERVICE',\n",
    "                'BIND_WALLPAPER','BLUETOOTH','BLUETOOTH_ADMIN','BLUETOOTH_PRIVILEGED','BODY_SENSORS',\n",
    "                'BRICK','BROADCAST_PACKAGE_REMOVED','BROADCAST_SMS','BROADCAST_STICKY','BROADCAST_WAP_PUSH',\n",
    "                'C2D_MESSAGE','CALL_PHONE','CALL_PRIVILEGED','CAMERA','CAPTURE_AUDIO_OUTPUT',\n",
    "                'CAPTURE_SECURE_VIDEO_OUTPUT','CAPTURE_VIDEO_OUTPUT','CHANGE_COMPONENT_ENABLED_STATE',\n",
    "                'CHANGE_CONFIGURATION','CHANGE_DISPLAY_MODE','CHANGE_NETWORK_STATE',\n",
    "                'CHANGE_WIFI_MULTICAST_STATE','CHANGE_WIFI_STATE','CHECK_LICENSE','CLEAR_APP_CACHE',\n",
    "                'CLEAR_APP_USER_DATA','CONTROL_LOCATION_UPDATES','DATABASE_INTERFACE_SERVICE',\n",
    "                'DELETE_CACHE_FILES','DELETE_PACKAGES','DEVICE_POWER','DIAGgoodwareSTIC','DISABLE_KEYGUARD',\n",
    "                'DOWNLOAD_SERVICE','DOWNLOAD_WITHOUT_goodwareTIFICATION','DUMP','EXPAND_STATUS_BAR',\n",
    "                'EXTENSION_PERMISSION','FACTORY_TEST','FLASHLIGHT','FORCE_BACK','FULLSCREEN.FULL',\n",
    "                'GET_ACCOUNTS','GET_PACKAGE_SIZE','GET_TASKS','GET_TOP_ACTIVITY_INFO','GLOBAL_SEARCH',\n",
    "                'GOOGLE_AUTH','GOOGLE_PHOTOS','HARDWARE_TEST','INJECT_EVENTS','INSTALL_LOCATION_PROVIDER',\n",
    "                'INSTALL_PACKAGES','INSTALL_SHORTCUT','INTERACT_ACROSS_USERS','INTERNAL_SYSTEM_WINDOW',\n",
    "                'INTERNET','JPUSH_MESSAGE','KILL_BACKGROUND_PROCESSES','LOCATION_HARDWARE','MANAGE_ACCOUNTS',\n",
    "                'MANAGE_APP_TOKENS','MANAGE_DOCUMENTS','MAPS_RECEIVE','MASTER_CLEAR','MEDIA_BUTTON',\n",
    "                'MEDIA_CONTENT_CONTROL','MESSAGE','MODIFY_AUDIO_SETTINGS','MODIFY_PHONE_STATE',\n",
    "                'MOUNT_FORMAT_FILESYSTEMS','MOUNT_UNMOUNT_FILESYSTEMS','NFC','PERSISTENT_ACTIVITY',\n",
    "                'PERMISSION','PERMISSION_RUN_TASKS','PLUGIN','PROCESS_OUTGOING_CALLS','READ',\n",
    "                'READ_ATTACHMENT','READ_AVESTTINGS','READ_CALENDAR','READ_CALL_LOG','READ_CONTACTS',\n",
    "                'READ_CONTENT_PROVIDER','READ_DATA','READ_DATABASES','READ_EXTERNAL_STORAGE',\n",
    "                'READ_FRAME_BUFFER','READ_GMAIL','READ_GSERVICES','READ_HISTORY_BOOKMARKS',\n",
    "                'READ_INPUT_STATE','READ_LOGS','READ_MESSAGES','READ_OWNER_DATA','READ_PHONE_STATE',\n",
    "                'READ_PROFILE','READ_SETTINGS','READ_SMS','READ_SOCIAL_STREAM','READ_SYNC_SETTINGS',\n",
    "                'READ_SYNC_STATS','READ_USER_DICTIONARY','READ_VOICEMAIL','REBOOT','RECEIVE',\n",
    "                'RECEIVE_BOOT_COMPLETED','RECEIVE_MMS','RECEIVE_SIGNED_DATA_RESULT','RECEIVE_SMS',\n",
    "                'RECEIVE_USER_PRESENT','RECEIVE_WAP_PUSH','RECORD_AUDIO','REORDER_TASKS','RESPOND',\n",
    "                'RESTART_PACKAGES','REQUEST','SDCARD_WRITE','SEND','SEND_RESPOND_VIA_MESSAGE','SEND_SMS',\n",
    "                'SET_ACTIVITY_WATCHER','SET_ALARM','SET_ALWAYS_FINISH','SET_ANIMATION_SCALE','SET_DEBUG_APP',\n",
    "                'SET_ORIENTATION','SET_POINTER_SPEED','SET_PREFERRED_APPLICATIONS','SET_PROCESS_LIMIT',\n",
    "                'SET_TIME','SET_TIME_ZONE','SET_WALLPAPER','SET_WALLPAPER_HINTS',\n",
    "                'SIGNAL_PERSISTENT_PROCESSES','STATUS_BAR','STORAGE','SUBSCRIBED_FEEDS_READ',\n",
    "                'SUBSCRIBED_FEEDS_WRITE','SYSTEM_ALERT_WINDOW','TRANSMIT_IR','UNINSTALL_SHORTCUT',\n",
    "                'UPDATE_DEVICE_STATS','USES_POLICY_FORCE_LOCK','USE_CREDENTIALS','USE_FINGERPRINT',\n",
    "                'USE_SIP','VIBRATE','WAKE_LOCK','WRITE','WRITE_APN_SETTINGS','WRITE_AVSETTING',\n",
    "                'WRITE_CALENDAR','WRITE_CALL_LOG','WRITE_CONTACTS','WRITE_DATA','WRITE_DATABASES',\n",
    "                'WRITE_EXTERNAL_STORAGE','WRITE_GSERVICES','WRITE_HISTORY_BOOKMARKS',\n",
    "                'WRITE_INTERNAL_STORAGE','WRITE_MEDIA_STORAGE','WRITE_OWNER_DATA','WRITE_PROFILE',\n",
    "                'WRITE_SECURE_SETTINGS','WRITE_SETTINGS','WRITE_SMS','WRITE_SOCIAL_STREAM',\n",
    "                'WRITE_SYNC_SETTINGS','WRITE_USER_DICTIONARY','WRITE_VOICEMAIL',\n",
    "                'Ljava/lang/reflect/Method;->invoke','Ljavax/crypto/Cipher;->doFinal',\n",
    "                'Ljava/lang/Runtime;->exec','Ljava/lang/System;->load',\n",
    "                'Ldalvik/system/DexClassLoader;->loadClass','Ljava/lang/System;->loadLibrary',\n",
    "                'Ljava/net/URL;->openConnection','Landroid/hardware/Camera;->open',\n",
    "                'Landroid/hardware/Camera;->takePicture',\n",
    "                'Landroid/telephony/SmsManager;->sendMultipartTextMessage',\n",
    "                'Landroid/telephony/SmsManager;->sendTextMessage',\n",
    "                'Landroid/media/AudioRecord;->startRecording',\n",
    "                'Landroid/telephony/TelephonyManager;->getCellLocation',\n",
    "                'Lcom/google/android/gms/location/LocationClient;->getLastLocation',\n",
    "                'Landroid/location/LocationManager;->getLastKgoodwarewnLocation',\n",
    "                'Landroid/telephony/TelephonyManager;->getDeviceId',\n",
    "                'Landroid/content/pm/PackageManager;->getInstalledApplications',\n",
    "                'Landroid/content/pm/PackageManager;->getInstalledPackages',\n",
    "                'Landroid/telephony/TelephonyManager;->getLine1Number',\n",
    "                'Landroid/telephony/TelephonyManager;->getNetworkOperator',\n",
    "                'Landroid/telephony/TelephonyManager;->getNetworkOperatorName',\n",
    "                'Landroid/telephony/TelephonyManager;->getNetworkCountryIso',\n",
    "                'Landroid/telephony/TelephonyManager;->getSimOperator',\n",
    "                'Landroid/telephony/TelephonyManager;->getSimOperatorName',\n",
    "                'Landroid/telephony/TelephonyManager;->getSimCountryIso',\n",
    "                'Landroid/telephony/TelephonyManager;->getSimSerialNumber',\n",
    "                'Lorg/apache/http/impl/client/DefaultHttpClient;->execute']\n",
    "\n",
    "X = data[feature_cols] # Features\n",
    "y = data.Label # Target variable - notice - you need to spell the column name for the target correctly for this to work\n",
    "# Split dataset into training set and test set\n",
    "X_train, X_test, y_train, y_test = train_test_split(X, y, test_size=0.3, random_state=1)\n",
    "# 70% training and 30% test"
   ]
  },
  {
   "cell_type": "markdown",
   "id": "56af3fc5",
   "metadata": {},
   "source": [
    "# Judgement of Dataset (Models/metrics to use)\n",
    "\n",
    "<p>For this data set, it will be best to use a Decision tree type of classifier. This is because when dealing with KNN, there will be 241 individual dimensions it has to compute across which will make the KNN algorithm be less effective and hence lead to a lower accuracy and higher standard deviation overall. Since the data is also binary, it makes sense to use the Decision tree due to the nicely valued data.\n",
    "<br/>\n",
    "<br/>\n",
    "Also, my dataset is based on whether computer applications are malware or goodware. This being said, I think it could be good to look at the recall, since the cost/damage done by misclassifying a malware as a goodware could be bad for the user checking the applications using this machine learning algorithm.\n",
    "   \n",
    "</p>"
   ]
  },
  {
   "cell_type": "code",
   "execution_count": 36,
   "id": "3c556f96",
   "metadata": {},
   "outputs": [
    {
     "name": "stdout",
     "output_type": "stream",
     "text": [
      "Accuracy: 0.9865671641791045\n"
     ]
    }
   ],
   "source": [
    "# Split dataset into training set and test set\n",
    "X_train, X_test, y_train, y_test = train_test_split(X, y, test_size=0.3,\n",
    "random_state=1) # 70% training and 30% test\n",
    "# Create Decision Tree classifer object\n",
    "oneTree = DecisionTreeClassifier()\n",
    "# Train Decision Tree Classifer\n",
    "oneTree.fit(X_train,y_train)\n",
    "y_pred = oneTree.predict(X_test)\n",
    "# Model Accuracy, how often is the classifier correct?\n",
    "print(f\"Accuracy: {metrics.accuracy_score(y_test, y_pred)}\")"
   ]
  },
  {
   "cell_type": "code",
   "execution_count": 76,
   "id": "bc5701fc",
   "metadata": {},
   "outputs": [
    {
     "name": "stdout",
     "output_type": "stream",
     "text": [
      "Accuracy: 0.9975358422939069 (0.0033973456290553707)\n"
     ]
    }
   ],
   "source": [
    "#K-fold Cross-Validation\n",
    "'''\n",
    "In k-fold cross-validation, the data is divided into k folds.\n",
    "The model is trained on k-1 folds with one fold held back for testing.\n",
    "This process gets repeated to ensure each fold of the dataset gets the\n",
    "chance to be the held back set. Once the process is completed,\n",
    "we can summarize the evaluation metric using the mean or/and the standard\n",
    "deviation.\n",
    "'''\n",
    "\n",
    "# sidenote: having n_splits of 10 below causes warning due to weird splitting of the data\n",
    "kfold = model_selection.KFold(n_splits=9)\n",
    "model_kfold = DecisionTreeClassifier()\n",
    "results_kfold = model_selection.cross_val_score(model_kfold, X, y, cv=kfold, scoring='recall')\n",
    "print(f\"Accuracy: {results_kfold.mean()} ({results_kfold.std()})\")"
   ]
  },
  {
   "cell_type": "code",
   "execution_count": 77,
   "id": "a4dbe953",
   "metadata": {},
   "outputs": [
    {
     "name": "stdout",
     "output_type": "stream",
     "text": [
      "Accuracy: 0.9969164070122432 (0.004239751233238321)\n"
     ]
    }
   ],
   "source": [
    "#Stratified K-fold Cross-Validation\n",
    "'''\n",
    "Stratified K-Fold approach is a variation of k-fold cross-validation\n",
    "that returns stratified folds, i.e., each set containing approximately\n",
    "the same ratio of target labels as the complete data.\n",
    "'''\n",
    "skfold = StratifiedKFold(n_splits=10)\n",
    "model_skfold = DecisionTreeClassifier()\n",
    "results_skfold = model_selection.cross_val_score(model_skfold, X, y,\n",
    "cv=skfold, scoring='recall')\n",
    "print(f\"Accuracy: {results_skfold.mean()} ({results_skfold.std()})\")"
   ]
  },
  {
   "cell_type": "markdown",
   "id": "9c95b2ae",
   "metadata": {},
   "source": [
    "### Not testing Leave one out cross validation due to size of the dataset"
   ]
  },
  {
   "cell_type": "code",
   "execution_count": 78,
   "id": "4b9d8e44",
   "metadata": {},
   "outputs": [
    {
     "name": "stdout",
     "output_type": "stream",
     "text": [
      "Accuracy: 0.994796260132692 (0.002116156551054443)\n"
     ]
    }
   ],
   "source": [
    "#Repeated Random Test-Train Splits\n",
    "'''\n",
    "This technique is a hybrid of traditional train-test splitting and the k-fold\n",
    "cross-validation method. In this technique, we create random splits of the\n",
    "data\n",
    "in the training-test set manner and then repeat the process of splitting and\n",
    "evaluating the algorithm multiple times, just like the cross-validation\n",
    "method.\n",
    "'''\n",
    "kfold2 = model_selection.ShuffleSplit(n_splits=10, test_size=0.30,\n",
    "random_state=100)\n",
    "model_shufflecv = DecisionTreeClassifier()\n",
    "results_shufflecv = model_selection.cross_val_score(model_shufflecv, X, y,\n",
    "cv=kfold2, scoring='recall')\n",
    "print(f\"Accuracy: {results_shufflecv.mean()} ({results_shufflecv.std()})\")"
   ]
  },
  {
   "cell_type": "code",
   "execution_count": null,
   "id": "b6ffb942",
   "metadata": {},
   "outputs": [],
   "source": []
  },
  {
   "cell_type": "code",
   "execution_count": 83,
   "id": "48846681",
   "metadata": {},
   "outputs": [
    {
     "name": "stdout",
     "output_type": "stream",
     "text": [
      "Tree depth 2: 0.9453488026790343 (0.008807077410513106)\n",
      "Tree depth 3: 0.9747405922534773 (0.0092878762238927)\n",
      "Tree depth 4: 0.9811625688124145 (0.008632224702479502)\n",
      "Tree depth 5: 0.9843772311927653 (0.00765750949149403)\n",
      "Tree depth 6: 0.9863279617466557 (0.007927323787074132)\n",
      "Tree depth 7: 0.9887643896992253 (0.006819317051569918)\n",
      "Tree depth 8: 0.9944137899882024 (0.005285143913727864)\n",
      "Tree depth 9: 0.9932028095646692 (0.005112587738404643)\n",
      "Tree depth 10: 0.9944137899882024 (0.005285143913727864)\n",
      "Tree depth 11: 0.9944137899882024 (0.005285143913727864)\n",
      "Tree depth 12: 0.9944137899882024 (0.005285143913727864)\n",
      "Tree depth 13: 0.9944137899882024 (0.005285143913727864)\n",
      "Tree depth 14: 0.9944137899882024 (0.005285143913727864)\n",
      "Tree depth 15: 0.9944137899882024 (0.005285143913727864)\n",
      "Tree depth 16: 0.9944137899882024 (0.005285143913727864)\n",
      "Tree depth 17: 0.9944137899882024 (0.005285143913727864)\n",
      "Tree depth 18: 0.9944137899882024 (0.005285143913727864)\n",
      "Tree depth 19: 0.9944137899882024 (0.005285143913727864)\n",
      "Tree depth 20: 0.9944137899882024 (0.005285143913727864)\n",
      "Tree depth 21: 0.9944137899882024 (0.005285143913727864)\n",
      "Tree depth 22: 0.9944137899882024 (0.005285143913727864)\n",
      "Tree depth 23: 0.9944137899882024 (0.005285143913727864)\n",
      "Tree depth 24: 0.9944137899882024 (0.005285143913727864)\n"
     ]
    }
   ],
   "source": [
    "def lookAtModelsRecall(models):\n",
    "    results=[]\n",
    "    names=[]\n",
    "    for name, model in models:\n",
    "        skfold = model_selection.KFold(n_splits=9)\n",
    "        cv_results= cross_val_score(model, X_train, y_train, cv=skfold,\n",
    "        scoring='recall')\n",
    "        results.append(cv_results)\n",
    "        names.append(name)\n",
    "        print(f'{name}: {cv_results.mean()} ({cv_results.std()})')\n",
    "    return names, results#if you wish to graph later\n",
    "\n",
    "\n",
    "#make all your models\n",
    "models =[]\n",
    "for d in range(2,25):\n",
    "    models.append((f'Tree depth {d}',DecisionTreeClassifier(criterion=\"entropy\",max_depth=d)))\n",
    "#see your results\n",
    "names,results = lookAtModelsRecall(models)"
   ]
  },
  {
   "cell_type": "code",
   "execution_count": 80,
   "id": "c73a4f6d",
   "metadata": {},
   "outputs": [
    {
     "data": {
      "image/png": "[encoded data removed]",
      "text/plain": [
       "<Figure size 640x480 with 1 Axes>"
      ]
     },
     "metadata": {},
     "output_type": "display_data"
    }
   ],
   "source": [
    "D2_mean = np.mean(results[0])\n",
    "D2_std= np.std(results[0])\n",
    "D3_mean = np.mean(results[1])\n",
    "D3_std = np.std(results[1])\n",
    "D4_mean = np.mean(results[2])\n",
    "D4_std = np.std(results[2])\n",
    "D5_mean = np.mean(results[3])\n",
    "D5_std = np.std(results[3])\n",
    "D6_mean = np.mean(results[4])\n",
    "D6_std = np.std(results[4])\n",
    "D7_mean = np.mean(results[5])\n",
    "D7_std = np.std(results[5])\n",
    "D8_mean = np.mean(results[6])\n",
    "D8_std = np.std(results[6])\n",
    "D9_mean = np.mean(results[7])\n",
    "D9_std = np.std(results[7])\n",
    "\n",
    "#lists for plot – I bet there is a better way to do this\n",
    "depth =['2','3','4','5','6','7','8','9']\n",
    "x_pos = np.arange(len(depth))\n",
    "#print(x_pos)\n",
    "Means = [D2_mean,D3_mean,D4_mean,D5_mean,D6_mean,D7_mean,D8_mean,D9_mean]\n",
    "error = [D2_std,D3_std,D4_std,D5_std,D6_std,D7_std,D8_std,D9_std]\n",
    "# Build the plot\n",
    "fig, ax = plt.subplots()\n",
    "ax.bar(x_pos, Means, yerr=error, align='center', alpha=0.5, ecolor='black',\n",
    "capsize=10)\n",
    "ax.set_ylabel('Recall')\n",
    "ax.set_xticks(x_pos)\n",
    "ax.set_xticklabels(depth)\n",
    "ax.set_title('Recall scores of different depths')\n",
    "ax.yaxis.grid(True)"
   ]
  },
  {
   "cell_type": "code",
   "execution_count": 81,
   "id": "34d123e2",
   "metadata": {},
   "outputs": [
    {
     "data": {
      "image/png": "[encoded data removed]",
      "text/plain": [
       "<Figure size 640x480 with 1 Axes>"
      ]
     },
     "metadata": {},
     "output_type": "display_data"
    }
   ],
   "source": [
    "#didn't feel like relabeling all the variables fully, this is really\n",
    "# D10 - D18\n",
    "D2a_mean = np.mean(results[8])\n",
    "D2a_std= np.std(results[8])\n",
    "D3a_mean = np.mean(results[9])\n",
    "D3a_std = np.std(results[9])\n",
    "D4a_mean = np.mean(results[10])\n",
    "D4a_std = np.std(results[10])\n",
    "D5a_mean = np.mean(results[11])\n",
    "D5a_std = np.std(results[11])\n",
    "D6a_mean = np.mean(results[12])\n",
    "D6a_std = np.std(results[12])\n",
    "D7a_mean = np.mean(results[13])\n",
    "D7a_std = np.std(results[13])\n",
    "D8a_mean = np.mean(results[14])\n",
    "D8a_std = np.std(results[14])\n",
    "D9a_mean = np.mean(results[15])\n",
    "D9a_std = np.std(results[15])\n",
    "D10a_mean = np.mean(results[16])\n",
    "D10a_std = np.std(results[16])\n",
    "\n",
    "#lists for plot – I bet there is a better way to do this\n",
    "depth =['10','11','12','13','14','15','16','17','18']\n",
    "x_pos = np.arange(len(depth))\n",
    "#print(x_pos)\n",
    "Means = [D2a_mean,D3a_mean,D4a_mean,D5a_mean,D6a_mean,D7a_mean,D8a_mean,D9a_mean,D10a_mean]\n",
    "error = [D2a_std,D3a_std,D4a_std,D5a_std,D6a_std,D7a_std,D8a_std,D9a_std,D10a_std]\n",
    "# Build the plot\n",
    "fig, ax = plt.subplots()\n",
    "ax.bar(x_pos, Means, yerr=error, align='center', alpha=0.5, ecolor='black',\n",
    "capsize=10)\n",
    "ax.set_ylabel('Recall')\n",
    "ax.set_xticks(x_pos)\n",
    "ax.set_xticklabels(depth)\n",
    "ax.set_title('Recall scores of different depths')\n",
    "ax.yaxis.grid(True)"
   ]
  },
  {
   "cell_type": "code",
   "execution_count": 85,
   "id": "ffee784e",
   "metadata": {},
   "outputs": [
    {
     "name": "stdout",
     "output_type": "stream",
     "text": [
      "Tree depth 2: 0.9678648996901722 (0.005799979623915232)\n",
      "Tree depth 3: 0.9693665233460576 (0.005194346138822556)\n",
      "Tree depth 4: 0.9823134957053258 (0.003942103750089606)\n",
      "Tree depth 5: 0.9849174747206622 (0.0035938701451625325)\n",
      "Tree depth 6: 0.9875129019124425 (0.004741364288642439)\n",
      "Tree depth 7: 0.9883311598656641 (0.005314385918588001)\n",
      "Tree depth 8: 0.9921599872194139 (0.003956653514275018)\n",
      "Tree depth 9: 0.9917580454287876 (0.0042416289588125865)\n",
      "Tree depth 10: 0.9923482237001 (0.003440581760055756)\n",
      "Tree depth 11: 0.9933656551636818 (0.0029530737382365466)\n",
      "Tree depth 12: 0.9929616805357002 (0.0036891844944334363)\n",
      "Tree depth 13: 0.9929616805357002 (0.0036891844944334363)\n",
      "Tree depth 14: 0.9933836737107836 (0.0030577658380365738)\n",
      "Tree depth 15: 0.9935630030354484 (0.002971785039410385)\n",
      "Tree depth 16: 0.992766409826099 (0.0035420865569117505)\n",
      "Tree depth 17: 0.9933778171890515 (0.0030625827079167976)\n",
      "Tree depth 18: 0.9929616805357002 (0.0036891844944334363)\n",
      "Tree depth 19: 0.9929710301375173 (0.003684054206416098)\n"
     ]
    }
   ],
   "source": [
    "# seems to be best from 10 or more depth range, lets look at f1 along\n",
    "#with it to decide a good depth - since f1 will be a good accuracy measurement\n",
    "def lookAtModelsf1(models):\n",
    "    results=[]\n",
    "    names=[]\n",
    "    for name, model in models:\n",
    "        skfold = model_selection.KFold(n_splits=9)\n",
    "        cv_results= cross_val_score(model, X_train, y_train, cv=skfold,\n",
    "        scoring='f1')\n",
    "        results.append(cv_results)\n",
    "        names.append(name)\n",
    "        print(f'{name}: {cv_results.mean()} ({cv_results.std()})')\n",
    "    return names, results#if you wish to graph later\n",
    "\n",
    "\n",
    "#make all your models\n",
    "models =[]\n",
    "for d in range(2,20):\n",
    "    models.append((f'Tree depth {d}',DecisionTreeClassifier(criterion=\"entropy\",max_depth=d)))\n",
    "#see your results\n",
    "names,results = lookAtModelsf1(models)"
   ]
  },
  {
   "cell_type": "markdown",
   "id": "fada5dcb",
   "metadata": {},
   "source": [
    "#### Since Depth 10+ worked best for recall in the stratified k-fold validation, and 11 is best for f1 score with k-fold validation, the overall best for recall along with f1-score is at depth 11"
   ]
  },
  {
   "cell_type": "markdown",
   "id": "f279fa75",
   "metadata": {},
   "source": [
    "# Question Page 11 Final Hyperparameter Thoughts\n",
    "<p>There was a best setting for my hyperparamenter in the contexts of the data, evaluation method, and the validation technique used. I was able to find that recall converged to a certain score after a tree depth of 10, so I decided to use f1-score as a second measure to get an overall good accuracy evaluation as well, which led me to tune my hyperparameter of depth of my decision tree to 11 maximum. Overall, my data had a really good average values for all validation techniques and always had a <1% standard deviation overall. </p>"
   ]
  }
 ],
 "metadata": {
  "kernelspec": {
   "display_name": "Python 3 (ipykernel)",
   "language": "python",
   "name": "python3"
  },
  "language_info": {
   "codemirror_mode": {
    "name": "ipython",
    "version": 3
   },
   "file_extension": ".py",
   "mimetype": "text/x-python",
   "name": "python",
   "nbconvert_exporter": "python",
   "pygments_lexer": "ipython3",
   "version": "3.11.4"
  }
 },
 "nbformat": 4,
 "nbformat_minor": 5
}
