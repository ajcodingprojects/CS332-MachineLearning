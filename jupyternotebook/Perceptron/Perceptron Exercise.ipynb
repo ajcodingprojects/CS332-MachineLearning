{
 "cells": [
  {
   "cell_type": "code",
   "execution_count": 24,
   "id": "795ad9ed",
   "metadata": {},
   "outputs": [
    {
     "data": {
      "text/html": [
       "<div>\n",
       "<style scoped>\n",
       "    .dataframe tbody tr th:only-of-type {\n",
       "        vertical-align: middle;\n",
       "    }\n",
       "\n",
       "    .dataframe tbody tr th {\n",
       "        vertical-align: top;\n",
       "    }\n",
       "\n",
       "    .dataframe thead th {\n",
       "        text-align: right;\n",
       "    }\n",
       "</style>\n",
       "<table border=\"1\" class=\"dataframe\">\n",
       "  <thead>\n",
       "    <tr style=\"text-align: right;\">\n",
       "      <th></th>\n",
       "      <th>pregnancies</th>\n",
       "      <th>glucose</th>\n",
       "      <th>blood_pressure</th>\n",
       "      <th>skin_thickness</th>\n",
       "      <th>insulin</th>\n",
       "      <th>bmi</th>\n",
       "      <th>diabetes_pedigree_function</th>\n",
       "      <th>age</th>\n",
       "      <th>outcome</th>\n",
       "    </tr>\n",
       "  </thead>\n",
       "  <tbody>\n",
       "    <tr>\n",
       "      <th>0</th>\n",
       "      <td>6</td>\n",
       "      <td>148</td>\n",
       "      <td>72</td>\n",
       "      <td>35</td>\n",
       "      <td>0</td>\n",
       "      <td>33.6</td>\n",
       "      <td>0.627</td>\n",
       "      <td>50</td>\n",
       "      <td>1</td>\n",
       "    </tr>\n",
       "    <tr>\n",
       "      <th>1</th>\n",
       "      <td>1</td>\n",
       "      <td>85</td>\n",
       "      <td>66</td>\n",
       "      <td>29</td>\n",
       "      <td>0</td>\n",
       "      <td>26.6</td>\n",
       "      <td>0.351</td>\n",
       "      <td>31</td>\n",
       "      <td>0</td>\n",
       "    </tr>\n",
       "    <tr>\n",
       "      <th>2</th>\n",
       "      <td>8</td>\n",
       "      <td>183</td>\n",
       "      <td>64</td>\n",
       "      <td>0</td>\n",
       "      <td>0</td>\n",
       "      <td>23.3</td>\n",
       "      <td>0.672</td>\n",
       "      <td>32</td>\n",
       "      <td>1</td>\n",
       "    </tr>\n",
       "    <tr>\n",
       "      <th>3</th>\n",
       "      <td>1</td>\n",
       "      <td>89</td>\n",
       "      <td>66</td>\n",
       "      <td>23</td>\n",
       "      <td>94</td>\n",
       "      <td>28.1</td>\n",
       "      <td>0.167</td>\n",
       "      <td>21</td>\n",
       "      <td>0</td>\n",
       "    </tr>\n",
       "    <tr>\n",
       "      <th>4</th>\n",
       "      <td>0</td>\n",
       "      <td>137</td>\n",
       "      <td>40</td>\n",
       "      <td>35</td>\n",
       "      <td>168</td>\n",
       "      <td>43.1</td>\n",
       "      <td>2.288</td>\n",
       "      <td>33</td>\n",
       "      <td>1</td>\n",
       "    </tr>\n",
       "  </tbody>\n",
       "</table>\n",
       "</div>"
      ],
      "text/plain": [
       "   pregnancies  glucose  blood_pressure  skin_thickness  insulin   bmi  \\\n",
       "0            6      148              72              35        0  33.6   \n",
       "1            1       85              66              29        0  26.6   \n",
       "2            8      183              64               0        0  23.3   \n",
       "3            1       89              66              23       94  28.1   \n",
       "4            0      137              40              35      168  43.1   \n",
       "\n",
       "   diabetes_pedigree_function  age  outcome  \n",
       "0                       0.627   50        1  \n",
       "1                       0.351   31        0  \n",
       "2                       0.672   32        1  \n",
       "3                       0.167   21        0  \n",
       "4                       2.288   33        1  "
      ]
     },
     "execution_count": 24,
     "metadata": {},
     "output_type": "execute_result"
    }
   ],
   "source": [
    "#load the needed libraries:\n",
    "import pandas as pd\n",
    "from sklearn.preprocessing import StandardScaler\n",
    "from sklearn.linear_model import Perceptron\n",
    "from sklearn.model_selection import train_test_split\n",
    "from sklearn import metrics #Import scikit-learn metrics module for metric evaluations\n",
    "import numpy as np\n",
    "#make sure you have your labels correct\n",
    "#some files have this in the file - others it is in the description\n",
    "#if it is in the file you can copy them here then delete that line in the file\n",
    "col_names = ['pregnancies', 'glucose', 'blood_pressure', 'skin_thickness',\n",
    "'insulin', 'bmi', 'diabetes_pedigree_function', 'age', 'outcome']\n",
    "# load dataset\n",
    "data = pd.read_csv(\"diabetes.csv\", header=None, names=col_names)\n",
    "#take a peek to see if this looks right\n",
    "data.head()#optional"
   ]
  },
  {
   "cell_type": "code",
   "execution_count": 25,
   "id": "04288021",
   "metadata": {},
   "outputs": [
    {
     "data": {
      "text/html": [
       "<div>\n",
       "<style scoped>\n",
       "    .dataframe tbody tr th:only-of-type {\n",
       "        vertical-align: middle;\n",
       "    }\n",
       "\n",
       "    .dataframe tbody tr th {\n",
       "        vertical-align: top;\n",
       "    }\n",
       "\n",
       "    .dataframe thead th {\n",
       "        text-align: right;\n",
       "    }\n",
       "</style>\n",
       "<table border=\"1\" class=\"dataframe\">\n",
       "  <thead>\n",
       "    <tr style=\"text-align: right;\">\n",
       "      <th></th>\n",
       "      <th>pregnancies</th>\n",
       "      <th>glucose</th>\n",
       "      <th>blood_pressure</th>\n",
       "      <th>skin_thickness</th>\n",
       "      <th>insulin</th>\n",
       "      <th>bmi</th>\n",
       "      <th>diabetes_pedigree_function</th>\n",
       "      <th>age</th>\n",
       "    </tr>\n",
       "  </thead>\n",
       "  <tbody>\n",
       "    <tr>\n",
       "      <th>0</th>\n",
       "      <td>0.639947</td>\n",
       "      <td>0.848324</td>\n",
       "      <td>0.149641</td>\n",
       "      <td>0.907270</td>\n",
       "      <td>-0.692891</td>\n",
       "      <td>0.204013</td>\n",
       "      <td>0.468492</td>\n",
       "      <td>1.425995</td>\n",
       "    </tr>\n",
       "    <tr>\n",
       "      <th>1</th>\n",
       "      <td>-0.844885</td>\n",
       "      <td>-1.123396</td>\n",
       "      <td>-0.160546</td>\n",
       "      <td>0.530902</td>\n",
       "      <td>-0.692891</td>\n",
       "      <td>-0.684422</td>\n",
       "      <td>-0.365061</td>\n",
       "      <td>-0.190672</td>\n",
       "    </tr>\n",
       "    <tr>\n",
       "      <th>2</th>\n",
       "      <td>1.233880</td>\n",
       "      <td>1.943724</td>\n",
       "      <td>-0.263941</td>\n",
       "      <td>-1.288212</td>\n",
       "      <td>-0.692891</td>\n",
       "      <td>-1.103255</td>\n",
       "      <td>0.604397</td>\n",
       "      <td>-0.105584</td>\n",
       "    </tr>\n",
       "    <tr>\n",
       "      <th>3</th>\n",
       "      <td>-0.844885</td>\n",
       "      <td>-0.998208</td>\n",
       "      <td>-0.160546</td>\n",
       "      <td>0.154533</td>\n",
       "      <td>0.123302</td>\n",
       "      <td>-0.494043</td>\n",
       "      <td>-0.920763</td>\n",
       "      <td>-1.041549</td>\n",
       "    </tr>\n",
       "    <tr>\n",
       "      <th>4</th>\n",
       "      <td>-1.141852</td>\n",
       "      <td>0.504055</td>\n",
       "      <td>-1.504687</td>\n",
       "      <td>0.907270</td>\n",
       "      <td>0.765836</td>\n",
       "      <td>1.409746</td>\n",
       "      <td>5.484909</td>\n",
       "      <td>-0.020496</td>\n",
       "    </tr>\n",
       "  </tbody>\n",
       "</table>\n",
       "</div>"
      ],
      "text/plain": [
       "   pregnancies   glucose  blood_pressure  skin_thickness   insulin       bmi  \\\n",
       "0     0.639947  0.848324        0.149641        0.907270 -0.692891  0.204013   \n",
       "1    -0.844885 -1.123396       -0.160546        0.530902 -0.692891 -0.684422   \n",
       "2     1.233880  1.943724       -0.263941       -1.288212 -0.692891 -1.103255   \n",
       "3    -0.844885 -0.998208       -0.160546        0.154533  0.123302 -0.494043   \n",
       "4    -1.141852  0.504055       -1.504687        0.907270  0.765836  1.409746   \n",
       "\n",
       "   diabetes_pedigree_function       age  \n",
       "0                    0.468492  1.425995  \n",
       "1                   -0.365061 -0.190672  \n",
       "2                    0.604397 -0.105584  \n",
       "3                   -0.920763 -1.041549  \n",
       "4                    5.484909 -0.020496  "
      ]
     },
     "execution_count": 25,
     "metadata": {},
     "output_type": "execute_result"
    }
   ],
   "source": [
    "# Import module to standardize the scale\n",
    "from sklearn.preprocessing import StandardScaler\n",
    "# Create instance (i.e. object) of the standard scaler\n",
    "scaler = StandardScaler()\n",
    "# Fit the object to all the data except the Target Class or Outcome\n",
    "# use the .drop() method to gather all features except Target Class/outcome\n",
    "# axis -> argument refers to columns; a 0 would represent rows a 1 is column\n",
    "scaler.fit(data.drop('outcome', axis=1))\n",
    "# Use scaler object to conduct a transforms\n",
    "scaled_features = scaler.transform(data.drop('outcome',axis=1))\n",
    "# Review the array of values generated from the scaled features process\n",
    "#print(scaled_features)\n",
    "#Here we have the normalized dataset, minus the target/output column which is the last col\n",
    "data_feat = pd.DataFrame(scaled_features, columns= data.columns[:-1])\n",
    "#see what you did\n",
    "data_feat.head()#optional"
   ]
  },
  {
   "cell_type": "code",
   "execution_count": 26,
   "id": "40c0e976",
   "metadata": {},
   "outputs": [],
   "source": [
    "#split dataset in features and target variable\n",
    "X = data_feat\n",
    "y = data['outcome'] # Target variable\n",
    "# Split dataset into training set and test set\n",
    "X_train, X_test, y_train, y_test = train_test_split(X, y, test_size=0.3,\n",
    "random_state=1) # 70% training and 30% test"
   ]
  },
  {
   "cell_type": "code",
   "execution_count": 27,
   "id": "4f6d66d8",
   "metadata": {},
   "outputs": [
    {
     "name": "stdout",
     "output_type": "stream",
     "text": [
      "              precision    recall  f1-score   support\n",
      "\n",
      "           0       0.77      0.75      0.76       146\n",
      "           1       0.59      0.61      0.60        85\n",
      "\n",
      "    accuracy                           0.70       231\n",
      "   macro avg       0.68      0.68      0.68       231\n",
      "weighted avg       0.70      0.70      0.70       231\n",
      "\n"
     ]
    }
   ],
   "source": [
    "# Create a perceptron object with the parameters: default max_iter (epochs)\n",
    "#over the data is 1000, eta0 default is 1 - constant by which updates are\n",
    "#multiplied by\n",
    "ppn = Perceptron(random_state=42)#using the default\n",
    "# Train the perceptron\n",
    "ppn.fit(X_train, y_train)\n",
    "# Apply the trained perceptron on the X data to make predicts for the y test data\n",
    "y_pred = ppn.predict(X_test)\n",
    "print(metrics.classification_report(y_test,y_pred))"
   ]
  },
  {
   "cell_type": "code",
   "execution_count": 28,
   "id": "dc92bbf8",
   "metadata": {},
   "outputs": [
    {
     "name": "stdout",
     "output_type": "stream",
     "text": [
      "              precision    recall  f1-score   support\n",
      "\n",
      "           0       0.72      0.85      0.78       146\n",
      "           1       0.62      0.42      0.50        85\n",
      "\n",
      "    accuracy                           0.69       231\n",
      "   macro avg       0.67      0.64      0.64       231\n",
      "weighted avg       0.68      0.69      0.68       231\n",
      "\n"
     ]
    }
   ],
   "source": [
    "# Create a perceptron object with the parameters: default max_iter (epochs)\n",
    "#over the data is 1000 changing to 500, eta0 default is 1 - constant by which\n",
    "#updates are multiplied by\n",
    "ppn = Perceptron(random_state=0, max_iter = 500)\n",
    "# Train the perceptron\n",
    "ppn.fit(X_train, y_train)\n",
    "# Apply the trained perceptron on the X data to make predicts for the y test data\n",
    "y_pred = ppn.predict(X_test)\n",
    "print(metrics.classification_report(y_test,y_pred))"
   ]
  },
  {
   "cell_type": "code",
   "execution_count": 29,
   "id": "9fb42ac8",
   "metadata": {},
   "outputs": [
    {
     "name": "stdout",
     "output_type": "stream",
     "text": [
      "              precision    recall  f1-score   support\n",
      "\n",
      "           0       0.72      0.85      0.78       146\n",
      "           1       0.62      0.42      0.50        85\n",
      "\n",
      "    accuracy                           0.69       231\n",
      "   macro avg       0.67      0.64      0.64       231\n",
      "weighted avg       0.68      0.69      0.68       231\n",
      "\n"
     ]
    }
   ],
   "source": [
    "# Create a perceptron object with the parameters: default max_iter (epochs)\n",
    "#over the data is 1000 changing to 500, eta0 default is 1 - constant by which\n",
    "#updates are multiplied by\n",
    "ppn = Perceptron(random_state=0, max_iter = 100)\n",
    "# Train the perceptron\n",
    "ppn.fit(X_train, y_train)\n",
    "# Apply the trained perceptron on the X data to make predicts for the y test data\n",
    "y_pred = ppn.predict(X_test)\n",
    "print(metrics.classification_report(y_test,y_pred))"
   ]
  },
  {
   "cell_type": "code",
   "execution_count": 30,
   "id": "8c8ed60c",
   "metadata": {},
   "outputs": [
    {
     "name": "stdout",
     "output_type": "stream",
     "text": [
      "              precision    recall  f1-score   support\n",
      "\n",
      "           0       0.72      0.85      0.78       146\n",
      "           1       0.62      0.42      0.50        85\n",
      "\n",
      "    accuracy                           0.69       231\n",
      "   macro avg       0.67      0.64      0.64       231\n",
      "weighted avg       0.68      0.69      0.68       231\n",
      "\n"
     ]
    }
   ],
   "source": [
    "# Create a perceptron object with the parameters: default max_iter (epochs)\n",
    "#over the data is 1000 changing to 500, eta0 default is 1 - constant by which\n",
    "#updates are multiplied by\n",
    "ppn = Perceptron(random_state=0, max_iter = 10)\n",
    "# Train the perceptron\n",
    "ppn.fit(X_train, y_train)\n",
    "# Apply the trained perceptron on the X data to make predicts for the y test data\n",
    "y_pred = ppn.predict(X_test)\n",
    "print(metrics.classification_report(y_test,y_pred))"
   ]
  },
  {
   "cell_type": "code",
   "execution_count": 31,
   "id": "c6c9f9a6",
   "metadata": {},
   "outputs": [
    {
     "name": "stdout",
     "output_type": "stream",
     "text": [
      "              precision    recall  f1-score   support\n",
      "\n",
      "           0       0.84      0.83      0.83       146\n",
      "           1       0.71      0.73      0.72        85\n",
      "\n",
      "    accuracy                           0.79       231\n",
      "   macro avg       0.78      0.78      0.78       231\n",
      "weighted avg       0.79      0.79      0.79       231\n",
      "\n"
     ]
    },
    {
     "name": "stderr",
     "output_type": "stream",
     "text": [
      "/home/anerud001/.local/lib/python3.11/site-packages/sklearn/linear_model/_stochastic_gradient.py:713: ConvergenceWarning: Maximum number of iteration reached before convergence. Consider increasing max_iter to improve the fit.\n",
      "  warnings.warn(\n"
     ]
    }
   ],
   "source": [
    "# Create a perceptron object with the parameters: default max_iter (epochs)\n",
    "#over the data is 1000 changing to 500, eta0 default is 1 - constant by which\n",
    "#updates are multiplied by\n",
    "ppn = Perceptron(random_state=0, max_iter = 5)\n",
    "# Train the perceptron\n",
    "ppn.fit(X_train, y_train)\n",
    "# Apply the trained perceptron on the X data to make predicts for the y test data\n",
    "y_pred = ppn.predict(X_test)\n",
    "print(metrics.classification_report(y_test,y_pred))"
   ]
  },
  {
   "cell_type": "code",
   "execution_count": 32,
   "id": "a3f26e66",
   "metadata": {},
   "outputs": [
    {
     "name": "stdout",
     "output_type": "stream",
     "text": [
      "              precision    recall  f1-score   support\n",
      "\n",
      "           0       0.63      0.76      0.69       146\n",
      "           1       0.36      0.24      0.29        85\n",
      "\n",
      "    accuracy                           0.57       231\n",
      "   macro avg       0.50      0.50      0.49       231\n",
      "weighted avg       0.53      0.57      0.54       231\n",
      "\n"
     ]
    }
   ],
   "source": [
    "# Create a perceptron object with the parameters: default max_iter (epochs)\n",
    "#over the data is 1000,eta0 default is 1 - constant by which updates are\n",
    "#multiplied by\n",
    "ppn = Perceptron(random_state=0, early_stopping=True)\n",
    "# Train the perceptron\n",
    "ppn.fit(X_train, y_train)\n",
    "# Apply the trained perceptron on the X data to make predicts for the y test data\n",
    "y_pred = ppn.predict(X_test)\n",
    "print(metrics.classification_report(y_test,y_pred))"
   ]
  },
  {
   "cell_type": "code",
   "execution_count": 33,
   "id": "20180932",
   "metadata": {},
   "outputs": [
    {
     "name": "stderr",
     "output_type": "stream",
     "text": [
      "/home/anerud001/.local/lib/python3.11/site-packages/sklearn/linear_model/_stochastic_gradient.py:713: ConvergenceWarning: Maximum number of iteration reached before convergence. Consider increasing max_iter to improve the fit.\n",
      "  warnings.warn(\n"
     ]
    },
    {
     "name": "stdout",
     "output_type": "stream",
     "text": [
      "              precision    recall  f1-score   support\n",
      "\n",
      "           0       0.78      0.84      0.81       146\n",
      "           1       0.68      0.59      0.63        85\n",
      "\n",
      "    accuracy                           0.75       231\n",
      "   macro avg       0.73      0.72      0.72       231\n",
      "weighted avg       0.74      0.75      0.74       231\n",
      "\n"
     ]
    }
   ],
   "source": [
    "# Create a perceptron object with the parameters: default max_iter (epochs)\n",
    "#over the data is 1000,eta0 default is 1 - constant by which updates are\n",
    "#multiplied by\n",
    "ppn = Perceptron(random_state=0, early_stopping=True, max_iter=5)\n",
    "# Train the perceptron\n",
    "ppn.fit(X_train, y_train)\n",
    "# Apply the trained perceptron on the X data to make predicts for the y test data\n",
    "y_pred = ppn.predict(X_test)\n",
    "print(metrics.classification_report(y_test,y_pred))"
   ]
  },
  {
   "cell_type": "markdown",
   "id": "2a52b0ea",
   "metadata": {},
   "source": [
    "# Question page 4\n",
    "<p>1. In comparison to setting the max_iter value, the early_stopping made the model converge to an even worse percentage. It even did the worst of all the models tested at barely over 50%. </p>\n",
    "<p>2. I interpret this as the algorithm figuring out where the data comes to a point where it is no longer increasing or decreasing in testing percentages. So at times, in the graph of accuracy by iteration, there will be spots with a higher percentage; however the algorithm is deciding based of converging to an accuracy value, so using early stopping can make the accuracy worse. </p>"
   ]
  },
  {
   "cell_type": "code",
   "execution_count": 34,
   "id": "52cc2554",
   "metadata": {},
   "outputs": [
    {
     "name": "stdout",
     "output_type": "stream",
     "text": [
      "              precision    recall  f1-score   support\n",
      "\n",
      "           0       0.83      0.78      0.80       146\n",
      "           1       0.66      0.72      0.69        85\n",
      "\n",
      "    accuracy                           0.76       231\n",
      "   macro avg       0.74      0.75      0.74       231\n",
      "weighted avg       0.76      0.76      0.76       231\n",
      "\n"
     ]
    }
   ],
   "source": [
    "# Create a perceptron object with the parameters: default max_iter (epochs)\n",
    "#over the data is 1000,eta0 default is 1 - constant by which updates are\n",
    "#multiplied by\n",
    "ppn = Perceptron(random_state=37, early_stopping=True)\n",
    "# Train the perceptron\n",
    "ppn.fit(X_train, y_train)\n",
    "# Apply the trained perceptron on the X data to make predicts for the y test data\n",
    "y_pred = ppn.predict(X_test)\n",
    "print(metrics.classification_report(y_test,y_pred))"
   ]
  },
  {
   "cell_type": "code",
   "execution_count": 35,
   "id": "47329d4c",
   "metadata": {},
   "outputs": [
    {
     "name": "stdout",
     "output_type": "stream",
     "text": [
      "              precision    recall  f1-score   support\n",
      "\n",
      "           0       0.72      0.78      0.75       146\n",
      "           1       0.56      0.48      0.52        85\n",
      "\n",
      "    accuracy                           0.67       231\n",
      "   macro avg       0.64      0.63      0.63       231\n",
      "weighted avg       0.66      0.67      0.66       231\n",
      "\n"
     ]
    }
   ],
   "source": [
    "# Create a perceptron object with the parameters: default max_iter (epochs)\n",
    "#over the data is 1000,eta0 default is 1 - constant by which updates are\n",
    "#multiplied by\n",
    "ppn = Perceptron(random_state=371, early_stopping=True)\n",
    "# Train the perceptron\n",
    "ppn.fit(X_train, y_train)\n",
    "# Apply the trained perceptron on the X data to make predicts for the y test data\n",
    "y_pred = ppn.predict(X_test)\n",
    "print(metrics.classification_report(y_test,y_pred))"
   ]
  },
  {
   "cell_type": "code",
   "execution_count": 36,
   "id": "3df5ddcf",
   "metadata": {},
   "outputs": [
    {
     "name": "stdout",
     "output_type": "stream",
     "text": [
      "              precision    recall  f1-score   support\n",
      "\n",
      "           0       0.79      0.71      0.74       146\n",
      "           1       0.57      0.67      0.62        85\n",
      "\n",
      "    accuracy                           0.69       231\n",
      "   macro avg       0.68      0.69      0.68       231\n",
      "weighted avg       0.71      0.69      0.70       231\n",
      "\n"
     ]
    }
   ],
   "source": [
    "# Create a perceptron object with the parameters: default max_iter (epochs)\n",
    "#over the data is 1000,eta0 default is 1 - constant by which updates are\n",
    "#multiplied by\n",
    "ppn = Perceptron(random_state=17, early_stopping=True)\n",
    "# Train the perceptron\n",
    "ppn.fit(X_train, y_train)\n",
    "# Apply the trained perceptron on the X data to make predicts for the y test data\n",
    "y_pred = ppn.predict(X_test)\n",
    "print(metrics.classification_report(y_test,y_pred))"
   ]
  },
  {
   "cell_type": "code",
   "execution_count": 37,
   "id": "28759876",
   "metadata": {},
   "outputs": [
    {
     "name": "stdout",
     "output_type": "stream",
     "text": [
      "              precision    recall  f1-score   support\n",
      "\n",
      "           0       0.77      0.90      0.83       146\n",
      "           1       0.75      0.53      0.62        85\n",
      "\n",
      "    accuracy                           0.76       231\n",
      "   macro avg       0.76      0.71      0.72       231\n",
      "weighted avg       0.76      0.76      0.75       231\n",
      "\n"
     ]
    }
   ],
   "source": [
    "# Create a perceptron object with the parameters: default max_iter (epochs)\n",
    "#over the data is 1000,eta0 default is 1 - constant by which updates are\n",
    "#multiplied by\n",
    "ppn = Perceptron(random_state=1, early_stopping=True)\n",
    "# Train the perceptron\n",
    "ppn.fit(X_train, y_train)\n",
    "# Apply the trained perceptron on the X data to make predicts for the y test data\n",
    "y_pred = ppn.predict(X_test)\n",
    "print(metrics.classification_report(y_test,y_pred))"
   ]
  },
  {
   "cell_type": "code",
   "execution_count": 38,
   "id": "127745e5",
   "metadata": {},
   "outputs": [
    {
     "name": "stdout",
     "output_type": "stream",
     "text": [
      "              precision    recall  f1-score   support\n",
      "\n",
      "           0       0.69      0.84      0.76       146\n",
      "           1       0.57      0.35      0.43        85\n",
      "\n",
      "    accuracy                           0.66       231\n",
      "   macro avg       0.63      0.60      0.60       231\n",
      "weighted avg       0.65      0.66      0.64       231\n",
      "\n"
     ]
    }
   ],
   "source": [
    "# Create a perceptron object with the parameters: default max_iter (epochs)\n",
    "#over the data is 1000,eta0 default is 1 - constant by which updates are\n",
    "#multiplied by\n",
    "ppn = Perceptron(random_state=101, early_stopping=True)\n",
    "# Train the perceptron\n",
    "ppn.fit(X_train, y_train)\n",
    "# Apply the trained perceptron on the X data to make predicts for the y test data\n",
    "y_pred = ppn.predict(X_test)\n",
    "print(metrics.classification_report(y_test,y_pred))"
   ]
  },
  {
   "cell_type": "code",
   "execution_count": 39,
   "id": "598ed3b5",
   "metadata": {},
   "outputs": [
    {
     "name": "stdout",
     "output_type": "stream",
     "text": [
      "              precision    recall  f1-score   support\n",
      "\n",
      "           0       0.80      0.73      0.76       146\n",
      "           1       0.60      0.69      0.64        85\n",
      "\n",
      "    accuracy                           0.71       231\n",
      "   macro avg       0.70      0.71      0.70       231\n",
      "weighted avg       0.73      0.71      0.72       231\n",
      "\n"
     ]
    }
   ],
   "source": [
    "# Create a perceptron object with the parameters: default max_iter (epochs)\n",
    "#over the data is 1000,eta0 default is 1 - constant by which updates are\n",
    "#multiplied by\n",
    "ppn = Perceptron(random_state=9000001, early_stopping=True)\n",
    "# Train the perceptron\n",
    "ppn.fit(X_train, y_train)\n",
    "# Apply the trained perceptron on the X data to make predicts for the y test data\n",
    "y_pred = ppn.predict(X_test)\n",
    "print(metrics.classification_report(y_test,y_pred))"
   ]
  },
  {
   "cell_type": "code",
   "execution_count": 51,
   "id": "7a5e8121",
   "metadata": {},
   "outputs": [
    {
     "name": "stdout",
     "output_type": "stream",
     "text": [
      "              precision    recall  f1-score   support\n",
      "\n",
      "           0       0.77      0.77      0.77       146\n",
      "           1       0.61      0.60      0.60        85\n",
      "\n",
      "    accuracy                           0.71       231\n",
      "   macro avg       0.69      0.69      0.69       231\n",
      "weighted avg       0.71      0.71      0.71       231\n",
      "\n"
     ]
    }
   ],
   "source": [
    "# Create a perceptron object with the parameters: default max_iter (epochs)\n",
    "#over the data is 1000,eta0 default is 1 - constant by which updates are\n",
    "#multiplied by\n",
    "ppn = Perceptron(random_state=70000001, early_stopping=True)\n",
    "# Train the perceptron\n",
    "ppn.fit(X_train, y_train)\n",
    "# Apply the trained perceptron on the X data to make predicts for the y test data\n",
    "y_pred = ppn.predict(X_test)\n",
    "print(metrics.classification_report(y_test,y_pred))"
   ]
  },
  {
   "cell_type": "code",
   "execution_count": 52,
   "id": "aed552de",
   "metadata": {},
   "outputs": [
    {
     "name": "stdout",
     "output_type": "stream",
     "text": [
      "              precision    recall  f1-score   support\n",
      "\n",
      "           0       0.79      0.78      0.78       146\n",
      "           1       0.63      0.64      0.63        85\n",
      "\n",
      "    accuracy                           0.73       231\n",
      "   macro avg       0.71      0.71      0.71       231\n",
      "weighted avg       0.73      0.73      0.73       231\n",
      "\n"
     ]
    }
   ],
   "source": [
    "# Create a perceptron object with the parameters: default max_iter (epochs)\n",
    "#over the data is 1000,eta0 default is 1 - constant by which updates are\n",
    "#multiplied by\n",
    "ppn = Perceptron(random_state=37)\n",
    "# Train the perceptron\n",
    "ppn.fit(X_train, y_train)\n",
    "# Apply the trained perceptron on the X data to make predicts for the y test data\n",
    "y_pred = ppn.predict(X_test)\n",
    "print(metrics.classification_report(y_test,y_pred))"
   ]
  },
  {
   "cell_type": "code",
   "execution_count": 53,
   "id": "0c73ec61",
   "metadata": {},
   "outputs": [
    {
     "name": "stdout",
     "output_type": "stream",
     "text": [
      "              precision    recall  f1-score   support\n",
      "\n",
      "           0       0.81      0.79      0.80       146\n",
      "           1       0.65      0.68      0.67        85\n",
      "\n",
      "    accuracy                           0.75       231\n",
      "   macro avg       0.73      0.74      0.73       231\n",
      "weighted avg       0.75      0.75      0.75       231\n",
      "\n"
     ]
    },
    {
     "name": "stderr",
     "output_type": "stream",
     "text": [
      "/home/anerud001/.local/lib/python3.11/site-packages/sklearn/linear_model/_stochastic_gradient.py:713: ConvergenceWarning: Maximum number of iteration reached before convergence. Consider increasing max_iter to improve the fit.\n",
      "  warnings.warn(\n"
     ]
    }
   ],
   "source": [
    "# Create a perceptron object with the parameters: default max_iter (epochs)\n",
    "#over the data is 1000,eta0 default is 1 - constant by which updates are\n",
    "#multiplied by\n",
    "ppn = Perceptron(random_state=37, max_iter=5)\n",
    "# Train the perceptron\n",
    "ppn.fit(X_train, y_train)\n",
    "# Apply the trained perceptron on the X data to make predicts for the y test data\n",
    "y_pred = ppn.predict(X_test)\n",
    "print(metrics.classification_report(y_test,y_pred))"
   ]
  },
  {
   "cell_type": "markdown",
   "id": "a368e435",
   "metadata": {},
   "source": [
    "# Questions page 5\n",
    "<p>1. Yes, the metrics changed a bit when I was messing around with the random state of the perceptron. Each part of the validation scoring changed individually between the different numbers. </p>\n",
    "<p>2. I also recieved different metrics when stopping early compared to regular and setting the max_iter param. For instance, with random num 37, I got an f1 accuracy of 76%, whereas when I didn't set any hyperparameters I got 73%, and doing a lower number with max iterations I recieved an accuracy of 75%. In this case it helped the model to stop early upon convergence.  </p>\n",
    "<p>3. I think this is happening because having a different random number will pair up different data within the iterations that the perceptron is training off. Due to this, the model will learn differently from the beginning to the end and possibly have a better or worse accuracy. </p>"
   ]
  },
  {
   "cell_type": "code",
   "execution_count": 1,
   "id": "98889288",
   "metadata": {},
   "outputs": [
    {
     "data": {
      "text/html": [
       "<div>\n",
       "<style scoped>\n",
       "    .dataframe tbody tr th:only-of-type {\n",
       "        vertical-align: middle;\n",
       "    }\n",
       "\n",
       "    .dataframe tbody tr th {\n",
       "        vertical-align: top;\n",
       "    }\n",
       "\n",
       "    .dataframe thead th {\n",
       "        text-align: right;\n",
       "    }\n",
       "</style>\n",
       "<table border=\"1\" class=\"dataframe\">\n",
       "  <thead>\n",
       "    <tr style=\"text-align: right;\">\n",
       "      <th></th>\n",
       "      <th>ACCESS_ALL_DOWNLOADS</th>\n",
       "      <th>ACCESS_CACHE_FILESYSTEM</th>\n",
       "      <th>ACCESS_CHECKIN_PROPERTIES</th>\n",
       "      <th>ACCESS_COARSE_LOCATION</th>\n",
       "      <th>ACCESS_COARSE_UPDATES</th>\n",
       "      <th>ACCESS_FINE_LOCATION</th>\n",
       "      <th>ACCESS_LOCATION_EXTRA_COMMANDS</th>\n",
       "      <th>ACCESS_MOCK_LOCATION</th>\n",
       "      <th>ACCESS_MTK_MMHW</th>\n",
       "      <th>ACCESS_NETWORK_STATE</th>\n",
       "      <th>...</th>\n",
       "      <th>Landroid/telephony/TelephonyManager;-&gt;getLine1Number</th>\n",
       "      <th>Landroid/telephony/TelephonyManager;-&gt;getNetworkOperator</th>\n",
       "      <th>Landroid/telephony/TelephonyManager;-&gt;getNetworkOperatorName</th>\n",
       "      <th>Landroid/telephony/TelephonyManager;-&gt;getNetworkCountryIso</th>\n",
       "      <th>Landroid/telephony/TelephonyManager;-&gt;getSimOperator</th>\n",
       "      <th>Landroid/telephony/TelephonyManager;-&gt;getSimOperatorName</th>\n",
       "      <th>Landroid/telephony/TelephonyManager;-&gt;getSimCountryIso</th>\n",
       "      <th>Landroid/telephony/TelephonyManager;-&gt;getSimSerialNumber</th>\n",
       "      <th>Lorg/apache/http/impl/client/DefaultHttpClient;-&gt;execute</th>\n",
       "      <th>Label</th>\n",
       "    </tr>\n",
       "  </thead>\n",
       "  <tbody>\n",
       "    <tr>\n",
       "      <th>0</th>\n",
       "      <td>0</td>\n",
       "      <td>0</td>\n",
       "      <td>0</td>\n",
       "      <td>0</td>\n",
       "      <td>0</td>\n",
       "      <td>0</td>\n",
       "      <td>0</td>\n",
       "      <td>0</td>\n",
       "      <td>0</td>\n",
       "      <td>1</td>\n",
       "      <td>...</td>\n",
       "      <td>1</td>\n",
       "      <td>1</td>\n",
       "      <td>1</td>\n",
       "      <td>0</td>\n",
       "      <td>0</td>\n",
       "      <td>0</td>\n",
       "      <td>0</td>\n",
       "      <td>0</td>\n",
       "      <td>1</td>\n",
       "      <td>malware</td>\n",
       "    </tr>\n",
       "    <tr>\n",
       "      <th>1</th>\n",
       "      <td>0</td>\n",
       "      <td>0</td>\n",
       "      <td>0</td>\n",
       "      <td>0</td>\n",
       "      <td>0</td>\n",
       "      <td>0</td>\n",
       "      <td>0</td>\n",
       "      <td>0</td>\n",
       "      <td>0</td>\n",
       "      <td>1</td>\n",
       "      <td>...</td>\n",
       "      <td>0</td>\n",
       "      <td>0</td>\n",
       "      <td>0</td>\n",
       "      <td>1</td>\n",
       "      <td>0</td>\n",
       "      <td>0</td>\n",
       "      <td>1</td>\n",
       "      <td>0</td>\n",
       "      <td>0</td>\n",
       "      <td>malware</td>\n",
       "    </tr>\n",
       "    <tr>\n",
       "      <th>2</th>\n",
       "      <td>0</td>\n",
       "      <td>0</td>\n",
       "      <td>0</td>\n",
       "      <td>0</td>\n",
       "      <td>0</td>\n",
       "      <td>0</td>\n",
       "      <td>0</td>\n",
       "      <td>0</td>\n",
       "      <td>0</td>\n",
       "      <td>1</td>\n",
       "      <td>...</td>\n",
       "      <td>0</td>\n",
       "      <td>0</td>\n",
       "      <td>0</td>\n",
       "      <td>0</td>\n",
       "      <td>0</td>\n",
       "      <td>0</td>\n",
       "      <td>0</td>\n",
       "      <td>0</td>\n",
       "      <td>0</td>\n",
       "      <td>malware</td>\n",
       "    </tr>\n",
       "    <tr>\n",
       "      <th>3</th>\n",
       "      <td>0</td>\n",
       "      <td>0</td>\n",
       "      <td>0</td>\n",
       "      <td>0</td>\n",
       "      <td>0</td>\n",
       "      <td>0</td>\n",
       "      <td>0</td>\n",
       "      <td>0</td>\n",
       "      <td>0</td>\n",
       "      <td>0</td>\n",
       "      <td>...</td>\n",
       "      <td>0</td>\n",
       "      <td>1</td>\n",
       "      <td>1</td>\n",
       "      <td>1</td>\n",
       "      <td>1</td>\n",
       "      <td>0</td>\n",
       "      <td>1</td>\n",
       "      <td>0</td>\n",
       "      <td>0</td>\n",
       "      <td>malware</td>\n",
       "    </tr>\n",
       "    <tr>\n",
       "      <th>4</th>\n",
       "      <td>0</td>\n",
       "      <td>0</td>\n",
       "      <td>0</td>\n",
       "      <td>0</td>\n",
       "      <td>0</td>\n",
       "      <td>0</td>\n",
       "      <td>0</td>\n",
       "      <td>0</td>\n",
       "      <td>0</td>\n",
       "      <td>0</td>\n",
       "      <td>...</td>\n",
       "      <td>0</td>\n",
       "      <td>0</td>\n",
       "      <td>0</td>\n",
       "      <td>0</td>\n",
       "      <td>0</td>\n",
       "      <td>0</td>\n",
       "      <td>0</td>\n",
       "      <td>0</td>\n",
       "      <td>0</td>\n",
       "      <td>malware</td>\n",
       "    </tr>\n",
       "  </tbody>\n",
       "</table>\n",
       "<p>5 rows × 242 columns</p>\n",
       "</div>"
      ],
      "text/plain": [
       "   ACCESS_ALL_DOWNLOADS  ACCESS_CACHE_FILESYSTEM  ACCESS_CHECKIN_PROPERTIES  \\\n",
       "0                     0                        0                          0   \n",
       "1                     0                        0                          0   \n",
       "2                     0                        0                          0   \n",
       "3                     0                        0                          0   \n",
       "4                     0                        0                          0   \n",
       "\n",
       "   ACCESS_COARSE_LOCATION  ACCESS_COARSE_UPDATES  ACCESS_FINE_LOCATION  \\\n",
       "0                       0                      0                     0   \n",
       "1                       0                      0                     0   \n",
       "2                       0                      0                     0   \n",
       "3                       0                      0                     0   \n",
       "4                       0                      0                     0   \n",
       "\n",
       "   ACCESS_LOCATION_EXTRA_COMMANDS  ACCESS_MOCK_LOCATION  ACCESS_MTK_MMHW  \\\n",
       "0                               0                     0                0   \n",
       "1                               0                     0                0   \n",
       "2                               0                     0                0   \n",
       "3                               0                     0                0   \n",
       "4                               0                     0                0   \n",
       "\n",
       "   ACCESS_NETWORK_STATE  ...  \\\n",
       "0                     1  ...   \n",
       "1                     1  ...   \n",
       "2                     1  ...   \n",
       "3                     0  ...   \n",
       "4                     0  ...   \n",
       "\n",
       "   Landroid/telephony/TelephonyManager;->getLine1Number  \\\n",
       "0                                                  1      \n",
       "1                                                  0      \n",
       "2                                                  0      \n",
       "3                                                  0      \n",
       "4                                                  0      \n",
       "\n",
       "   Landroid/telephony/TelephonyManager;->getNetworkOperator  \\\n",
       "0                                                  1          \n",
       "1                                                  0          \n",
       "2                                                  0          \n",
       "3                                                  1          \n",
       "4                                                  0          \n",
       "\n",
       "   Landroid/telephony/TelephonyManager;->getNetworkOperatorName  \\\n",
       "0                                                  1              \n",
       "1                                                  0              \n",
       "2                                                  0              \n",
       "3                                                  1              \n",
       "4                                                  0              \n",
       "\n",
       "   Landroid/telephony/TelephonyManager;->getNetworkCountryIso  \\\n",
       "0                                                  0            \n",
       "1                                                  1            \n",
       "2                                                  0            \n",
       "3                                                  1            \n",
       "4                                                  0            \n",
       "\n",
       "   Landroid/telephony/TelephonyManager;->getSimOperator  \\\n",
       "0                                                  0      \n",
       "1                                                  0      \n",
       "2                                                  0      \n",
       "3                                                  1      \n",
       "4                                                  0      \n",
       "\n",
       "   Landroid/telephony/TelephonyManager;->getSimOperatorName  \\\n",
       "0                                                  0          \n",
       "1                                                  0          \n",
       "2                                                  0          \n",
       "3                                                  0          \n",
       "4                                                  0          \n",
       "\n",
       "   Landroid/telephony/TelephonyManager;->getSimCountryIso  \\\n",
       "0                                                  0        \n",
       "1                                                  1        \n",
       "2                                                  0        \n",
       "3                                                  1        \n",
       "4                                                  0        \n",
       "\n",
       "   Landroid/telephony/TelephonyManager;->getSimSerialNumber  \\\n",
       "0                                                  0          \n",
       "1                                                  0          \n",
       "2                                                  0          \n",
       "3                                                  0          \n",
       "4                                                  0          \n",
       "\n",
       "   Lorg/apache/http/impl/client/DefaultHttpClient;->execute    Label  \n",
       "0                                                  1         malware  \n",
       "1                                                  0         malware  \n",
       "2                                                  0         malware  \n",
       "3                                                  0         malware  \n",
       "4                                                  0         malware  \n",
       "\n",
       "[5 rows x 242 columns]"
      ]
     },
     "execution_count": 1,
     "metadata": {},
     "output_type": "execute_result"
    }
   ],
   "source": [
    "# Load libraries\n",
    "import pandas as pd\n",
    "from sklearn.ensemble import RandomForestClassifier # Import RandomForest Classifier\n",
    "from sklearn.model_selection import train_test_split # Import train_test_split function\n",
    "from sklearn import metrics #Import scikit-learn metrics module for accuracy calculation\n",
    "#make sure you have your labels correct\n",
    "#some files have this in the file - others it is in the description\n",
    "col_names = ['ACCESS_ALL_DOWNLOADS','ACCESS_CACHE_FILESYSTEM','ACCESS_CHECKIN_PROPERTIES',\n",
    "                'ACCESS_COARSE_LOCATION','ACCESS_COARSE_UPDATES','ACCESS_FINE_LOCATION',\n",
    "                'ACCESS_LOCATION_EXTRA_COMMANDS','ACCESS_MOCK_LOCATION','ACCESS_MTK_MMHW',\n",
    "                'ACCESS_NETWORK_STATE','ACCESS_PROVIDER','ACCESS_SERVICE','ACCESS_SHARED_DATA',\n",
    "                'ACCESS_SUPERUSER','ACCESS_SURFACE_FLINGER','ACCESS_WIFI_STATE','activityCalled',\n",
    "                'ACTIVITY_RECOGNITION','ACCOUNT_MANAGER','ADD_VOICEMAIL','ANT','ANT_ADMIN',\n",
    "                'AUTHENTICATE_ACCOUNTS','AUTORUN_MANAGER_LICENSE_MANAGER','AUTORUN_MANAGER_LICENSE_SERVICE(.autorun)',\n",
    "                'BATTERY_STATS','BILLING','BIND_ACCESSIBILITY_SERVICE','BIND_APPWIDGET',\n",
    "                'BIND_CARRIER_MESSAGING_SERVICE','BIND_DEVICE_ADMIN','BIND_DREAM_SERVICE',\n",
    "                'BIND_GET_INSTALL_REFERRER_SERVICE','BIND_INPUT_METHOD','BIND_NFC_SERVICE',\n",
    "                'BIND_goodwareTIFICATION_LISTENER_SERVICE','BIND_PRINT_SERVICE','BIND_REMOTEVIEWS',\n",
    "                'BIND_TEXT_SERVICE','BIND_TV_INPUT','BIND_VOICE_INTERACTION','BIND_VPN_SERVICE',\n",
    "                'BIND_WALLPAPER','BLUETOOTH','BLUETOOTH_ADMIN','BLUETOOTH_PRIVILEGED','BODY_SENSORS',\n",
    "                'BRICK','BROADCAST_PACKAGE_REMOVED','BROADCAST_SMS','BROADCAST_STICKY','BROADCAST_WAP_PUSH',\n",
    "                'C2D_MESSAGE','CALL_PHONE','CALL_PRIVILEGED','CAMERA','CAPTURE_AUDIO_OUTPUT',\n",
    "                'CAPTURE_SECURE_VIDEO_OUTPUT','CAPTURE_VIDEO_OUTPUT','CHANGE_COMPONENT_ENABLED_STATE',\n",
    "                'CHANGE_CONFIGURATION','CHANGE_DISPLAY_MODE','CHANGE_NETWORK_STATE',\n",
    "                'CHANGE_WIFI_MULTICAST_STATE','CHANGE_WIFI_STATE','CHECK_LICENSE','CLEAR_APP_CACHE',\n",
    "                'CLEAR_APP_USER_DATA','CONTROL_LOCATION_UPDATES','DATABASE_INTERFACE_SERVICE',\n",
    "                'DELETE_CACHE_FILES','DELETE_PACKAGES','DEVICE_POWER','DIAGgoodwareSTIC','DISABLE_KEYGUARD',\n",
    "                'DOWNLOAD_SERVICE','DOWNLOAD_WITHOUT_goodwareTIFICATION','DUMP','EXPAND_STATUS_BAR',\n",
    "                'EXTENSION_PERMISSION','FACTORY_TEST','FLASHLIGHT','FORCE_BACK','FULLSCREEN.FULL',\n",
    "                'GET_ACCOUNTS','GET_PACKAGE_SIZE','GET_TASKS','GET_TOP_ACTIVITY_INFO','GLOBAL_SEARCH',\n",
    "                'GOOGLE_AUTH','GOOGLE_PHOTOS','HARDWARE_TEST','INJECT_EVENTS','INSTALL_LOCATION_PROVIDER',\n",
    "                'INSTALL_PACKAGES','INSTALL_SHORTCUT','INTERACT_ACROSS_USERS','INTERNAL_SYSTEM_WINDOW',\n",
    "                'INTERNET','JPUSH_MESSAGE','KILL_BACKGROUND_PROCESSES','LOCATION_HARDWARE','MANAGE_ACCOUNTS',\n",
    "                'MANAGE_APP_TOKENS','MANAGE_DOCUMENTS','MAPS_RECEIVE','MASTER_CLEAR','MEDIA_BUTTON',\n",
    "                'MEDIA_CONTENT_CONTROL','MESSAGE','MODIFY_AUDIO_SETTINGS','MODIFY_PHONE_STATE',\n",
    "                'MOUNT_FORMAT_FILESYSTEMS','MOUNT_UNMOUNT_FILESYSTEMS','NFC','PERSISTENT_ACTIVITY',\n",
    "                'PERMISSION','PERMISSION_RUN_TASKS','PLUGIN','PROCESS_OUTGOING_CALLS','READ',\n",
    "                'READ_ATTACHMENT','READ_AVESTTINGS','READ_CALENDAR','READ_CALL_LOG','READ_CONTACTS',\n",
    "                'READ_CONTENT_PROVIDER','READ_DATA','READ_DATABASES','READ_EXTERNAL_STORAGE',\n",
    "                'READ_FRAME_BUFFER','READ_GMAIL','READ_GSERVICES','READ_HISTORY_BOOKMARKS',\n",
    "                'READ_INPUT_STATE','READ_LOGS','READ_MESSAGES','READ_OWNER_DATA','READ_PHONE_STATE',\n",
    "                'READ_PROFILE','READ_SETTINGS','READ_SMS','READ_SOCIAL_STREAM','READ_SYNC_SETTINGS',\n",
    "                'READ_SYNC_STATS','READ_USER_DICTIONARY','READ_VOICEMAIL','REBOOT','RECEIVE',\n",
    "                'RECEIVE_BOOT_COMPLETED','RECEIVE_MMS','RECEIVE_SIGNED_DATA_RESULT','RECEIVE_SMS',\n",
    "                'RECEIVE_USER_PRESENT','RECEIVE_WAP_PUSH','RECORD_AUDIO','REORDER_TASKS','RESPOND',\n",
    "                'RESTART_PACKAGES','REQUEST','SDCARD_WRITE','SEND','SEND_RESPOND_VIA_MESSAGE','SEND_SMS',\n",
    "                'SET_ACTIVITY_WATCHER','SET_ALARM','SET_ALWAYS_FINISH','SET_ANIMATION_SCALE','SET_DEBUG_APP',\n",
    "                'SET_ORIENTATION','SET_POINTER_SPEED','SET_PREFERRED_APPLICATIONS','SET_PROCESS_LIMIT',\n",
    "                'SET_TIME','SET_TIME_ZONE','SET_WALLPAPER','SET_WALLPAPER_HINTS',\n",
    "                'SIGNAL_PERSISTENT_PROCESSES','STATUS_BAR','STORAGE','SUBSCRIBED_FEEDS_READ',\n",
    "                'SUBSCRIBED_FEEDS_WRITE','SYSTEM_ALERT_WINDOW','TRANSMIT_IR','UNINSTALL_SHORTCUT',\n",
    "                'UPDATE_DEVICE_STATS','USES_POLICY_FORCE_LOCK','USE_CREDENTIALS','USE_FINGERPRINT',\n",
    "                'USE_SIP','VIBRATE','WAKE_LOCK','WRITE','WRITE_APN_SETTINGS','WRITE_AVSETTING',\n",
    "                'WRITE_CALENDAR','WRITE_CALL_LOG','WRITE_CONTACTS','WRITE_DATA','WRITE_DATABASES',\n",
    "                'WRITE_EXTERNAL_STORAGE','WRITE_GSERVICES','WRITE_HISTORY_BOOKMARKS',\n",
    "                'WRITE_INTERNAL_STORAGE','WRITE_MEDIA_STORAGE','WRITE_OWNER_DATA','WRITE_PROFILE',\n",
    "                'WRITE_SECURE_SETTINGS','WRITE_SETTINGS','WRITE_SMS','WRITE_SOCIAL_STREAM',\n",
    "                'WRITE_SYNC_SETTINGS','WRITE_USER_DICTIONARY','WRITE_VOICEMAIL',\n",
    "                'Ljava/lang/reflect/Method;->invoke','Ljavax/crypto/Cipher;->doFinal',\n",
    "                'Ljava/lang/Runtime;->exec','Ljava/lang/System;->load',\n",
    "                'Ldalvik/system/DexClassLoader;->loadClass','Ljava/lang/System;->loadLibrary',\n",
    "                'Ljava/net/URL;->openConnection','Landroid/hardware/Camera;->open',\n",
    "                'Landroid/hardware/Camera;->takePicture',\n",
    "                'Landroid/telephony/SmsManager;->sendMultipartTextMessage',\n",
    "                'Landroid/telephony/SmsManager;->sendTextMessage',\n",
    "                'Landroid/media/AudioRecord;->startRecording',\n",
    "                'Landroid/telephony/TelephonyManager;->getCellLocation',\n",
    "                'Lcom/google/android/gms/location/LocationClient;->getLastLocation',\n",
    "                'Landroid/location/LocationManager;->getLastKgoodwarewnLocation',\n",
    "                'Landroid/telephony/TelephonyManager;->getDeviceId',\n",
    "                'Landroid/content/pm/PackageManager;->getInstalledApplications',\n",
    "                'Landroid/content/pm/PackageManager;->getInstalledPackages',\n",
    "                'Landroid/telephony/TelephonyManager;->getLine1Number',\n",
    "                'Landroid/telephony/TelephonyManager;->getNetworkOperator',\n",
    "                'Landroid/telephony/TelephonyManager;->getNetworkOperatorName',\n",
    "                'Landroid/telephony/TelephonyManager;->getNetworkCountryIso',\n",
    "                'Landroid/telephony/TelephonyManager;->getSimOperator',\n",
    "                'Landroid/telephony/TelephonyManager;->getSimOperatorName',\n",
    "                'Landroid/telephony/TelephonyManager;->getSimCountryIso',\n",
    "                'Landroid/telephony/TelephonyManager;->getSimSerialNumber',\n",
    "                'Lorg/apache/http/impl/client/DefaultHttpClient;->execute',\n",
    "                'Label']\n",
    "# load dataset\n",
    "data = pd.read_csv(\"TUANDROMD.csv\", header=None, names=col_names, low_memory=False)\n",
    "#take a peek to see if this looks right\n",
    "data.head()"
   ]
  },
  {
   "cell_type": "code",
   "execution_count": 5,
   "id": "b1ca48f8",
   "metadata": {},
   "outputs": [],
   "source": [
    "#split dataset in features and target variable\n",
    "feature_cols = ['ACCESS_ALL_DOWNLOADS','ACCESS_CACHE_FILESYSTEM','ACCESS_CHECKIN_PROPERTIES',\n",
    "                'ACCESS_COARSE_LOCATION','ACCESS_COARSE_UPDATES','ACCESS_FINE_LOCATION',\n",
    "                'ACCESS_LOCATION_EXTRA_COMMANDS','ACCESS_MOCK_LOCATION','ACCESS_MTK_MMHW',\n",
    "                'ACCESS_NETWORK_STATE','ACCESS_PROVIDER','ACCESS_SERVICE','ACCESS_SHARED_DATA',\n",
    "                'ACCESS_SUPERUSER','ACCESS_SURFACE_FLINGER','ACCESS_WIFI_STATE','activityCalled',\n",
    "                'ACTIVITY_RECOGNITION','ACCOUNT_MANAGER','ADD_VOICEMAIL','ANT','ANT_ADMIN',\n",
    "                'AUTHENTICATE_ACCOUNTS','AUTORUN_MANAGER_LICENSE_MANAGER','AUTORUN_MANAGER_LICENSE_SERVICE(.autorun)',\n",
    "                'BATTERY_STATS','BILLING','BIND_ACCESSIBILITY_SERVICE','BIND_APPWIDGET',\n",
    "                'BIND_CARRIER_MESSAGING_SERVICE','BIND_DEVICE_ADMIN','BIND_DREAM_SERVICE',\n",
    "                'BIND_GET_INSTALL_REFERRER_SERVICE','BIND_INPUT_METHOD','BIND_NFC_SERVICE',\n",
    "                'BIND_goodwareTIFICATION_LISTENER_SERVICE','BIND_PRINT_SERVICE','BIND_REMOTEVIEWS',\n",
    "                'BIND_TEXT_SERVICE','BIND_TV_INPUT','BIND_VOICE_INTERACTION','BIND_VPN_SERVICE',\n",
    "                'BIND_WALLPAPER','BLUETOOTH','BLUETOOTH_ADMIN','BLUETOOTH_PRIVILEGED','BODY_SENSORS',\n",
    "                'BRICK','BROADCAST_PACKAGE_REMOVED','BROADCAST_SMS','BROADCAST_STICKY','BROADCAST_WAP_PUSH',\n",
    "                'C2D_MESSAGE','CALL_PHONE','CALL_PRIVILEGED','CAMERA','CAPTURE_AUDIO_OUTPUT',\n",
    "                'CAPTURE_SECURE_VIDEO_OUTPUT','CAPTURE_VIDEO_OUTPUT','CHANGE_COMPONENT_ENABLED_STATE',\n",
    "                'CHANGE_CONFIGURATION','CHANGE_DISPLAY_MODE','CHANGE_NETWORK_STATE',\n",
    "                'CHANGE_WIFI_MULTICAST_STATE','CHANGE_WIFI_STATE','CHECK_LICENSE','CLEAR_APP_CACHE',\n",
    "                'CLEAR_APP_USER_DATA','CONTROL_LOCATION_UPDATES','DATABASE_INTERFACE_SERVICE',\n",
    "                'DELETE_CACHE_FILES','DELETE_PACKAGES','DEVICE_POWER','DIAGgoodwareSTIC','DISABLE_KEYGUARD',\n",
    "                'DOWNLOAD_SERVICE','DOWNLOAD_WITHOUT_goodwareTIFICATION','DUMP','EXPAND_STATUS_BAR',\n",
    "                'EXTENSION_PERMISSION','FACTORY_TEST','FLASHLIGHT','FORCE_BACK','FULLSCREEN.FULL',\n",
    "                'GET_ACCOUNTS','GET_PACKAGE_SIZE','GET_TASKS','GET_TOP_ACTIVITY_INFO','GLOBAL_SEARCH',\n",
    "                'GOOGLE_AUTH','GOOGLE_PHOTOS','HARDWARE_TEST','INJECT_EVENTS','INSTALL_LOCATION_PROVIDER',\n",
    "                'INSTALL_PACKAGES','INSTALL_SHORTCUT','INTERACT_ACROSS_USERS','INTERNAL_SYSTEM_WINDOW',\n",
    "                'INTERNET','JPUSH_MESSAGE','KILL_BACKGROUND_PROCESSES','LOCATION_HARDWARE','MANAGE_ACCOUNTS',\n",
    "                'MANAGE_APP_TOKENS','MANAGE_DOCUMENTS','MAPS_RECEIVE','MASTER_CLEAR','MEDIA_BUTTON',\n",
    "                'MEDIA_CONTENT_CONTROL','MESSAGE','MODIFY_AUDIO_SETTINGS','MODIFY_PHONE_STATE',\n",
    "                'MOUNT_FORMAT_FILESYSTEMS','MOUNT_UNMOUNT_FILESYSTEMS','NFC','PERSISTENT_ACTIVITY',\n",
    "                'PERMISSION','PERMISSION_RUN_TASKS','PLUGIN','PROCESS_OUTGOING_CALLS','READ',\n",
    "                'READ_ATTACHMENT','READ_AVESTTINGS','READ_CALENDAR','READ_CALL_LOG','READ_CONTACTS',\n",
    "                'READ_CONTENT_PROVIDER','READ_DATA','READ_DATABASES','READ_EXTERNAL_STORAGE',\n",
    "                'READ_FRAME_BUFFER','READ_GMAIL','READ_GSERVICES','READ_HISTORY_BOOKMARKS',\n",
    "                'READ_INPUT_STATE','READ_LOGS','READ_MESSAGES','READ_OWNER_DATA','READ_PHONE_STATE',\n",
    "                'READ_PROFILE','READ_SETTINGS','READ_SMS','READ_SOCIAL_STREAM','READ_SYNC_SETTINGS',\n",
    "                'READ_SYNC_STATS','READ_USER_DICTIONARY','READ_VOICEMAIL','REBOOT','RECEIVE',\n",
    "                'RECEIVE_BOOT_COMPLETED','RECEIVE_MMS','RECEIVE_SIGNED_DATA_RESULT','RECEIVE_SMS',\n",
    "                'RECEIVE_USER_PRESENT','RECEIVE_WAP_PUSH','RECORD_AUDIO','REORDER_TASKS','RESPOND',\n",
    "                'RESTART_PACKAGES','REQUEST','SDCARD_WRITE','SEND','SEND_RESPOND_VIA_MESSAGE','SEND_SMS',\n",
    "                'SET_ACTIVITY_WATCHER','SET_ALARM','SET_ALWAYS_FINISH','SET_ANIMATION_SCALE','SET_DEBUG_APP',\n",
    "                'SET_ORIENTATION','SET_POINTER_SPEED','SET_PREFERRED_APPLICATIONS','SET_PROCESS_LIMIT',\n",
    "                'SET_TIME','SET_TIME_ZONE','SET_WALLPAPER','SET_WALLPAPER_HINTS',\n",
    "                'SIGNAL_PERSISTENT_PROCESSES','STATUS_BAR','STORAGE','SUBSCRIBED_FEEDS_READ',\n",
    "                'SUBSCRIBED_FEEDS_WRITE','SYSTEM_ALERT_WINDOW','TRANSMIT_IR','UNINSTALL_SHORTCUT',\n",
    "                'UPDATE_DEVICE_STATS','USES_POLICY_FORCE_LOCK','USE_CREDENTIALS','USE_FINGERPRINT',\n",
    "                'USE_SIP','VIBRATE','WAKE_LOCK','WRITE','WRITE_APN_SETTINGS','WRITE_AVSETTING',\n",
    "                'WRITE_CALENDAR','WRITE_CALL_LOG','WRITE_CONTACTS','WRITE_DATA','WRITE_DATABASES',\n",
    "                'WRITE_EXTERNAL_STORAGE','WRITE_GSERVICES','WRITE_HISTORY_BOOKMARKS',\n",
    "                'WRITE_INTERNAL_STORAGE','WRITE_MEDIA_STORAGE','WRITE_OWNER_DATA','WRITE_PROFILE',\n",
    "                'WRITE_SECURE_SETTINGS','WRITE_SETTINGS','WRITE_SMS','WRITE_SOCIAL_STREAM',\n",
    "                'WRITE_SYNC_SETTINGS','WRITE_USER_DICTIONARY','WRITE_VOICEMAIL',\n",
    "                'Ljava/lang/reflect/Method;->invoke','Ljavax/crypto/Cipher;->doFinal',\n",
    "                'Ljava/lang/Runtime;->exec','Ljava/lang/System;->load',\n",
    "                'Ldalvik/system/DexClassLoader;->loadClass','Ljava/lang/System;->loadLibrary',\n",
    "                'Ljava/net/URL;->openConnection','Landroid/hardware/Camera;->open',\n",
    "                'Landroid/hardware/Camera;->takePicture',\n",
    "                'Landroid/telephony/SmsManager;->sendMultipartTextMessage',\n",
    "                'Landroid/telephony/SmsManager;->sendTextMessage',\n",
    "                'Landroid/media/AudioRecord;->startRecording',\n",
    "                'Landroid/telephony/TelephonyManager;->getCellLocation',\n",
    "                'Lcom/google/android/gms/location/LocationClient;->getLastLocation',\n",
    "                'Landroid/location/LocationManager;->getLastKgoodwarewnLocation',\n",
    "                'Landroid/telephony/TelephonyManager;->getDeviceId',\n",
    "                'Landroid/content/pm/PackageManager;->getInstalledApplications',\n",
    "                'Landroid/content/pm/PackageManager;->getInstalledPackages',\n",
    "                'Landroid/telephony/TelephonyManager;->getLine1Number',\n",
    "                'Landroid/telephony/TelephonyManager;->getNetworkOperator',\n",
    "                'Landroid/telephony/TelephonyManager;->getNetworkOperatorName',\n",
    "                'Landroid/telephony/TelephonyManager;->getNetworkCountryIso',\n",
    "                'Landroid/telephony/TelephonyManager;->getSimOperator',\n",
    "                'Landroid/telephony/TelephonyManager;->getSimOperatorName',\n",
    "                'Landroid/telephony/TelephonyManager;->getSimCountryIso',\n",
    "                'Landroid/telephony/TelephonyManager;->getSimSerialNumber',\n",
    "                'Lorg/apache/http/impl/client/DefaultHttpClient;->execute']\n"
   ]
  },
  {
   "cell_type": "code",
   "execution_count": 6,
   "id": "54870212",
   "metadata": {},
   "outputs": [
    {
     "data": {
      "text/html": [
       "<div>\n",
       "<style scoped>\n",
       "    .dataframe tbody tr th:only-of-type {\n",
       "        vertical-align: middle;\n",
       "    }\n",
       "\n",
       "    .dataframe tbody tr th {\n",
       "        vertical-align: top;\n",
       "    }\n",
       "\n",
       "    .dataframe thead th {\n",
       "        text-align: right;\n",
       "    }\n",
       "</style>\n",
       "<table border=\"1\" class=\"dataframe\">\n",
       "  <thead>\n",
       "    <tr style=\"text-align: right;\">\n",
       "      <th></th>\n",
       "      <th>ACCESS_ALL_DOWNLOADS</th>\n",
       "      <th>ACCESS_CACHE_FILESYSTEM</th>\n",
       "      <th>ACCESS_CHECKIN_PROPERTIES</th>\n",
       "      <th>ACCESS_COARSE_LOCATION</th>\n",
       "      <th>ACCESS_COARSE_UPDATES</th>\n",
       "      <th>ACCESS_FINE_LOCATION</th>\n",
       "      <th>ACCESS_LOCATION_EXTRA_COMMANDS</th>\n",
       "      <th>ACCESS_MOCK_LOCATION</th>\n",
       "      <th>ACCESS_MTK_MMHW</th>\n",
       "      <th>ACCESS_NETWORK_STATE</th>\n",
       "      <th>...</th>\n",
       "      <th>Landroid/content/pm/PackageManager;-&gt;getInstalledPackages</th>\n",
       "      <th>Landroid/telephony/TelephonyManager;-&gt;getLine1Number</th>\n",
       "      <th>Landroid/telephony/TelephonyManager;-&gt;getNetworkOperator</th>\n",
       "      <th>Landroid/telephony/TelephonyManager;-&gt;getNetworkOperatorName</th>\n",
       "      <th>Landroid/telephony/TelephonyManager;-&gt;getNetworkCountryIso</th>\n",
       "      <th>Landroid/telephony/TelephonyManager;-&gt;getSimOperator</th>\n",
       "      <th>Landroid/telephony/TelephonyManager;-&gt;getSimOperatorName</th>\n",
       "      <th>Landroid/telephony/TelephonyManager;-&gt;getSimCountryIso</th>\n",
       "      <th>Landroid/telephony/TelephonyManager;-&gt;getSimSerialNumber</th>\n",
       "      <th>Lorg/apache/http/impl/client/DefaultHttpClient;-&gt;execute</th>\n",
       "    </tr>\n",
       "  </thead>\n",
       "  <tbody>\n",
       "    <tr>\n",
       "      <th>0</th>\n",
       "      <td>-0.029948</td>\n",
       "      <td>-0.029948</td>\n",
       "      <td>-0.070376</td>\n",
       "      <td>-0.301511</td>\n",
       "      <td>-0.083624</td>\n",
       "      <td>-0.31027</td>\n",
       "      <td>-0.152918</td>\n",
       "      <td>-0.155959</td>\n",
       "      <td>-0.014969</td>\n",
       "      <td>0.822760</td>\n",
       "      <td>...</td>\n",
       "      <td>-0.234138</td>\n",
       "      <td>2.185155</td>\n",
       "      <td>1.752995</td>\n",
       "      <td>1.905441</td>\n",
       "      <td>-0.317590</td>\n",
       "      <td>-0.312002</td>\n",
       "      <td>-0.244085</td>\n",
       "      <td>-0.391776</td>\n",
       "      <td>-0.117704</td>\n",
       "      <td>2.379640</td>\n",
       "    </tr>\n",
       "    <tr>\n",
       "      <th>1</th>\n",
       "      <td>-0.029948</td>\n",
       "      <td>-0.029948</td>\n",
       "      <td>-0.070376</td>\n",
       "      <td>-0.301511</td>\n",
       "      <td>-0.083624</td>\n",
       "      <td>-0.31027</td>\n",
       "      <td>-0.152918</td>\n",
       "      <td>-0.155959</td>\n",
       "      <td>-0.014969</td>\n",
       "      <td>0.822760</td>\n",
       "      <td>...</td>\n",
       "      <td>-0.234138</td>\n",
       "      <td>-0.457633</td>\n",
       "      <td>-0.570452</td>\n",
       "      <td>-0.524813</td>\n",
       "      <td>3.148718</td>\n",
       "      <td>-0.312002</td>\n",
       "      <td>-0.244085</td>\n",
       "      <td>2.552479</td>\n",
       "      <td>-0.117704</td>\n",
       "      <td>-0.420232</td>\n",
       "    </tr>\n",
       "    <tr>\n",
       "      <th>2</th>\n",
       "      <td>-0.029948</td>\n",
       "      <td>-0.029948</td>\n",
       "      <td>-0.070376</td>\n",
       "      <td>-0.301511</td>\n",
       "      <td>-0.083624</td>\n",
       "      <td>-0.31027</td>\n",
       "      <td>-0.152918</td>\n",
       "      <td>-0.155959</td>\n",
       "      <td>-0.014969</td>\n",
       "      <td>0.822760</td>\n",
       "      <td>...</td>\n",
       "      <td>-0.234138</td>\n",
       "      <td>-0.457633</td>\n",
       "      <td>-0.570452</td>\n",
       "      <td>-0.524813</td>\n",
       "      <td>-0.317590</td>\n",
       "      <td>-0.312002</td>\n",
       "      <td>-0.244085</td>\n",
       "      <td>-0.391776</td>\n",
       "      <td>-0.117704</td>\n",
       "      <td>-0.420232</td>\n",
       "    </tr>\n",
       "    <tr>\n",
       "      <th>3</th>\n",
       "      <td>-0.029948</td>\n",
       "      <td>-0.029948</td>\n",
       "      <td>-0.070376</td>\n",
       "      <td>-0.301511</td>\n",
       "      <td>-0.083624</td>\n",
       "      <td>-0.31027</td>\n",
       "      <td>-0.152918</td>\n",
       "      <td>-0.155959</td>\n",
       "      <td>-0.014969</td>\n",
       "      <td>-1.215421</td>\n",
       "      <td>...</td>\n",
       "      <td>-0.234138</td>\n",
       "      <td>-0.457633</td>\n",
       "      <td>1.752995</td>\n",
       "      <td>1.905441</td>\n",
       "      <td>3.148718</td>\n",
       "      <td>3.205110</td>\n",
       "      <td>-0.244085</td>\n",
       "      <td>2.552479</td>\n",
       "      <td>-0.117704</td>\n",
       "      <td>-0.420232</td>\n",
       "    </tr>\n",
       "    <tr>\n",
       "      <th>4</th>\n",
       "      <td>-0.029948</td>\n",
       "      <td>-0.029948</td>\n",
       "      <td>-0.070376</td>\n",
       "      <td>-0.301511</td>\n",
       "      <td>-0.083624</td>\n",
       "      <td>-0.31027</td>\n",
       "      <td>-0.152918</td>\n",
       "      <td>-0.155959</td>\n",
       "      <td>-0.014969</td>\n",
       "      <td>-1.215421</td>\n",
       "      <td>...</td>\n",
       "      <td>-0.234138</td>\n",
       "      <td>-0.457633</td>\n",
       "      <td>-0.570452</td>\n",
       "      <td>-0.524813</td>\n",
       "      <td>-0.317590</td>\n",
       "      <td>-0.312002</td>\n",
       "      <td>-0.244085</td>\n",
       "      <td>-0.391776</td>\n",
       "      <td>-0.117704</td>\n",
       "      <td>-0.420232</td>\n",
       "    </tr>\n",
       "  </tbody>\n",
       "</table>\n",
       "<p>5 rows × 241 columns</p>\n",
       "</div>"
      ],
      "text/plain": [
       "   ACCESS_ALL_DOWNLOADS  ACCESS_CACHE_FILESYSTEM  ACCESS_CHECKIN_PROPERTIES  \\\n",
       "0             -0.029948                -0.029948                  -0.070376   \n",
       "1             -0.029948                -0.029948                  -0.070376   \n",
       "2             -0.029948                -0.029948                  -0.070376   \n",
       "3             -0.029948                -0.029948                  -0.070376   \n",
       "4             -0.029948                -0.029948                  -0.070376   \n",
       "\n",
       "   ACCESS_COARSE_LOCATION  ACCESS_COARSE_UPDATES  ACCESS_FINE_LOCATION  \\\n",
       "0               -0.301511              -0.083624              -0.31027   \n",
       "1               -0.301511              -0.083624              -0.31027   \n",
       "2               -0.301511              -0.083624              -0.31027   \n",
       "3               -0.301511              -0.083624              -0.31027   \n",
       "4               -0.301511              -0.083624              -0.31027   \n",
       "\n",
       "   ACCESS_LOCATION_EXTRA_COMMANDS  ACCESS_MOCK_LOCATION  ACCESS_MTK_MMHW  \\\n",
       "0                       -0.152918             -0.155959        -0.014969   \n",
       "1                       -0.152918             -0.155959        -0.014969   \n",
       "2                       -0.152918             -0.155959        -0.014969   \n",
       "3                       -0.152918             -0.155959        -0.014969   \n",
       "4                       -0.152918             -0.155959        -0.014969   \n",
       "\n",
       "   ACCESS_NETWORK_STATE  ...  \\\n",
       "0              0.822760  ...   \n",
       "1              0.822760  ...   \n",
       "2              0.822760  ...   \n",
       "3             -1.215421  ...   \n",
       "4             -1.215421  ...   \n",
       "\n",
       "   Landroid/content/pm/PackageManager;->getInstalledPackages  \\\n",
       "0                                          -0.234138           \n",
       "1                                          -0.234138           \n",
       "2                                          -0.234138           \n",
       "3                                          -0.234138           \n",
       "4                                          -0.234138           \n",
       "\n",
       "   Landroid/telephony/TelephonyManager;->getLine1Number  \\\n",
       "0                                           2.185155      \n",
       "1                                          -0.457633      \n",
       "2                                          -0.457633      \n",
       "3                                          -0.457633      \n",
       "4                                          -0.457633      \n",
       "\n",
       "   Landroid/telephony/TelephonyManager;->getNetworkOperator  \\\n",
       "0                                           1.752995          \n",
       "1                                          -0.570452          \n",
       "2                                          -0.570452          \n",
       "3                                           1.752995          \n",
       "4                                          -0.570452          \n",
       "\n",
       "   Landroid/telephony/TelephonyManager;->getNetworkOperatorName  \\\n",
       "0                                           1.905441              \n",
       "1                                          -0.524813              \n",
       "2                                          -0.524813              \n",
       "3                                           1.905441              \n",
       "4                                          -0.524813              \n",
       "\n",
       "   Landroid/telephony/TelephonyManager;->getNetworkCountryIso  \\\n",
       "0                                          -0.317590            \n",
       "1                                           3.148718            \n",
       "2                                          -0.317590            \n",
       "3                                           3.148718            \n",
       "4                                          -0.317590            \n",
       "\n",
       "   Landroid/telephony/TelephonyManager;->getSimOperator  \\\n",
       "0                                          -0.312002      \n",
       "1                                          -0.312002      \n",
       "2                                          -0.312002      \n",
       "3                                           3.205110      \n",
       "4                                          -0.312002      \n",
       "\n",
       "   Landroid/telephony/TelephonyManager;->getSimOperatorName  \\\n",
       "0                                          -0.244085          \n",
       "1                                          -0.244085          \n",
       "2                                          -0.244085          \n",
       "3                                          -0.244085          \n",
       "4                                          -0.244085          \n",
       "\n",
       "   Landroid/telephony/TelephonyManager;->getSimCountryIso  \\\n",
       "0                                          -0.391776        \n",
       "1                                           2.552479        \n",
       "2                                          -0.391776        \n",
       "3                                           2.552479        \n",
       "4                                          -0.391776        \n",
       "\n",
       "   Landroid/telephony/TelephonyManager;->getSimSerialNumber  \\\n",
       "0                                          -0.117704          \n",
       "1                                          -0.117704          \n",
       "2                                          -0.117704          \n",
       "3                                          -0.117704          \n",
       "4                                          -0.117704          \n",
       "\n",
       "   Lorg/apache/http/impl/client/DefaultHttpClient;->execute  \n",
       "0                                           2.379640         \n",
       "1                                          -0.420232         \n",
       "2                                          -0.420232         \n",
       "3                                          -0.420232         \n",
       "4                                          -0.420232         \n",
       "\n",
       "[5 rows x 241 columns]"
      ]
     },
     "execution_count": 6,
     "metadata": {},
     "output_type": "execute_result"
    }
   ],
   "source": [
    "# Import module to standardize the scale\n",
    "from sklearn.preprocessing import StandardScaler\n",
    "# Create instance (i.e. object) of the standard scaler\n",
    "scaler = StandardScaler()\n",
    "# Fit the object to all the data except the Target Class or Outcome\n",
    "# use the .drop() method to gather all features except Target Class/outcome\n",
    "# axis -> argument refers to columns; a 0 would represent rows a 1 is column\n",
    "scaler.fit(data.drop('Label', axis=1))\n",
    "# Use scaler object to conduct a transforms\n",
    "scaled_features = scaler.transform(data.drop('Label',axis=1))\n",
    "# Review the array of values generated from the scaled features process\n",
    "#print(scaled_features)\n",
    "#Here we have the normalized dataset, minus the target/output column which is the last col\n",
    "data_feat = pd.DataFrame(scaled_features, columns= data.columns[:-1])\n",
    "#see what you did\n",
    "data_feat.head()#optional"
   ]
  },
  {
   "cell_type": "code",
   "execution_count": 8,
   "id": "a2abb45d",
   "metadata": {},
   "outputs": [],
   "source": [
    "X = data_feat[feature_cols] # Features\n",
    "y = data.Label # Target variable - notice - you need to spell the column name for the target correctly for this to work\n",
    "# Split dataset into training set and test set\n",
    "X_train, X_test, y_train, y_test = train_test_split(X, y, test_size=0.3, random_state=1)\n",
    "# 70% training and 30% test"
   ]
  },
  {
   "cell_type": "code",
   "execution_count": 13,
   "id": "0c733d5c",
   "metadata": {},
   "outputs": [
    {
     "name": "stdout",
     "output_type": "stream",
     "text": [
      "              precision    recall  f1-score   support\n",
      "\n",
      "    goodware       0.97      0.93      0.95       263\n",
      "     malware       0.98      0.99      0.99      1077\n",
      "\n",
      "    accuracy                           0.98      1340\n",
      "   macro avg       0.98      0.96      0.97      1340\n",
      "weighted avg       0.98      0.98      0.98      1340\n",
      "\n"
     ]
    }
   ],
   "source": [
    "#load the needed libraries:\n",
    "import pandas as pd\n",
    "from sklearn.preprocessing import StandardScaler\n",
    "from sklearn.linear_model import Perceptron\n",
    "from sklearn.model_selection import train_test_split\n",
    "from sklearn import metrics #Import scikit-learn metrics module for metric evaluations\n",
    "import numpy as np\n",
    "# Create a perceptron object with the parameters: default max_iter (epochs)\n",
    "#over the data is 1000, eta0 default is 1 - constant by which updates are\n",
    "#multiplied by\n",
    "ppn = Perceptron(random_state=37)#using the default\n",
    "# Train the perceptron\n",
    "ppn.fit(X_train, y_train)\n",
    "# Apply the trained perceptron on the X data to make predicts for the y test data\n",
    "y_pred = ppn.predict(X_test)\n",
    "print(metrics.classification_report(y_test,y_pred))"
   ]
  },
  {
   "cell_type": "code",
   "execution_count": 14,
   "id": "7693dd06",
   "metadata": {},
   "outputs": [
    {
     "name": "stdout",
     "output_type": "stream",
     "text": [
      "              precision    recall  f1-score   support\n",
      "\n",
      "    goodware       0.98      0.91      0.94       263\n",
      "     malware       0.98      0.99      0.99      1077\n",
      "\n",
      "    accuracy                           0.98      1340\n",
      "   macro avg       0.98      0.95      0.96      1340\n",
      "weighted avg       0.98      0.98      0.98      1340\n",
      "\n"
     ]
    }
   ],
   "source": [
    "# Create a perceptron object with the parameters: default max_iter (epochs)\n",
    "#over the data is 1000, eta0 default is 1 - constant by which updates are\n",
    "#multiplied by\n",
    "ppn = Perceptron()#using the default\n",
    "# Train the perceptron\n",
    "ppn.fit(X_train, y_train)\n",
    "# Apply the trained perceptron on the X data to make predicts for the y test data\n",
    "y_pred = ppn.predict(X_test)\n",
    "print(metrics.classification_report(y_test,y_pred))"
   ]
  },
  {
   "cell_type": "markdown",
   "id": "ef5142e6",
   "metadata": {},
   "source": [
    "#### having a random state does slightly better than not"
   ]
  },
  {
   "cell_type": "code",
   "execution_count": 15,
   "id": "4244ec5d",
   "metadata": {},
   "outputs": [
    {
     "name": "stdout",
     "output_type": "stream",
     "text": [
      "              precision    recall  f1-score   support\n",
      "\n",
      "    goodware       0.97      0.93      0.95       263\n",
      "     malware       0.98      0.99      0.99      1077\n",
      "\n",
      "    accuracy                           0.98      1340\n",
      "   macro avg       0.98      0.96      0.97      1340\n",
      "weighted avg       0.98      0.98      0.98      1340\n",
      "\n"
     ]
    }
   ],
   "source": [
    "# Create a perceptron object with the parameters: default max_iter (epochs)\n",
    "#over the data is 1000, eta0 default is 1 - constant by which updates are\n",
    "#multiplied by\n",
    "ppn = Perceptron(random_state=37)#using the default\n",
    "# Train the perceptron\n",
    "ppn.fit(X_train, y_train)\n",
    "# Apply the trained perceptron on the X data to make predicts for the y test data\n",
    "y_pred = ppn.predict(X_test)\n",
    "print(metrics.classification_report(y_test,y_pred))"
   ]
  },
  {
   "cell_type": "code",
   "execution_count": 16,
   "id": "5dba87d8",
   "metadata": {},
   "outputs": [
    {
     "name": "stdout",
     "output_type": "stream",
     "text": [
      "              precision    recall  f1-score   support\n",
      "\n",
      "    goodware       0.96      0.94      0.95       263\n",
      "     malware       0.99      0.99      0.99      1077\n",
      "\n",
      "    accuracy                           0.98      1340\n",
      "   macro avg       0.97      0.96      0.97      1340\n",
      "weighted avg       0.98      0.98      0.98      1340\n",
      "\n"
     ]
    }
   ],
   "source": [
    "# Create a perceptron object with the parameters: default max_iter (epochs)\n",
    "#over the data is 1000, eta0 default is 1 - constant by which updates are\n",
    "#multiplied by\n",
    "ppn = Perceptron(random_state=37, early_stopping=True)#using the default\n",
    "# Train the perceptron\n",
    "ppn.fit(X_train, y_train)\n",
    "# Apply the trained perceptron on the X data to make predicts for the y test data\n",
    "y_pred = ppn.predict(X_test)\n",
    "print(metrics.classification_report(y_test,y_pred))"
   ]
  },
  {
   "cell_type": "markdown",
   "id": "9faf1e08",
   "metadata": {},
   "source": [
    "#### Seems like early stopping perfoms pretty similarly to the regular"
   ]
  },
  {
   "cell_type": "code",
   "execution_count": 17,
   "id": "ea9d7f25",
   "metadata": {},
   "outputs": [
    {
     "name": "stdout",
     "output_type": "stream",
     "text": [
      "              precision    recall  f1-score   support\n",
      "\n",
      "    goodware       0.97      0.93      0.95       263\n",
      "     malware       0.98      0.99      0.99      1077\n",
      "\n",
      "    accuracy                           0.98      1340\n",
      "   macro avg       0.98      0.96      0.97      1340\n",
      "weighted avg       0.98      0.98      0.98      1340\n",
      "\n"
     ]
    }
   ],
   "source": [
    "# Create a perceptron object with the parameters: default max_iter (epochs)\n",
    "#over the data is 1000, eta0 default is 1 - constant by which updates are\n",
    "#multiplied by\n",
    "ppn = Perceptron(random_state=37, max_iter=100)#using the default\n",
    "# Train the perceptron\n",
    "ppn.fit(X_train, y_train)\n",
    "# Apply the trained perceptron on the X data to make predicts for the y test data\n",
    "y_pred = ppn.predict(X_test)\n",
    "print(metrics.classification_report(y_test,y_pred))"
   ]
  },
  {
   "cell_type": "code",
   "execution_count": 18,
   "id": "0537a49c",
   "metadata": {},
   "outputs": [
    {
     "name": "stdout",
     "output_type": "stream",
     "text": [
      "              precision    recall  f1-score   support\n",
      "\n",
      "    goodware       0.97      0.93      0.95       263\n",
      "     malware       0.98      0.99      0.99      1077\n",
      "\n",
      "    accuracy                           0.98      1340\n",
      "   macro avg       0.98      0.96      0.97      1340\n",
      "weighted avg       0.98      0.98      0.98      1340\n",
      "\n"
     ]
    }
   ],
   "source": [
    "# Create a perceptron object with the parameters: default max_iter (epochs)\n",
    "#over the data is 1000, eta0 default is 1 - constant by which updates are\n",
    "#multiplied by\n",
    "ppn = Perceptron(random_state=37, max_iter=50)#using the default\n",
    "# Train the perceptron\n",
    "ppn.fit(X_train, y_train)\n",
    "# Apply the trained perceptron on the X data to make predicts for the y test data\n",
    "y_pred = ppn.predict(X_test)\n",
    "print(metrics.classification_report(y_test,y_pred))"
   ]
  },
  {
   "cell_type": "code",
   "execution_count": 19,
   "id": "14184edf",
   "metadata": {},
   "outputs": [
    {
     "name": "stdout",
     "output_type": "stream",
     "text": [
      "              precision    recall  f1-score   support\n",
      "\n",
      "    goodware       0.97      0.93      0.95       263\n",
      "     malware       0.98      0.99      0.99      1077\n",
      "\n",
      "    accuracy                           0.98      1340\n",
      "   macro avg       0.98      0.96      0.97      1340\n",
      "weighted avg       0.98      0.98      0.98      1340\n",
      "\n"
     ]
    }
   ],
   "source": [
    "# Create a perceptron object with the parameters: default max_iter (epochs)\n",
    "#over the data is 1000, eta0 default is 1 - constant by which updates are\n",
    "#multiplied by\n",
    "ppn = Perceptron(random_state=37, max_iter=25)#using the default\n",
    "# Train the perceptron\n",
    "ppn.fit(X_train, y_train)\n",
    "# Apply the trained perceptron on the X data to make predicts for the y test data\n",
    "y_pred = ppn.predict(X_test)\n",
    "print(metrics.classification_report(y_test,y_pred))"
   ]
  },
  {
   "cell_type": "code",
   "execution_count": 20,
   "id": "5be77095",
   "metadata": {},
   "outputs": [
    {
     "name": "stdout",
     "output_type": "stream",
     "text": [
      "              precision    recall  f1-score   support\n",
      "\n",
      "    goodware       0.97      0.93      0.95       263\n",
      "     malware       0.98      0.99      0.99      1077\n",
      "\n",
      "    accuracy                           0.98      1340\n",
      "   macro avg       0.98      0.96      0.97      1340\n",
      "weighted avg       0.98      0.98      0.98      1340\n",
      "\n"
     ]
    }
   ],
   "source": [
    "# Create a perceptron object with the parameters: default max_iter (epochs)\n",
    "#over the data is 1000, eta0 default is 1 - constant by which updates are\n",
    "#multiplied by\n",
    "ppn = Perceptron(random_state=37, max_iter=12)#using the default\n",
    "# Train the perceptron\n",
    "ppn.fit(X_train, y_train)\n",
    "# Apply the trained perceptron on the X data to make predicts for the y test data\n",
    "y_pred = ppn.predict(X_test)\n",
    "print(metrics.classification_report(y_test,y_pred))"
   ]
  },
  {
   "cell_type": "code",
   "execution_count": 21,
   "id": "5dba227d",
   "metadata": {},
   "outputs": [
    {
     "name": "stdout",
     "output_type": "stream",
     "text": [
      "              precision    recall  f1-score   support\n",
      "\n",
      "    goodware       0.93      0.95      0.94       263\n",
      "     malware       0.99      0.98      0.99      1077\n",
      "\n",
      "    accuracy                           0.98      1340\n",
      "   macro avg       0.96      0.97      0.96      1340\n",
      "weighted avg       0.98      0.98      0.98      1340\n",
      "\n"
     ]
    },
    {
     "name": "stderr",
     "output_type": "stream",
     "text": [
      "/home/anerud001/.local/lib/python3.11/site-packages/sklearn/linear_model/_stochastic_gradient.py:713: ConvergenceWarning: Maximum number of iteration reached before convergence. Consider increasing max_iter to improve the fit.\n",
      "  warnings.warn(\n"
     ]
    }
   ],
   "source": [
    "# Create a perceptron object with the parameters: default max_iter (epochs)\n",
    "#over the data is 1000, eta0 default is 1 - constant by which updates are\n",
    "#multiplied by\n",
    "ppn = Perceptron(random_state=37, max_iter=6)#using the default\n",
    "# Train the perceptron\n",
    "ppn.fit(X_train, y_train)\n",
    "# Apply the trained perceptron on the X data to make predicts for the y test data\n",
    "y_pred = ppn.predict(X_test)\n",
    "print(metrics.classification_report(y_test,y_pred))"
   ]
  },
  {
   "cell_type": "code",
   "execution_count": 22,
   "id": "316c8fd1",
   "metadata": {},
   "outputs": [
    {
     "name": "stdout",
     "output_type": "stream",
     "text": [
      "              precision    recall  f1-score   support\n",
      "\n",
      "    goodware       0.96      0.93      0.95       263\n",
      "     malware       0.98      0.99      0.99      1077\n",
      "\n",
      "    accuracy                           0.98      1340\n",
      "   macro avg       0.97      0.96      0.97      1340\n",
      "weighted avg       0.98      0.98      0.98      1340\n",
      "\n"
     ]
    },
    {
     "name": "stderr",
     "output_type": "stream",
     "text": [
      "/home/anerud001/.local/lib/python3.11/site-packages/sklearn/linear_model/_stochastic_gradient.py:713: ConvergenceWarning: Maximum number of iteration reached before convergence. Consider increasing max_iter to improve the fit.\n",
      "  warnings.warn(\n"
     ]
    }
   ],
   "source": [
    "# Create a perceptron object with the parameters: default max_iter (epochs)\n",
    "#over the data is 1000, eta0 default is 1 - constant by which updates are\n",
    "#multiplied by\n",
    "ppn = Perceptron(random_state=37, max_iter=3)#using the default\n",
    "# Train the perceptron\n",
    "ppn.fit(X_train, y_train)\n",
    "# Apply the trained perceptron on the X data to make predicts for the y test data\n",
    "y_pred = ppn.predict(X_test)\n",
    "print(metrics.classification_report(y_test,y_pred))"
   ]
  },
  {
   "cell_type": "code",
   "execution_count": 24,
   "id": "d9e36bf1",
   "metadata": {},
   "outputs": [
    {
     "name": "stdout",
     "output_type": "stream",
     "text": [
      "              precision    recall  f1-score   support\n",
      "\n",
      "    goodware       0.92      0.94      0.93       263\n",
      "     malware       0.99      0.98      0.98      1077\n",
      "\n",
      "    accuracy                           0.97      1340\n",
      "   macro avg       0.95      0.96      0.96      1340\n",
      "weighted avg       0.97      0.97      0.97      1340\n",
      "\n"
     ]
    },
    {
     "name": "stderr",
     "output_type": "stream",
     "text": [
      "/home/anerud001/.local/lib/python3.11/site-packages/sklearn/linear_model/_stochastic_gradient.py:713: ConvergenceWarning: Maximum number of iteration reached before convergence. Consider increasing max_iter to improve the fit.\n",
      "  warnings.warn(\n"
     ]
    }
   ],
   "source": [
    "# Create a perceptron object with the parameters: default max_iter (epochs)\n",
    "#over the data is 1000, eta0 default is 1 - constant by which updates are\n",
    "#multiplied by\n",
    "ppn = Perceptron(random_state=37, max_iter=2)#using the default\n",
    "# Train the perceptron\n",
    "ppn.fit(X_train, y_train)\n",
    "# Apply the trained perceptron on the X data to make predicts for the y test data\n",
    "y_pred = ppn.predict(X_test)\n",
    "print(metrics.classification_report(y_test,y_pred))"
   ]
  },
  {
   "cell_type": "code",
   "execution_count": 23,
   "id": "060de7c7",
   "metadata": {},
   "outputs": [
    {
     "name": "stdout",
     "output_type": "stream",
     "text": [
      "              precision    recall  f1-score   support\n",
      "\n",
      "    goodware       0.92      0.93      0.93       263\n",
      "     malware       0.98      0.98      0.98      1077\n",
      "\n",
      "    accuracy                           0.97      1340\n",
      "   macro avg       0.95      0.95      0.95      1340\n",
      "weighted avg       0.97      0.97      0.97      1340\n",
      "\n"
     ]
    },
    {
     "name": "stderr",
     "output_type": "stream",
     "text": [
      "/home/anerud001/.local/lib/python3.11/site-packages/sklearn/linear_model/_stochastic_gradient.py:713: ConvergenceWarning: Maximum number of iteration reached before convergence. Consider increasing max_iter to improve the fit.\n",
      "  warnings.warn(\n"
     ]
    }
   ],
   "source": [
    "# Create a perceptron object with the parameters: default max_iter (epochs)\n",
    "#over the data is 1000, eta0 default is 1 - constant by which updates are\n",
    "#multiplied by\n",
    "ppn = Perceptron(random_state=37, max_iter=1)#using the default\n",
    "# Train the perceptron\n",
    "ppn.fit(X_train, y_train)\n",
    "# Apply the trained perceptron on the X data to make predicts for the y test data\n",
    "y_pred = ppn.predict(X_test)\n",
    "print(metrics.classification_report(y_test,y_pred))"
   ]
  },
  {
   "cell_type": "code",
   "execution_count": 25,
   "id": "2dd24659",
   "metadata": {},
   "outputs": [
    {
     "name": "stdout",
     "output_type": "stream",
     "text": [
      "              precision    recall  f1-score   support\n",
      "\n",
      "    goodware       0.94      0.94      0.94       263\n",
      "     malware       0.99      0.99      0.99      1077\n",
      "\n",
      "    accuracy                           0.98      1340\n",
      "   macro avg       0.96      0.96      0.96      1340\n",
      "weighted avg       0.98      0.98      0.98      1340\n",
      "\n"
     ]
    },
    {
     "name": "stderr",
     "output_type": "stream",
     "text": [
      "/home/anerud001/.local/lib/python3.11/site-packages/sklearn/linear_model/_stochastic_gradient.py:713: ConvergenceWarning: Maximum number of iteration reached before convergence. Consider increasing max_iter to improve the fit.\n",
      "  warnings.warn(\n"
     ]
    }
   ],
   "source": [
    "# Create a perceptron object with the parameters: default max_iter (epochs)\n",
    "#over the data is 1000, eta0 default is 1 - constant by which updates are\n",
    "#multiplied by\n",
    "ppn = Perceptron(max_iter=3)#using the default\n",
    "# Train the perceptron\n",
    "ppn.fit(X_train, y_train)\n",
    "# Apply the trained perceptron on the X data to make predicts for the y test data\n",
    "y_pred = ppn.predict(X_test)\n",
    "print(metrics.classification_report(y_test,y_pred))"
   ]
  },
  {
   "cell_type": "markdown",
   "id": "81df43d5",
   "metadata": {},
   "source": [
    "#### Having 3 or >~10 max_iter seems to work best for this dataset"
   ]
  },
  {
   "cell_type": "code",
   "execution_count": 26,
   "id": "0f105fa8",
   "metadata": {},
   "outputs": [
    {
     "name": "stdout",
     "output_type": "stream",
     "text": [
      "              precision    recall  f1-score   support\n",
      "\n",
      "    goodware       0.96      0.94      0.95       263\n",
      "     malware       0.99      0.99      0.99      1077\n",
      "\n",
      "    accuracy                           0.98      1340\n",
      "   macro avg       0.97      0.96      0.97      1340\n",
      "weighted avg       0.98      0.98      0.98      1340\n",
      "\n"
     ]
    }
   ],
   "source": [
    "# Create a perceptron object with the parameters: default max_iter (epochs)\n",
    "#over the data is 1000, eta0 default is 1 - constant by which updates are\n",
    "#multiplied by\n",
    "ppn = Perceptron(random_state=37, max_iter=100, early_stopping=True)#using the default\n",
    "# Train the perceptron\n",
    "ppn.fit(X_train, y_train)\n",
    "# Apply the trained perceptron on the X data to make predicts for the y test data\n",
    "y_pred = ppn.predict(X_test)\n",
    "print(metrics.classification_report(y_test,y_pred))"
   ]
  },
  {
   "cell_type": "code",
   "execution_count": 27,
   "id": "79af7aa5",
   "metadata": {},
   "outputs": [
    {
     "name": "stdout",
     "output_type": "stream",
     "text": [
      "              precision    recall  f1-score   support\n",
      "\n",
      "    goodware       0.96      0.94      0.95       263\n",
      "     malware       0.99      0.99      0.99      1077\n",
      "\n",
      "    accuracy                           0.98      1340\n",
      "   macro avg       0.97      0.96      0.97      1340\n",
      "weighted avg       0.98      0.98      0.98      1340\n",
      "\n"
     ]
    }
   ],
   "source": [
    "# Create a perceptron object with the parameters: default max_iter (epochs)\n",
    "#over the data is 1000, eta0 default is 1 - constant by which updates are\n",
    "#multiplied by\n",
    "ppn = Perceptron(random_state=37, max_iter=50, early_stopping=True)#using the default\n",
    "# Train the perceptron\n",
    "ppn.fit(X_train, y_train)\n",
    "# Apply the trained perceptron on the X data to make predicts for the y test data\n",
    "y_pred = ppn.predict(X_test)\n",
    "print(metrics.classification_report(y_test,y_pred))"
   ]
  },
  {
   "cell_type": "code",
   "execution_count": 28,
   "id": "388fecaa",
   "metadata": {},
   "outputs": [
    {
     "name": "stdout",
     "output_type": "stream",
     "text": [
      "              precision    recall  f1-score   support\n",
      "\n",
      "    goodware       0.96      0.94      0.95       263\n",
      "     malware       0.99      0.99      0.99      1077\n",
      "\n",
      "    accuracy                           0.98      1340\n",
      "   macro avg       0.97      0.96      0.97      1340\n",
      "weighted avg       0.98      0.98      0.98      1340\n",
      "\n"
     ]
    }
   ],
   "source": [
    "# Create a perceptron object with the parameters: default max_iter (epochs)\n",
    "#over the data is 1000, eta0 default is 1 - constant by which updates are\n",
    "#multiplied by\n",
    "ppn = Perceptron(random_state=37, max_iter=10, early_stopping=True)#using the default\n",
    "# Train the perceptron\n",
    "ppn.fit(X_train, y_train)\n",
    "# Apply the trained perceptron on the X data to make predicts for the y test data\n",
    "y_pred = ppn.predict(X_test)\n",
    "print(metrics.classification_report(y_test,y_pred))"
   ]
  },
  {
   "cell_type": "code",
   "execution_count": 29,
   "id": "bc943761",
   "metadata": {},
   "outputs": [
    {
     "name": "stdout",
     "output_type": "stream",
     "text": [
      "              precision    recall  f1-score   support\n",
      "\n",
      "    goodware       0.96      0.93      0.95       263\n",
      "     malware       0.98      0.99      0.99      1077\n",
      "\n",
      "    accuracy                           0.98      1340\n",
      "   macro avg       0.97      0.96      0.97      1340\n",
      "weighted avg       0.98      0.98      0.98      1340\n",
      "\n"
     ]
    },
    {
     "name": "stderr",
     "output_type": "stream",
     "text": [
      "/home/anerud001/.local/lib/python3.11/site-packages/sklearn/linear_model/_stochastic_gradient.py:713: ConvergenceWarning: Maximum number of iteration reached before convergence. Consider increasing max_iter to improve the fit.\n",
      "  warnings.warn(\n"
     ]
    }
   ],
   "source": [
    "# Create a perceptron object with the parameters: default max_iter (epochs)\n",
    "#over the data is 1000, eta0 default is 1 - constant by which updates are\n",
    "#multiplied by\n",
    "ppn = Perceptron(random_state=37, max_iter=5, early_stopping=True)#using the default\n",
    "# Train the perceptron\n",
    "ppn.fit(X_train, y_train)\n",
    "# Apply the trained perceptron on the X data to make predicts for the y test data\n",
    "y_pred = ppn.predict(X_test)\n",
    "print(metrics.classification_report(y_test,y_pred))"
   ]
  },
  {
   "cell_type": "code",
   "execution_count": 36,
   "id": "3f365228",
   "metadata": {},
   "outputs": [
    {
     "name": "stdout",
     "output_type": "stream",
     "text": [
      "              precision    recall  f1-score   support\n",
      "\n",
      "    goodware       0.97      0.92      0.94       263\n",
      "     malware       0.98      0.99      0.99      1077\n",
      "\n",
      "    accuracy                           0.98      1340\n",
      "   macro avg       0.97      0.96      0.97      1340\n",
      "weighted avg       0.98      0.98      0.98      1340\n",
      "\n"
     ]
    },
    {
     "name": "stderr",
     "output_type": "stream",
     "text": [
      "/home/anerud001/.local/lib/python3.11/site-packages/sklearn/linear_model/_stochastic_gradient.py:713: ConvergenceWarning: Maximum number of iteration reached before convergence. Consider increasing max_iter to improve the fit.\n",
      "  warnings.warn(\n"
     ]
    }
   ],
   "source": [
    "# Create a perceptron object with the parameters: default max_iter (epochs)\n",
    "#over the data is 1000, eta0 default is 1 - constant by which updates are\n",
    "#multiplied by\n",
    "ppn = Perceptron(random_state=37, max_iter=3, early_stopping=True)#using the default\n",
    "# Train the perceptron\n",
    "ppn.fit(X_train, y_train)\n",
    "# Apply the trained perceptron on the X data to make predicts for the y test data\n",
    "y_pred = ppn.predict(X_test)\n",
    "print(metrics.classification_report(y_test,y_pred))"
   ]
  },
  {
   "cell_type": "markdown",
   "id": "2245d6cf",
   "metadata": {},
   "source": [
    "## Top 3 Best Performing Perceptrons"
   ]
  },
  {
   "cell_type": "code",
   "execution_count": 38,
   "id": "a4fbc3a7",
   "metadata": {},
   "outputs": [
    {
     "name": "stdout",
     "output_type": "stream",
     "text": [
      "              precision    recall  f1-score   support\n",
      "\n",
      "    goodware       0.96      0.93      0.95       263\n",
      "     malware       0.98      0.99      0.99      1077\n",
      "\n",
      "    accuracy                           0.98      1340\n",
      "   macro avg       0.97      0.96      0.97      1340\n",
      "weighted avg       0.98      0.98      0.98      1340\n",
      "\n",
      "Accuracy: 0.9791044776119403\n"
     ]
    },
    {
     "name": "stderr",
     "output_type": "stream",
     "text": [
      "/home/anerud001/.local/lib/python3.11/site-packages/sklearn/linear_model/_stochastic_gradient.py:713: ConvergenceWarning: Maximum number of iteration reached before convergence. Consider increasing max_iter to improve the fit.\n",
      "  warnings.warn(\n"
     ]
    }
   ],
   "source": [
    "# Create a perceptron object with the parameters: default max_iter (epochs)\n",
    "#over the data is 1000, eta0 default is 1 - constant by which updates are\n",
    "#multiplied by\n",
    "ppn = Perceptron(random_state=37, max_iter=3)#using the default\n",
    "# Train the perceptron\n",
    "ppn.fit(X_train, y_train)\n",
    "# Apply the trained perceptron on the X data to make predicts for the y test data\n",
    "y_pred = ppn.predict(X_test)\n",
    "print(metrics.classification_report(y_test,y_pred))\n",
    "print(f'Accuracy: {metrics.accuracy_score(y_test, y_pred)}')"
   ]
  },
  {
   "cell_type": "code",
   "execution_count": 40,
   "id": "ea54d78b",
   "metadata": {},
   "outputs": [
    {
     "name": "stdout",
     "output_type": "stream",
     "text": [
      "              precision    recall  f1-score   support\n",
      "\n",
      "    goodware       0.96      0.94      0.95       263\n",
      "     malware       0.99      0.99      0.99      1077\n",
      "\n",
      "    accuracy                           0.98      1340\n",
      "   macro avg       0.97      0.96      0.97      1340\n",
      "weighted avg       0.98      0.98      0.98      1340\n",
      "\n",
      "Accuracy: 0.9805970149253731\n"
     ]
    }
   ],
   "source": [
    "# Create a perceptron object with the parameters: default max_iter (epochs)\n",
    "#over the data is 1000, eta0 default is 1 - constant by which updates are\n",
    "#multiplied by\n",
    "ppn = Perceptron(random_state=37, early_stopping=True)#using the default\n",
    "# Train the perceptron\n",
    "ppn.fit(X_train, y_train)\n",
    "# Apply the trained perceptron on the X data to make predicts for the y test data\n",
    "y_pred = ppn.predict(X_test)\n",
    "print(metrics.classification_report(y_test,y_pred))\n",
    "print(f'Accuracy: {metrics.accuracy_score(y_test, y_pred)}')"
   ]
  },
  {
   "cell_type": "code",
   "execution_count": 39,
   "id": "a92fb0d9",
   "metadata": {},
   "outputs": [
    {
     "name": "stdout",
     "output_type": "stream",
     "text": [
      "              precision    recall  f1-score   support\n",
      "\n",
      "    goodware       0.97      0.93      0.95       263\n",
      "     malware       0.98      0.99      0.99      1077\n",
      "\n",
      "    accuracy                           0.98      1340\n",
      "   macro avg       0.98      0.96      0.97      1340\n",
      "weighted avg       0.98      0.98      0.98      1340\n",
      "\n",
      "Accuracy: 0.9813432835820896\n"
     ]
    }
   ],
   "source": [
    "# Create a perceptron object with the parameters: default max_iter (epochs)\n",
    "#over the data is 1000, eta0 default is 1 - constant by which updates are\n",
    "#multiplied by\n",
    "ppn = Perceptron(random_state=37)#using the default\n",
    "# Train the perceptron\n",
    "ppn.fit(X_train, y_train)\n",
    "# Apply the trained perceptron on the X data to make predicts for the y test data\n",
    "y_pred = ppn.predict(X_test)\n",
    "print(metrics.classification_report(y_test,y_pred))\n",
    "print(f'Accuracy: {metrics.accuracy_score(y_test, y_pred)}')"
   ]
  },
  {
   "cell_type": "markdown",
   "id": "7ae9880b",
   "metadata": {},
   "source": [
    "# Questions for Personal Data page 5\n",
    "<p>1. The perceptron performed, I'd say, a little under par with some of the previous classifiers. There have been some it has outperformed, but most have done much better. For example, using the decision trees, forests, and boosting, I was recieving results of in the range of 99 to 99.5 percent. Because of this, I personally don't think that this is the best model to be using for this data classification. </p>\n",
    "<p>2. The hyperparameters of the perceptron that held the most impact was the random state and early stopping. The random state gave the highest overall increase in testing percentage, while early stopping this data made the validation results worse overall. Setting the max iterations held little affect, only once the number was in the single digits did it change the validation in a big way, and that way was quite negatively impacting the evaluation metrics. </p>"
   ]
  },
  {
   "cell_type": "code",
   "execution_count": null,
   "id": "232f6f14",
   "metadata": {},
   "outputs": [],
   "source": []
  }
 ],
 "metadata": {
  "kernelspec": {
   "display_name": "Python 3 (ipykernel)",
   "language": "python",
   "name": "python3"
  },
  "language_info": {
   "codemirror_mode": {
    "name": "ipython",
    "version": 3
   },
   "file_extension": ".py",
   "mimetype": "text/x-python",
   "name": "python",
   "nbconvert_exporter": "python",
   "pygments_lexer": "ipython3",
   "version": "3.11.4"
  }
 },
 "nbformat": 4,
 "nbformat_minor": 5
}
