{
 "cells": [
  {
   "cell_type": "code",
   "execution_count": 1,
   "id": "a1c9915a",
   "metadata": {},
   "outputs": [],
   "source": [
    "# Load libraries\n",
    "import pandas as pd\n",
    "import numpy as np\n",
    "#stuff from pytorch\n",
    "import torch\n",
    "import torch.nn as nn\n",
    "import torch.nn.functional as F\n",
    "#stuff for spliting and metrics\n",
    "from sklearn.model_selection import train_test_split\n",
    "from sklearn.metrics import accuracy_score\n",
    "from sklearn.metrics import confusion_matrix\n",
    "from sklearn.metrics import ConfusionMatrixDisplay# to get a display\n",
    "from sklearn import metrics #Import scikit-learn metrics for evaluation metrics\n",
    "#for plotting\n",
    "import matplotlib.pyplot as plt"
   ]
  },
  {
   "cell_type": "code",
   "execution_count": 2,
   "id": "30926db2",
   "metadata": {},
   "outputs": [
    {
     "data": {
      "text/html": [
       "<div>\n",
       "<style scoped>\n",
       "    .dataframe tbody tr th:only-of-type {\n",
       "        vertical-align: middle;\n",
       "    }\n",
       "\n",
       "    .dataframe tbody tr th {\n",
       "        vertical-align: top;\n",
       "    }\n",
       "\n",
       "    .dataframe thead th {\n",
       "        text-align: right;\n",
       "    }\n",
       "</style>\n",
       "<table border=\"1\" class=\"dataframe\">\n",
       "  <thead>\n",
       "    <tr style=\"text-align: right;\">\n",
       "      <th></th>\n",
       "      <th>pregnancies</th>\n",
       "      <th>glucose</th>\n",
       "      <th>blood_pressure</th>\n",
       "      <th>skin_thickness</th>\n",
       "      <th>insulin</th>\n",
       "      <th>bmi</th>\n",
       "      <th>diabetes_pedigree_function</th>\n",
       "      <th>age</th>\n",
       "      <th>outcome</th>\n",
       "    </tr>\n",
       "  </thead>\n",
       "  <tbody>\n",
       "    <tr>\n",
       "      <th>0</th>\n",
       "      <td>6</td>\n",
       "      <td>148</td>\n",
       "      <td>72</td>\n",
       "      <td>35</td>\n",
       "      <td>0</td>\n",
       "      <td>33.6</td>\n",
       "      <td>0.627</td>\n",
       "      <td>50</td>\n",
       "      <td>1</td>\n",
       "    </tr>\n",
       "    <tr>\n",
       "      <th>1</th>\n",
       "      <td>1</td>\n",
       "      <td>85</td>\n",
       "      <td>66</td>\n",
       "      <td>29</td>\n",
       "      <td>0</td>\n",
       "      <td>26.6</td>\n",
       "      <td>0.351</td>\n",
       "      <td>31</td>\n",
       "      <td>0</td>\n",
       "    </tr>\n",
       "    <tr>\n",
       "      <th>2</th>\n",
       "      <td>8</td>\n",
       "      <td>183</td>\n",
       "      <td>64</td>\n",
       "      <td>0</td>\n",
       "      <td>0</td>\n",
       "      <td>23.3</td>\n",
       "      <td>0.672</td>\n",
       "      <td>32</td>\n",
       "      <td>1</td>\n",
       "    </tr>\n",
       "    <tr>\n",
       "      <th>3</th>\n",
       "      <td>1</td>\n",
       "      <td>89</td>\n",
       "      <td>66</td>\n",
       "      <td>23</td>\n",
       "      <td>94</td>\n",
       "      <td>28.1</td>\n",
       "      <td>0.167</td>\n",
       "      <td>21</td>\n",
       "      <td>0</td>\n",
       "    </tr>\n",
       "    <tr>\n",
       "      <th>4</th>\n",
       "      <td>0</td>\n",
       "      <td>137</td>\n",
       "      <td>40</td>\n",
       "      <td>35</td>\n",
       "      <td>168</td>\n",
       "      <td>43.1</td>\n",
       "      <td>2.288</td>\n",
       "      <td>33</td>\n",
       "      <td>1</td>\n",
       "    </tr>\n",
       "  </tbody>\n",
       "</table>\n",
       "</div>"
      ],
      "text/plain": [
       "   pregnancies  glucose  blood_pressure  skin_thickness  insulin   bmi  \\\n",
       "0            6      148              72              35        0  33.6   \n",
       "1            1       85              66              29        0  26.6   \n",
       "2            8      183              64               0        0  23.3   \n",
       "3            1       89              66              23       94  28.1   \n",
       "4            0      137              40              35      168  43.1   \n",
       "\n",
       "   diabetes_pedigree_function  age  outcome  \n",
       "0                       0.627   50        1  \n",
       "1                       0.351   31        0  \n",
       "2                       0.672   32        1  \n",
       "3                       0.167   21        0  \n",
       "4                       2.288   33        1  "
      ]
     },
     "execution_count": 2,
     "metadata": {},
     "output_type": "execute_result"
    }
   ],
   "source": [
    "col_names = ['pregnancies', 'glucose', 'blood_pressure', 'skin_thickness', 'insulin',\n",
    "'bmi', 'diabetes_pedigree_function', 'age', 'outcome']\n",
    "# load dataset\n",
    "data = pd.read_csv(\"diabetes.csv\", header=None, names=col_names)\n",
    "#take a peek to see if this looks right\n",
    "data.head()"
   ]
  },
  {
   "cell_type": "code",
   "execution_count": 3,
   "id": "e4e24246",
   "metadata": {},
   "outputs": [],
   "source": [
    "#split dataset in features and target variable\n",
    "feature_cols = ['pregnancies', 'glucose', 'blood_pressure', 'skin_thickness', 'insulin',\n",
    "'bmi', 'diabetes_pedigree_function', 'age']\n",
    "X = data[feature_cols] # Features\n",
    "y = data.outcome # Target variable - notice - you need to spell the column name for the target correctly for this to work"
   ]
  },
  {
   "cell_type": "code",
   "execution_count": 4,
   "id": "37e8ce17",
   "metadata": {},
   "outputs": [],
   "source": [
    "# Split dataset into training set and test set\n",
    "X_train, X_test, y_train, y_test = train_test_split(X, y, test_size=0.3, random_state=0)\n",
    "# 70% training and 30% test"
   ]
  },
  {
   "cell_type": "code",
   "execution_count": 5,
   "id": "99ccd0aa",
   "metadata": {},
   "outputs": [],
   "source": [
    "# Creating Tensors\n",
    "X_train=torch.FloatTensor(X_train.values)\n",
    "X_test=torch.FloatTensor(X_test.values)\n",
    "y_train=torch.LongTensor(y_train.values)\n",
    "y_test=torch.LongTensor(y_test.values)"
   ]
  },
  {
   "cell_type": "code",
   "execution_count": 2,
   "id": "3bf7edf6",
   "metadata": {},
   "outputs": [],
   "source": [
    "# Get cpu, gpu or mps device for training.\n",
    "device = (\n",
    "\"cuda\"\n",
    "if torch.cuda.is_available()\n",
    "else \"mps\"\n",
    "if torch.backends.mps.is_available()\n",
    "else \"cpu\"\n",
    ")"
   ]
  },
  {
   "cell_type": "code",
   "execution_count": 3,
   "id": "da68d004",
   "metadata": {},
   "outputs": [],
   "source": [
    "#Create Model\n",
    "class ANN_model(nn.Module):\n",
    "    def __init__(self,input_dim=8,hidden1_dim=20, hidden2_dim=10,out_dim=2):\n",
    "        '''\n",
    "        input_dim is 8 because there are 8 columns of features in this set.\n",
    "        we are setting up 2 hidden layers the first has 20 nodes, the second has 10\n",
    "        out_dim is 2 because there are two options - diabetic or non-diabetic\n",
    "        '''\n",
    "        super().__init__()\n",
    "        #connent input to first hidden layer\n",
    "        self.layer1 = nn.Linear(input_dim,hidden1_dim)\n",
    "        #connect first hidden layer to the second hidden layer\n",
    "        self.layer2 = nn.Linear(hidden1_dim,hidden2_dim)\n",
    "        #connect second hidden layer to output\n",
    "        self.out = nn.Linear(hidden2_dim,out_dim)\n",
    "        #Note: each layer has a weight and bias that in embedded in the linear layer\n",
    "\n",
    "    def forward(self,x):\n",
    "        #compute the output of f_connected1 and apply ReLu\n",
    "        x = F.relu(self.layer1(x))\n",
    "        #compute the output of f_connected2 and apply ReLu\n",
    "        x = F.relu(self.layer2(x))\n",
    "        #compute the output layer\n",
    "        # no activation: cross entropy will compute softmax\n",
    "        x = self.out(x)\n",
    "        return x"
   ]
  },
  {
   "cell_type": "code",
   "execution_count": 8,
   "id": "3407a7c0",
   "metadata": {},
   "outputs": [],
   "source": [
    "#seed pytorch - for reproducibility of setting initial weights\n",
    "torch.manual_seed(20)\n",
    "#set up model using the class you made\n",
    "model = ANN_model().to(device)"
   ]
  },
  {
   "cell_type": "code",
   "execution_count": 9,
   "id": "41e326e7",
   "metadata": {},
   "outputs": [
    {
     "name": "stdout",
     "output_type": "stream",
     "text": [
      "ANN_model(\n",
      "  (layer1): Linear(in_features=8, out_features=20, bias=True)\n",
      "  (layer2): Linear(in_features=20, out_features=10, bias=True)\n",
      "  (out): Linear(in_features=10, out_features=2, bias=True)\n",
      ")\n"
     ]
    }
   ],
   "source": [
    "#print out the model\n",
    "print(model)"
   ]
  },
  {
   "cell_type": "code",
   "execution_count": 10,
   "id": "0e074de4",
   "metadata": {},
   "outputs": [],
   "source": [
    "# Backward Propagation - loss and optimizer\n",
    "loss_function = nn.CrossEntropyLoss()\n",
    "optimizer = torch.optim.Adam(model.parameters(),lr=0.01)"
   ]
  },
  {
   "cell_type": "code",
   "execution_count": 12,
   "id": "dcf8491d",
   "metadata": {},
   "outputs": [
    {
     "data": {
      "image/png": "[encoded data removed]",
      "text/plain": [
       "<Figure size 640x480 with 1 Axes>"
      ]
     },
     "metadata": {},
     "output_type": "display_data"
    }
   ],
   "source": [
    "#look at the loss\n",
    "#plot the loss function\n",
    "plt.plot(range(epochs),final_losses)\n",
    "plt.xlabel('Epochs')\n",
    "plt.ylabel('Loss')\n",
    "plt.show()"
   ]
  },
  {
   "cell_type": "code",
   "execution_count": 13,
   "id": "1eef99ef",
   "metadata": {},
   "outputs": [],
   "source": [
    "#make a list of the results\n",
    "predictions = []\n",
    "#turn off gradient computation to speed up testing\n",
    "with torch.no_grad():\n",
    "    for i,data in enumerate(X_test):\n",
    "        y_pred = model(data)\n",
    "        predictions.append(y_pred.argmax().item())"
   ]
  },
  {
   "cell_type": "code",
   "execution_count": 14,
   "id": "b54bfb5c",
   "metadata": {},
   "outputs": [
    {
     "data": {
      "image/png": "[encoded data removed]",
      "text/plain": [
       "<Figure size 640x480 with 2 Axes>"
      ]
     },
     "metadata": {},
     "output_type": "display_data"
    }
   ],
   "source": [
    "#Confusion Matrix\n",
    "conf_mat = confusion_matrix(y_test, predictions)\n",
    "cm_display = ConfusionMatrixDisplay(conf_mat).plot()"
   ]
  },
  {
   "cell_type": "code",
   "execution_count": 15,
   "id": "b2901b54",
   "metadata": {
    "scrolled": true
   },
   "outputs": [
    {
     "name": "stdout",
     "output_type": "stream",
     "text": [
      "              precision    recall  f1-score   support\n",
      "\n",
      "           0       0.75      0.86      0.80       157\n",
      "           1       0.58      0.41      0.48        74\n",
      "\n",
      "    accuracy                           0.71       231\n",
      "   macro avg       0.67      0.63      0.64       231\n",
      "weighted avg       0.70      0.71      0.70       231\n",
      "\n"
     ]
    }
   ],
   "source": [
    "print(metrics.classification_report(y_test,predictions))"
   ]
  },
  {
   "cell_type": "code",
   "execution_count": 16,
   "id": "264e4d80",
   "metadata": {
    "scrolled": true
   },
   "outputs": [
    {
     "name": "stdout",
     "output_type": "stream",
     "text": [
      "Accuracy: 0.7142857142857143\n"
     ]
    }
   ],
   "source": [
    "print(\"Accuracy:\",metrics.accuracy_score(y_test, predictions))"
   ]
  },
  {
   "cell_type": "code",
   "execution_count": 17,
   "id": "fd0335a9",
   "metadata": {},
   "outputs": [],
   "source": [
    "#try a smaller learning rate\n",
    "optimizer = torch.optim.Adam(model.parameters(),lr=0.001)"
   ]
  },
  {
   "cell_type": "code",
   "execution_count": 18,
   "id": "7842451c",
   "metadata": {},
   "outputs": [
    {
     "name": "stdout",
     "output_type": "stream",
     "text": [
      "Epoch number: 0 and the loss : 0.516345739364624\n",
      "Epoch number: 10 and the loss : 0.5122664570808411\n",
      "Epoch number: 20 and the loss : 0.5090885758399963\n",
      "Epoch number: 30 and the loss : 0.5059723854064941\n",
      "Epoch number: 40 and the loss : 0.5026591420173645\n",
      "Epoch number: 50 and the loss : 0.49972251057624817\n",
      "Epoch number: 60 and the loss : 0.49683088064193726\n",
      "Epoch number: 70 and the loss : 0.49399444460868835\n",
      "Epoch number: 80 and the loss : 0.4913228452205658\n",
      "Epoch number: 90 and the loss : 0.48845425248146057\n",
      "Epoch number: 100 and the loss : 0.48502615094184875\n",
      "Epoch number: 110 and the loss : 0.4812738001346588\n",
      "Epoch number: 120 and the loss : 0.47767555713653564\n",
      "Epoch number: 130 and the loss : 0.4745798110961914\n",
      "Epoch number: 140 and the loss : 0.4718814790248871\n",
      "Epoch number: 150 and the loss : 0.4689609706401825\n",
      "Epoch number: 160 and the loss : 0.4656243324279785\n",
      "Epoch number: 170 and the loss : 0.4626810550689697\n",
      "Epoch number: 180 and the loss : 0.45991700887680054\n",
      "Epoch number: 190 and the loss : 0.457107812166214\n",
      "Epoch number: 200 and the loss : 0.4541143774986267\n",
      "Epoch number: 210 and the loss : 0.45058387517929077\n",
      "Epoch number: 220 and the loss : 0.4477573335170746\n",
      "Epoch number: 230 and the loss : 0.4453616738319397\n",
      "Epoch number: 240 and the loss : 0.4431759715080261\n",
      "Epoch number: 250 and the loss : 0.44114673137664795\n",
      "Epoch number: 260 and the loss : 0.43927857279777527\n",
      "Epoch number: 270 and the loss : 0.4374416768550873\n",
      "Epoch number: 280 and the loss : 0.4358617067337036\n",
      "Epoch number: 290 and the loss : 0.4338846504688263\n",
      "Epoch number: 300 and the loss : 0.4320644438266754\n",
      "Epoch number: 310 and the loss : 0.4297187924385071\n",
      "Epoch number: 320 and the loss : 0.42753157019615173\n",
      "Epoch number: 330 and the loss : 0.42567571997642517\n",
      "Epoch number: 340 and the loss : 0.4239088296890259\n",
      "Epoch number: 350 and the loss : 0.4222951829433441\n",
      "Epoch number: 360 and the loss : 0.4207434356212616\n",
      "Epoch number: 370 and the loss : 0.4191966950893402\n",
      "Epoch number: 380 and the loss : 0.41770461201667786\n",
      "Epoch number: 390 and the loss : 0.4161860942840576\n",
      "Epoch number: 400 and the loss : 0.41490840911865234\n",
      "Epoch number: 410 and the loss : 0.41368499398231506\n",
      "Epoch number: 420 and the loss : 0.41231176257133484\n",
      "Epoch number: 430 and the loss : 0.41092702746391296\n",
      "Epoch number: 440 and the loss : 0.40978771448135376\n",
      "Epoch number: 450 and the loss : 0.4085760712623596\n",
      "Epoch number: 460 and the loss : 0.40740200877189636\n",
      "Epoch number: 470 and the loss : 0.4061972200870514\n",
      "Epoch number: 480 and the loss : 0.40500831604003906\n",
      "Epoch number: 490 and the loss : 0.4039159119129181\n"
     ]
    }
   ],
   "source": [
    "#set up number of epochs\n",
    "epochs = 500\n",
    "#create a list to for plotting - not required - but so you can see the change\n",
    "final_losses= []\n",
    "for i in range(epochs):\n",
    "    #run forward pass\n",
    "    y_pred=model.forward(X_train)\n",
    "    #calculate the loss\n",
    "    loss=loss_function(y_pred,y_train)\n",
    "    #append for graphing\n",
    "    final_losses.append(loss.item())\n",
    "    #don't print all 500 - but some of them\n",
    "    if i % 10 == 0:\n",
    "        print(f\"Epoch number: {i} and the loss : {loss.item()}\")\n",
    "    #Resets or zeros out the previous gradients\n",
    "    optimizer.zero_grad()\n",
    "    #computes gradient (dloss/dx) for every parameter x\n",
    "    loss.backward()\n",
    "    #update the weights using step\n",
    "    optimizer.step()"
   ]
  },
  {
   "cell_type": "code",
   "execution_count": 19,
   "id": "f3e33ae0",
   "metadata": {},
   "outputs": [
    {
     "data": {
      "image/png": "[encoded data removed]",
      "text/plain": [
       "<Figure size 640x480 with 1 Axes>"
      ]
     },
     "metadata": {},
     "output_type": "display_data"
    }
   ],
   "source": [
    "#look at the loss\n",
    "#plot the loss function\n",
    "plt.plot(range(epochs),final_losses)\n",
    "plt.xlabel('Epochs')\n",
    "plt.ylabel('Loss')\n",
    "plt.show()"
   ]
  },
  {
   "cell_type": "markdown",
   "id": "44669aa7",
   "metadata": {},
   "source": [
    "# Question Page 8\n",
    "<p>Yes, the plots are very different than one another. The one with a larger learning rate has a much steeper drop and converges much sooner but to a larger value; however, the one with a smaller learning rate takes longer to converge, but has a much smaller loss rate overall. </p>"
   ]
  },
  {
   "cell_type": "code",
   "execution_count": 20,
   "id": "43ce88b8",
   "metadata": {},
   "outputs": [],
   "source": [
    "predictions = []\n",
    "#turn off gradient computation to speed up testing\n",
    "with torch.no_grad():\n",
    "    for i,data in enumerate(X_test):\n",
    "        y_pred = model(data)\n",
    "        predictions.append(y_pred.argmax().item())"
   ]
  },
  {
   "cell_type": "code",
   "execution_count": 21,
   "id": "6b890c7a",
   "metadata": {},
   "outputs": [
    {
     "name": "stdout",
     "output_type": "stream",
     "text": [
      "              precision    recall  f1-score   support\n",
      "\n",
      "           0       0.78      0.82      0.80       157\n",
      "           1       0.57      0.51      0.54        74\n",
      "\n",
      "    accuracy                           0.72       231\n",
      "   macro avg       0.67      0.66      0.67       231\n",
      "weighted avg       0.71      0.72      0.71       231\n",
      "\n",
      "Accuracy: 0.7186147186147186\n"
     ]
    }
   ],
   "source": [
    "print(metrics.classification_report(y_test,predictions))\n",
    "print(\"Accuracy:\",metrics.accuracy_score(y_test, predictions))"
   ]
  },
  {
   "cell_type": "code",
   "execution_count": 22,
   "id": "9311c0a7",
   "metadata": {},
   "outputs": [
    {
     "name": "stdout",
     "output_type": "stream",
     "text": [
      "Epoch number: 0 and the loss : 0.40273311734199524\n",
      "Epoch number: 10 and the loss : 0.40408074855804443\n",
      "Epoch number: 20 and the loss : 0.4017937183380127\n",
      "Epoch number: 30 and the loss : 0.4009988605976105\n",
      "Epoch number: 40 and the loss : 0.40025824308395386\n",
      "Epoch number: 50 and the loss : 0.3995210528373718\n",
      "Epoch number: 60 and the loss : 0.39889031648635864\n",
      "Epoch number: 70 and the loss : 0.3980935215950012\n",
      "Epoch number: 80 and the loss : 0.3973228931427002\n",
      "Epoch number: 90 and the loss : 0.39657828211784363\n",
      "Epoch number: 100 and the loss : 0.39585795998573303\n",
      "Epoch number: 110 and the loss : 0.3950287401676178\n",
      "Epoch number: 120 and the loss : 0.39417165517807007\n",
      "Epoch number: 130 and the loss : 0.3930547833442688\n",
      "Epoch number: 140 and the loss : 0.3917812705039978\n",
      "Epoch number: 150 and the loss : 0.3903614580631256\n",
      "Epoch number: 160 and the loss : 0.38892534375190735\n",
      "Epoch number: 170 and the loss : 0.38763725757598877\n",
      "Epoch number: 180 and the loss : 0.38643237948417664\n",
      "Epoch number: 190 and the loss : 0.38537588715553284\n",
      "Epoch number: 200 and the loss : 0.38454553484916687\n",
      "Epoch number: 210 and the loss : 0.3832980990409851\n",
      "Epoch number: 220 and the loss : 0.3821488320827484\n",
      "Epoch number: 230 and the loss : 0.3812171220779419\n",
      "Epoch number: 240 and the loss : 0.37988585233688354\n",
      "Epoch number: 250 and the loss : 0.37856927514076233\n",
      "Epoch number: 260 and the loss : 0.3775518536567688\n",
      "Epoch number: 270 and the loss : 0.3765155076980591\n",
      "Epoch number: 280 and the loss : 0.37573638558387756\n",
      "Epoch number: 290 and the loss : 0.37479886412620544\n",
      "Epoch number: 300 and the loss : 0.3734758198261261\n",
      "Epoch number: 310 and the loss : 0.3724430203437805\n",
      "Epoch number: 320 and the loss : 0.3708423972129822\n",
      "Epoch number: 330 and the loss : 0.36917123198509216\n",
      "Epoch number: 340 and the loss : 0.3679307699203491\n",
      "Epoch number: 350 and the loss : 0.3670225143432617\n",
      "Epoch number: 360 and the loss : 0.3660790026187897\n",
      "Epoch number: 370 and the loss : 0.3653445243835449\n",
      "Epoch number: 380 and the loss : 0.3642827272415161\n",
      "Epoch number: 390 and the loss : 0.3634597361087799\n",
      "Epoch number: 400 and the loss : 0.3626570701599121\n",
      "Epoch number: 410 and the loss : 0.36164289712905884\n",
      "Epoch number: 420 and the loss : 0.36100709438323975\n",
      "Epoch number: 430 and the loss : 0.35982075333595276\n",
      "Epoch number: 440 and the loss : 0.3587481379508972\n",
      "Epoch number: 450 and the loss : 0.3583383858203888\n",
      "Epoch number: 460 and the loss : 0.35663139820098877\n",
      "Epoch number: 470 and the loss : 0.35562756657600403\n",
      "Epoch number: 480 and the loss : 0.35441407561302185\n",
      "Epoch number: 490 and the loss : 0.3539387583732605\n",
      "Epoch number: 500 and the loss : 0.3520696759223938\n",
      "Epoch number: 510 and the loss : 0.35163986682891846\n",
      "Epoch number: 520 and the loss : 0.3502887785434723\n",
      "Epoch number: 530 and the loss : 0.3497030735015869\n",
      "Epoch number: 540 and the loss : 0.3492886424064636\n",
      "Epoch number: 550 and the loss : 0.3479355275630951\n",
      "Epoch number: 560 and the loss : 0.3473728597164154\n",
      "Epoch number: 570 and the loss : 0.3468126654624939\n",
      "Epoch number: 580 and the loss : 0.34612390398979187\n",
      "Epoch number: 590 and the loss : 0.34543389081954956\n",
      "Epoch number: 600 and the loss : 0.3448399603366852\n",
      "Epoch number: 610 and the loss : 0.3441646099090576\n",
      "Epoch number: 620 and the loss : 0.34368717670440674\n",
      "Epoch number: 630 and the loss : 0.343034565448761\n",
      "Epoch number: 640 and the loss : 0.3421019911766052\n",
      "Epoch number: 650 and the loss : 0.3412351906299591\n",
      "Epoch number: 660 and the loss : 0.3405809700489044\n",
      "Epoch number: 670 and the loss : 0.3401210308074951\n",
      "Epoch number: 680 and the loss : 0.3393729627132416\n",
      "Epoch number: 690 and the loss : 0.33867695927619934\n",
      "Epoch number: 700 and the loss : 0.33840784430503845\n",
      "Epoch number: 710 and the loss : 0.3376619815826416\n",
      "Epoch number: 720 and the loss : 0.33732709288597107\n",
      "Epoch number: 730 and the loss : 0.33677616715431213\n",
      "Epoch number: 740 and the loss : 0.33651575446128845\n",
      "Epoch number: 750 and the loss : 0.33578670024871826\n",
      "Epoch number: 760 and the loss : 0.3349396288394928\n",
      "Epoch number: 770 and the loss : 0.3341359496116638\n",
      "Epoch number: 780 and the loss : 0.33352595567703247\n",
      "Epoch number: 790 and the loss : 0.3323924243450165\n",
      "Epoch number: 800 and the loss : 0.3330807685852051\n",
      "Epoch number: 810 and the loss : 0.3318175971508026\n",
      "Epoch number: 820 and the loss : 0.3322298228740692\n",
      "Epoch number: 830 and the loss : 0.3304380476474762\n",
      "Epoch number: 840 and the loss : 0.32978686690330505\n",
      "Epoch number: 850 and the loss : 0.3298458456993103\n",
      "Epoch number: 860 and the loss : 0.32871532440185547\n",
      "Epoch number: 870 and the loss : 0.3284662067890167\n",
      "Epoch number: 880 and the loss : 0.32729822397232056\n",
      "Epoch number: 890 and the loss : 0.3267013132572174\n",
      "Epoch number: 900 and the loss : 0.32550370693206787\n",
      "Epoch number: 910 and the loss : 0.321307897567749\n",
      "Epoch number: 920 and the loss : 0.32036304473876953\n",
      "Epoch number: 930 and the loss : 0.31891340017318726\n",
      "Epoch number: 940 and the loss : 0.31786105036735535\n",
      "Epoch number: 950 and the loss : 0.3170320391654968\n",
      "Epoch number: 960 and the loss : 0.316395103931427\n",
      "Epoch number: 970 and the loss : 0.3155493140220642\n",
      "Epoch number: 980 and the loss : 0.3152517080307007\n",
      "Epoch number: 990 and the loss : 0.31421172618865967\n"
     ]
    }
   ],
   "source": [
    "#try a smaller learning rate\n",
    "optimizer = torch.optim.Adam(model.parameters(),lr=0.001)\n",
    "\n",
    "#Then rerun your training and then testing to see if you get results that are\n",
    "#different.\n",
    "#set up number of epochs\n",
    "epochs = 1000\n",
    "#create a list to for plotting - not required - but so you can see the change\n",
    "final_losses= []\n",
    "for i in range(epochs):\n",
    "    #run forward pass\n",
    "    y_pred=model.forward(X_train)\n",
    "    #calculate the loss\n",
    "    loss=loss_function(y_pred,y_train)\n",
    "    #append for graphing\n",
    "    final_losses.append(loss.item())\n",
    "    #don't print all 500 - but some of them\n",
    "    if i % 10 == 0:\n",
    "        print(f\"Epoch number: {i} and the loss : {loss.item()}\")\n",
    "    #Resets or zeros out the previous gradients\n",
    "    optimizer.zero_grad()\n",
    "    #computes gradient (dloss/dx) for every parameter x\n",
    "    loss.backward()\n",
    "    #update the weights using step\n",
    "    optimizer.step()"
   ]
  },
  {
   "cell_type": "code",
   "execution_count": 23,
   "id": "c92d8c0e",
   "metadata": {},
   "outputs": [
    {
     "data": {
      "image/png": "[encoded data removed]",
      "text/plain": [
       "<Figure size 640x480 with 1 Axes>"
      ]
     },
     "metadata": {},
     "output_type": "display_data"
    }
   ],
   "source": [
    "#look at the loss\n",
    "#plot the loss function\n",
    "plt.plot(range(epochs),final_losses)\n",
    "plt.xlabel('Epochs')\n",
    "plt.ylabel('Loss')\n",
    "plt.show()"
   ]
  },
  {
   "cell_type": "code",
   "execution_count": 24,
   "id": "f8394a69",
   "metadata": {},
   "outputs": [
    {
     "name": "stdout",
     "output_type": "stream",
     "text": [
      "Saved PyTorch Model State to model.pth\n"
     ]
    }
   ],
   "source": [
    "torch.save(model.state_dict(), \"model.pth\")\n",
    "print(\"Saved PyTorch Model State to model.pth\")"
   ]
  },
  {
   "cell_type": "code",
   "execution_count": 25,
   "id": "6db044cb",
   "metadata": {},
   "outputs": [
    {
     "data": {
      "text/plain": [
       "<All keys matched successfully>"
      ]
     },
     "execution_count": 25,
     "metadata": {},
     "output_type": "execute_result"
    }
   ],
   "source": [
    "model = ANN_model().to(device)\n",
    "model.load_state_dict(torch.load(\"model.pth\"))"
   ]
  },
  {
   "cell_type": "markdown",
   "id": "b6bf719a",
   "metadata": {},
   "source": [
    "# Personal Data Section\n",
    "##### Using Semsmic dataset"
   ]
  },
  {
   "cell_type": "code",
   "execution_count": 23,
   "id": "cc7776fc",
   "metadata": {},
   "outputs": [
    {
     "data": {
      "text/html": [
       "<div>\n",
       "<style scoped>\n",
       "    .dataframe tbody tr th:only-of-type {\n",
       "        vertical-align: middle;\n",
       "    }\n",
       "\n",
       "    .dataframe tbody tr th {\n",
       "        vertical-align: top;\n",
       "    }\n",
       "\n",
       "    .dataframe thead th {\n",
       "        text-align: right;\n",
       "    }\n",
       "</style>\n",
       "<table border=\"1\" class=\"dataframe\">\n",
       "  <thead>\n",
       "    <tr style=\"text-align: right;\">\n",
       "      <th></th>\n",
       "      <th>method</th>\n",
       "      <th>seismoacoustic</th>\n",
       "      <th>shift</th>\n",
       "      <th>genergy</th>\n",
       "      <th>gpuls</th>\n",
       "      <th>gdenergy</th>\n",
       "      <th>gdpuls</th>\n",
       "      <th>ghazard</th>\n",
       "      <th>nbumps</th>\n",
       "      <th>nbumps2</th>\n",
       "      <th>nbumps3</th>\n",
       "      <th>nbumps4</th>\n",
       "      <th>nbumps5</th>\n",
       "      <th>energy</th>\n",
       "      <th>maxenergy</th>\n",
       "      <th>class</th>\n",
       "    </tr>\n",
       "  </thead>\n",
       "  <tbody>\n",
       "    <tr>\n",
       "      <th>0</th>\n",
       "      <td>0</td>\n",
       "      <td>0</td>\n",
       "      <td>0</td>\n",
       "      <td>15180</td>\n",
       "      <td>48</td>\n",
       "      <td>-72</td>\n",
       "      <td>-72</td>\n",
       "      <td>0</td>\n",
       "      <td>0</td>\n",
       "      <td>0</td>\n",
       "      <td>0</td>\n",
       "      <td>0</td>\n",
       "      <td>0</td>\n",
       "      <td>0</td>\n",
       "      <td>0</td>\n",
       "      <td>0</td>\n",
       "    </tr>\n",
       "    <tr>\n",
       "      <th>1</th>\n",
       "      <td>0</td>\n",
       "      <td>0</td>\n",
       "      <td>0</td>\n",
       "      <td>14720</td>\n",
       "      <td>33</td>\n",
       "      <td>-70</td>\n",
       "      <td>-79</td>\n",
       "      <td>0</td>\n",
       "      <td>1</td>\n",
       "      <td>0</td>\n",
       "      <td>1</td>\n",
       "      <td>0</td>\n",
       "      <td>0</td>\n",
       "      <td>2000</td>\n",
       "      <td>2000</td>\n",
       "      <td>0</td>\n",
       "    </tr>\n",
       "    <tr>\n",
       "      <th>2</th>\n",
       "      <td>0</td>\n",
       "      <td>0</td>\n",
       "      <td>0</td>\n",
       "      <td>8050</td>\n",
       "      <td>30</td>\n",
       "      <td>-81</td>\n",
       "      <td>-78</td>\n",
       "      <td>0</td>\n",
       "      <td>0</td>\n",
       "      <td>0</td>\n",
       "      <td>0</td>\n",
       "      <td>0</td>\n",
       "      <td>0</td>\n",
       "      <td>0</td>\n",
       "      <td>0</td>\n",
       "      <td>0</td>\n",
       "    </tr>\n",
       "    <tr>\n",
       "      <th>3</th>\n",
       "      <td>0</td>\n",
       "      <td>0</td>\n",
       "      <td>0</td>\n",
       "      <td>28820</td>\n",
       "      <td>171</td>\n",
       "      <td>-23</td>\n",
       "      <td>40</td>\n",
       "      <td>0</td>\n",
       "      <td>1</td>\n",
       "      <td>0</td>\n",
       "      <td>1</td>\n",
       "      <td>0</td>\n",
       "      <td>0</td>\n",
       "      <td>3000</td>\n",
       "      <td>3000</td>\n",
       "      <td>0</td>\n",
       "    </tr>\n",
       "    <tr>\n",
       "      <th>4</th>\n",
       "      <td>0</td>\n",
       "      <td>0</td>\n",
       "      <td>0</td>\n",
       "      <td>12640</td>\n",
       "      <td>57</td>\n",
       "      <td>-63</td>\n",
       "      <td>-52</td>\n",
       "      <td>0</td>\n",
       "      <td>0</td>\n",
       "      <td>0</td>\n",
       "      <td>0</td>\n",
       "      <td>0</td>\n",
       "      <td>0</td>\n",
       "      <td>0</td>\n",
       "      <td>0</td>\n",
       "      <td>0</td>\n",
       "    </tr>\n",
       "  </tbody>\n",
       "</table>\n",
       "</div>"
      ],
      "text/plain": [
       "   method  seismoacoustic  shift  genergy  gpuls  gdenergy  gdpuls  ghazard  \\\n",
       "0       0               0      0    15180     48       -72     -72        0   \n",
       "1       0               0      0    14720     33       -70     -79        0   \n",
       "2       0               0      0     8050     30       -81     -78        0   \n",
       "3       0               0      0    28820    171       -23      40        0   \n",
       "4       0               0      0    12640     57       -63     -52        0   \n",
       "\n",
       "   nbumps  nbumps2  nbumps3  nbumps4  nbumps5  energy  maxenergy  class  \n",
       "0       0        0        0        0        0       0          0      0  \n",
       "1       1        0        1        0        0    2000       2000      0  \n",
       "2       0        0        0        0        0       0          0      0  \n",
       "3       1        0        1        0        0    3000       3000      0  \n",
       "4       0        0        0        0        0       0          0      0  "
      ]
     },
     "execution_count": 23,
     "metadata": {},
     "output_type": "execute_result"
    }
   ],
   "source": [
    "col_names = ['method', 'seismoacoustic', 'shift', 'genergy', 'gpuls', 'gdenergy', 'gdpuls', \n",
    "             'ghazard', 'nbumps', 'nbumps2', 'nbumps3', 'nbumps4', 'nbumps5', 'energy',\n",
    "             'maxenergy', 'class']\n",
    "feature_cols = ['method', 'seismoacoustic', 'shift', 'genergy', 'gpuls', 'gdenergy', 'gdpuls', \n",
    "             'ghazard', 'nbumps', 'nbumps2', 'nbumps3', 'nbumps4', 'nbumps5', 'energy',\n",
    "             'maxenergy']\n",
    "\n",
    "# load dataset\n",
    "data = pd.read_csv(\"seismic-bumps.csv\", header=None, names=col_names)\n",
    "#take a peek to see if this looks right\n",
    "data.head()"
   ]
  },
  {
   "cell_type": "code",
   "execution_count": 24,
   "id": "b89557ca",
   "metadata": {},
   "outputs": [
    {
     "data": {
      "text/html": [
       "<div>\n",
       "<style scoped>\n",
       "    .dataframe tbody tr th:only-of-type {\n",
       "        vertical-align: middle;\n",
       "    }\n",
       "\n",
       "    .dataframe tbody tr th {\n",
       "        vertical-align: top;\n",
       "    }\n",
       "\n",
       "    .dataframe thead th {\n",
       "        text-align: right;\n",
       "    }\n",
       "</style>\n",
       "<table border=\"1\" class=\"dataframe\">\n",
       "  <thead>\n",
       "    <tr style=\"text-align: right;\">\n",
       "      <th></th>\n",
       "      <th>method</th>\n",
       "      <th>seismoacoustic</th>\n",
       "      <th>shift</th>\n",
       "      <th>genergy</th>\n",
       "      <th>gpuls</th>\n",
       "      <th>gdenergy</th>\n",
       "      <th>gdpuls</th>\n",
       "      <th>ghazard</th>\n",
       "      <th>nbumps</th>\n",
       "      <th>nbumps2</th>\n",
       "      <th>nbumps3</th>\n",
       "      <th>nbumps4</th>\n",
       "      <th>nbumps5</th>\n",
       "      <th>energy</th>\n",
       "      <th>maxenergy</th>\n",
       "      <th>class</th>\n",
       "    </tr>\n",
       "  </thead>\n",
       "  <tbody>\n",
       "    <tr>\n",
       "      <th>count</th>\n",
       "      <td>2584.000000</td>\n",
       "      <td>2584.000000</td>\n",
       "      <td>2584.000000</td>\n",
       "      <td>2.584000e+03</td>\n",
       "      <td>2584.000000</td>\n",
       "      <td>2584.000000</td>\n",
       "      <td>2584.000000</td>\n",
       "      <td>2584.000000</td>\n",
       "      <td>2584.000000</td>\n",
       "      <td>2584.000000</td>\n",
       "      <td>2584.000000</td>\n",
       "      <td>2584.000000</td>\n",
       "      <td>2584.000000</td>\n",
       "      <td>2584.000000</td>\n",
       "      <td>2584.000000</td>\n",
       "      <td>2584.000000</td>\n",
       "    </tr>\n",
       "    <tr>\n",
       "      <th>mean</th>\n",
       "      <td>0.349071</td>\n",
       "      <td>0.407121</td>\n",
       "      <td>0.643576</td>\n",
       "      <td>9.024252e+04</td>\n",
       "      <td>538.579334</td>\n",
       "      <td>12.375774</td>\n",
       "      <td>4.508901</td>\n",
       "      <td>0.105263</td>\n",
       "      <td>0.859520</td>\n",
       "      <td>0.393576</td>\n",
       "      <td>0.392802</td>\n",
       "      <td>0.067724</td>\n",
       "      <td>0.004644</td>\n",
       "      <td>4975.270898</td>\n",
       "      <td>4278.850619</td>\n",
       "      <td>0.065789</td>\n",
       "    </tr>\n",
       "    <tr>\n",
       "      <th>std</th>\n",
       "      <td>0.476769</td>\n",
       "      <td>0.527857</td>\n",
       "      <td>0.479035</td>\n",
       "      <td>2.292005e+05</td>\n",
       "      <td>562.652536</td>\n",
       "      <td>80.319051</td>\n",
       "      <td>63.166556</td>\n",
       "      <td>0.342707</td>\n",
       "      <td>1.364616</td>\n",
       "      <td>0.783772</td>\n",
       "      <td>0.769710</td>\n",
       "      <td>0.279059</td>\n",
       "      <td>0.068001</td>\n",
       "      <td>20450.833222</td>\n",
       "      <td>19357.454882</td>\n",
       "      <td>0.247962</td>\n",
       "    </tr>\n",
       "    <tr>\n",
       "      <th>min</th>\n",
       "      <td>0.000000</td>\n",
       "      <td>0.000000</td>\n",
       "      <td>0.000000</td>\n",
       "      <td>1.000000e+02</td>\n",
       "      <td>2.000000</td>\n",
       "      <td>-96.000000</td>\n",
       "      <td>-96.000000</td>\n",
       "      <td>0.000000</td>\n",
       "      <td>0.000000</td>\n",
       "      <td>0.000000</td>\n",
       "      <td>0.000000</td>\n",
       "      <td>0.000000</td>\n",
       "      <td>0.000000</td>\n",
       "      <td>0.000000</td>\n",
       "      <td>0.000000</td>\n",
       "      <td>0.000000</td>\n",
       "    </tr>\n",
       "    <tr>\n",
       "      <th>25%</th>\n",
       "      <td>0.000000</td>\n",
       "      <td>0.000000</td>\n",
       "      <td>0.000000</td>\n",
       "      <td>1.166000e+04</td>\n",
       "      <td>190.000000</td>\n",
       "      <td>-37.000000</td>\n",
       "      <td>-36.000000</td>\n",
       "      <td>0.000000</td>\n",
       "      <td>0.000000</td>\n",
       "      <td>0.000000</td>\n",
       "      <td>0.000000</td>\n",
       "      <td>0.000000</td>\n",
       "      <td>0.000000</td>\n",
       "      <td>0.000000</td>\n",
       "      <td>0.000000</td>\n",
       "      <td>0.000000</td>\n",
       "    </tr>\n",
       "    <tr>\n",
       "      <th>50%</th>\n",
       "      <td>0.000000</td>\n",
       "      <td>0.000000</td>\n",
       "      <td>1.000000</td>\n",
       "      <td>2.548500e+04</td>\n",
       "      <td>379.000000</td>\n",
       "      <td>-6.000000</td>\n",
       "      <td>-6.000000</td>\n",
       "      <td>0.000000</td>\n",
       "      <td>0.000000</td>\n",
       "      <td>0.000000</td>\n",
       "      <td>0.000000</td>\n",
       "      <td>0.000000</td>\n",
       "      <td>0.000000</td>\n",
       "      <td>0.000000</td>\n",
       "      <td>0.000000</td>\n",
       "      <td>0.000000</td>\n",
       "    </tr>\n",
       "    <tr>\n",
       "      <th>75%</th>\n",
       "      <td>1.000000</td>\n",
       "      <td>1.000000</td>\n",
       "      <td>1.000000</td>\n",
       "      <td>5.283250e+04</td>\n",
       "      <td>669.000000</td>\n",
       "      <td>38.000000</td>\n",
       "      <td>30.250000</td>\n",
       "      <td>0.000000</td>\n",
       "      <td>1.000000</td>\n",
       "      <td>1.000000</td>\n",
       "      <td>1.000000</td>\n",
       "      <td>0.000000</td>\n",
       "      <td>0.000000</td>\n",
       "      <td>2600.000000</td>\n",
       "      <td>2000.000000</td>\n",
       "      <td>0.000000</td>\n",
       "    </tr>\n",
       "    <tr>\n",
       "      <th>max</th>\n",
       "      <td>1.000000</td>\n",
       "      <td>2.000000</td>\n",
       "      <td>1.000000</td>\n",
       "      <td>2.595650e+06</td>\n",
       "      <td>4518.000000</td>\n",
       "      <td>1245.000000</td>\n",
       "      <td>838.000000</td>\n",
       "      <td>2.000000</td>\n",
       "      <td>9.000000</td>\n",
       "      <td>8.000000</td>\n",
       "      <td>7.000000</td>\n",
       "      <td>3.000000</td>\n",
       "      <td>1.000000</td>\n",
       "      <td>402000.000000</td>\n",
       "      <td>400000.000000</td>\n",
       "      <td>1.000000</td>\n",
       "    </tr>\n",
       "  </tbody>\n",
       "</table>\n",
       "</div>"
      ],
      "text/plain": [
       "            method  seismoacoustic        shift       genergy        gpuls  \\\n",
       "count  2584.000000     2584.000000  2584.000000  2.584000e+03  2584.000000   \n",
       "mean      0.349071        0.407121     0.643576  9.024252e+04   538.579334   \n",
       "std       0.476769        0.527857     0.479035  2.292005e+05   562.652536   \n",
       "min       0.000000        0.000000     0.000000  1.000000e+02     2.000000   \n",
       "25%       0.000000        0.000000     0.000000  1.166000e+04   190.000000   \n",
       "50%       0.000000        0.000000     1.000000  2.548500e+04   379.000000   \n",
       "75%       1.000000        1.000000     1.000000  5.283250e+04   669.000000   \n",
       "max       1.000000        2.000000     1.000000  2.595650e+06  4518.000000   \n",
       "\n",
       "          gdenergy       gdpuls      ghazard       nbumps      nbumps2  \\\n",
       "count  2584.000000  2584.000000  2584.000000  2584.000000  2584.000000   \n",
       "mean     12.375774     4.508901     0.105263     0.859520     0.393576   \n",
       "std      80.319051    63.166556     0.342707     1.364616     0.783772   \n",
       "min     -96.000000   -96.000000     0.000000     0.000000     0.000000   \n",
       "25%     -37.000000   -36.000000     0.000000     0.000000     0.000000   \n",
       "50%      -6.000000    -6.000000     0.000000     0.000000     0.000000   \n",
       "75%      38.000000    30.250000     0.000000     1.000000     1.000000   \n",
       "max    1245.000000   838.000000     2.000000     9.000000     8.000000   \n",
       "\n",
       "           nbumps3      nbumps4      nbumps5         energy      maxenergy  \\\n",
       "count  2584.000000  2584.000000  2584.000000    2584.000000    2584.000000   \n",
       "mean      0.392802     0.067724     0.004644    4975.270898    4278.850619   \n",
       "std       0.769710     0.279059     0.068001   20450.833222   19357.454882   \n",
       "min       0.000000     0.000000     0.000000       0.000000       0.000000   \n",
       "25%       0.000000     0.000000     0.000000       0.000000       0.000000   \n",
       "50%       0.000000     0.000000     0.000000       0.000000       0.000000   \n",
       "75%       1.000000     0.000000     0.000000    2600.000000    2000.000000   \n",
       "max       7.000000     3.000000     1.000000  402000.000000  400000.000000   \n",
       "\n",
       "             class  \n",
       "count  2584.000000  \n",
       "mean      0.065789  \n",
       "std       0.247962  \n",
       "min       0.000000  \n",
       "25%       0.000000  \n",
       "50%       0.000000  \n",
       "75%       0.000000  \n",
       "max       1.000000  "
      ]
     },
     "execution_count": 24,
     "metadata": {},
     "output_type": "execute_result"
    }
   ],
   "source": [
    "data.describe()"
   ]
  },
  {
   "cell_type": "code",
   "execution_count": 25,
   "id": "839be2bb",
   "metadata": {},
   "outputs": [],
   "source": [
    "X = data[feature_cols] # Features\n",
    "y = data['class'] # Target variable - notice - you need to spell\n",
    "#column name for the target correctly for this to work\n",
    "\n",
    "# Split dataset into training set and test set\n",
    "X_train, X_test, y_train, y_test = train_test_split(X, y, test_size=0.3, random_state=0)\n",
    "# 70% training and 30% test\n",
    "\n",
    "# Creating Tensors\n",
    "X_train=torch.FloatTensor(X_train.values)\n",
    "X_test=torch.FloatTensor(X_test.values)\n",
    "y_train=torch.LongTensor(y_train.values)\n",
    "y_test=torch.LongTensor(y_test.values)"
   ]
  },
  {
   "cell_type": "code",
   "execution_count": 26,
   "id": "b6eefe13",
   "metadata": {},
   "outputs": [],
   "source": [
    "# Get cpu, gpu or mps device for training.\n",
    "device = (\n",
    "\"cuda\"\n",
    "if torch.cuda.is_available()\n",
    "else \"mps\"\n",
    "if torch.backends.mps.is_available()\n",
    "else \"cpu\"\n",
    ")\n",
    "\n",
    "#Create Model\n",
    "class ANN_model(nn.Module):\n",
    "    def __init__(self,input_dim=15,hidden1_dim=20, hidden2_dim=10,out_dim=2):\n",
    "        '''\n",
    "        input_dim is 15 because there are 15 columns of features in this set.\n",
    "        we are setting up 2 hidden layers the first has 20 nodes, the second has 10\n",
    "        out_dim is 2 because there are two options - diabetic or non-diabetic\n",
    "        '''\n",
    "        super().__init__()\n",
    "        #connent input to first hidden layer\n",
    "        self.layer1 = nn.Linear(input_dim,hidden1_dim)\n",
    "        #connect first hidden layer to the second hidden layer\n",
    "        self.layer2 = nn.Linear(hidden1_dim,hidden2_dim)\n",
    "        #connect second hidden layer to output\n",
    "        self.out = nn.Linear(hidden2_dim,out_dim)\n",
    "        #Note: each layer has a weight and bias that in embedded in the linear layer\n",
    "\n",
    "    def forward(self,x):\n",
    "        #compute the output of f_connected1 and apply ReLu\n",
    "        x = F.relu(self.layer1(x))\n",
    "        #compute the output of f_connected2 and apply ReLu\n",
    "        x = F.relu(self.layer2(x))\n",
    "        #compute the output layer\n",
    "        # no activation: cross entropy will compute softmax\n",
    "        x = self.out(x)\n",
    "        return x"
   ]
  },
  {
   "cell_type": "code",
   "execution_count": 27,
   "id": "3dbd9e98",
   "metadata": {},
   "outputs": [],
   "source": [
    "#seed pytorch - for reproducibility of setting initial weights\n",
    "torch.manual_seed(20)\n",
    "#set up model using the class you made\n",
    "model = ANN_model().to(device)"
   ]
  },
  {
   "cell_type": "code",
   "execution_count": 28,
   "id": "75db914b",
   "metadata": {},
   "outputs": [
    {
     "name": "stdout",
     "output_type": "stream",
     "text": [
      "ANN_model(\n",
      "  (layer1): Linear(in_features=15, out_features=20, bias=True)\n",
      "  (layer2): Linear(in_features=20, out_features=10, bias=True)\n",
      "  (out): Linear(in_features=10, out_features=2, bias=True)\n",
      ")\n"
     ]
    }
   ],
   "source": [
    "#print out the model\n",
    "print(model)"
   ]
  },
  {
   "cell_type": "code",
   "execution_count": 29,
   "id": "810ab39e",
   "metadata": {},
   "outputs": [],
   "source": [
    "# Backward Propagation - loss and optimizer\n",
    "loss_function = nn.CrossEntropyLoss()\n",
    "optimizer = torch.optim.Adam(model.parameters(),lr=0.01)"
   ]
  },
  {
   "cell_type": "code",
   "execution_count": 30,
   "id": "c1077c19",
   "metadata": {},
   "outputs": [
    {
     "name": "stdout",
     "output_type": "stream",
     "text": [
      "Epoch number: 0 and the loss : 374.0604553222656\n",
      "Epoch number: 10 and the loss : 356.55078125\n",
      "Epoch number: 20 and the loss : 176.55799865722656\n",
      "Epoch number: 30 and the loss : 72.4408950805664\n",
      "Epoch number: 40 and the loss : 26.265289306640625\n",
      "Epoch number: 50 and the loss : 9.899447441101074\n",
      "Epoch number: 60 and the loss : 19.24897575378418\n",
      "Epoch number: 70 and the loss : 39.866485595703125\n",
      "Epoch number: 80 and the loss : 41.85619354248047\n",
      "Epoch number: 90 and the loss : 24.392133712768555\n",
      "Epoch number: 100 and the loss : 23.35279655456543\n",
      "Epoch number: 110 and the loss : 9.329663276672363\n",
      "Epoch number: 120 and the loss : 10.945988655090332\n",
      "Epoch number: 130 and the loss : 1.6392219066619873\n",
      "Epoch number: 140 and the loss : 5.73036527633667\n",
      "Epoch number: 150 and the loss : 5.329474925994873\n",
      "Epoch number: 160 and the loss : 5.344882011413574\n",
      "Epoch number: 170 and the loss : 12.634204864501953\n",
      "Epoch number: 180 and the loss : 1.6365349292755127\n",
      "Epoch number: 190 and the loss : 3.9626970291137695\n",
      "Epoch number: 200 and the loss : 4.235230445861816\n",
      "Epoch number: 210 and the loss : 3.576505422592163\n",
      "Epoch number: 220 and the loss : 3.7855324745178223\n",
      "Epoch number: 230 and the loss : 9.936630249023438\n",
      "Epoch number: 240 and the loss : 1.8908995389938354\n",
      "Epoch number: 250 and the loss : 1.4596444368362427\n",
      "Epoch number: 260 and the loss : 4.810983180999756\n",
      "Epoch number: 270 and the loss : 3.7926270961761475\n",
      "Epoch number: 280 and the loss : 2.35579514503479\n",
      "Epoch number: 290 and the loss : 2.090954065322876\n",
      "Epoch number: 300 and the loss : 1.9285030364990234\n",
      "Epoch number: 310 and the loss : 2.8456692695617676\n",
      "Epoch number: 320 and the loss : 1.1993427276611328\n",
      "Epoch number: 330 and the loss : 5.884679794311523\n",
      "Epoch number: 340 and the loss : 4.21400785446167\n",
      "Epoch number: 350 and the loss : 3.763610601425171\n",
      "Epoch number: 360 and the loss : 0.8639497756958008\n",
      "Epoch number: 370 and the loss : 1.6213237047195435\n",
      "Epoch number: 380 and the loss : 1.8449134826660156\n",
      "Epoch number: 390 and the loss : 2.2485578060150146\n",
      "Epoch number: 400 and the loss : 4.679511070251465\n",
      "Epoch number: 410 and the loss : 0.9822508692741394\n",
      "Epoch number: 420 and the loss : 2.020890712738037\n",
      "Epoch number: 430 and the loss : 2.8338160514831543\n",
      "Epoch number: 440 and the loss : 0.6888934373855591\n",
      "Epoch number: 450 and the loss : 0.7648908495903015\n",
      "Epoch number: 460 and the loss : 1.0740495920181274\n",
      "Epoch number: 470 and the loss : 1.1350783109664917\n",
      "Epoch number: 480 and the loss : 0.41224944591522217\n",
      "Epoch number: 490 and the loss : 0.46014469861984253\n"
     ]
    }
   ],
   "source": [
    "#set up number of epochs\n",
    "epochs = 500\n",
    "#create a list to for plotting - not required - but so you can see the change\n",
    "final_losses= []\n",
    "for i in range(epochs):\n",
    "    #run forward pass\n",
    "    y_pred=model.forward(X_train)\n",
    "    #calculate the loss\n",
    "    loss=loss_function(y_pred,y_train)\n",
    "    #append for graphing\n",
    "    final_losses.append(loss.item())\n",
    "    #don't print all 500 - but some of them\n",
    "    if i % 10 == 0:\n",
    "        print(f\"Epoch number: {i} and the loss : {loss.item()}\")\n",
    "    #Resets or zeros out the previous gradients\n",
    "    optimizer.zero_grad()\n",
    "    #computes gradient (dloss/dx) for every parameter x\n",
    "    loss.backward()\n",
    "    #update the weights using step\n",
    "    optimizer.step()"
   ]
  },
  {
   "cell_type": "code",
   "execution_count": 31,
   "id": "bd587eb0",
   "metadata": {},
   "outputs": [
    {
     "data": {
      "image/png": "[encoded data removed]",
      "text/plain": [
       "<Figure size 640x480 with 1 Axes>"
      ]
     },
     "metadata": {},
     "output_type": "display_data"
    }
   ],
   "source": [
    "#look at the loss\n",
    "#plot the loss function\n",
    "plt.plot(range(epochs),final_losses)\n",
    "plt.xlabel('Epochs')\n",
    "plt.ylabel('Loss')\n",
    "plt.show()"
   ]
  },
  {
   "cell_type": "code",
   "execution_count": 32,
   "id": "17cd42e2",
   "metadata": {},
   "outputs": [],
   "source": [
    "#make a list of the results\n",
    "predictions = []\n",
    "#turn off gradient computation to speed up testing\n",
    "with torch.no_grad():\n",
    "    for i,data in enumerate(X_test):\n",
    "        y_pred = model(data)\n",
    "        predictions.append(y_pred.argmax().item())"
   ]
  },
  {
   "cell_type": "code",
   "execution_count": 33,
   "id": "b22bc846",
   "metadata": {},
   "outputs": [
    {
     "data": {
      "image/png": "[encoded data removed]",
      "text/plain": [
       "<Figure size 640x480 with 2 Axes>"
      ]
     },
     "metadata": {},
     "output_type": "display_data"
    }
   ],
   "source": [
    "#Confusion Matrix\n",
    "conf_mat = confusion_matrix(y_test, predictions)\n",
    "cm_display = ConfusionMatrixDisplay(conf_mat).plot()"
   ]
  },
  {
   "cell_type": "code",
   "execution_count": 34,
   "id": "9a3b4b4c",
   "metadata": {
    "scrolled": true
   },
   "outputs": [
    {
     "name": "stdout",
     "output_type": "stream",
     "text": [
      "              precision    recall  f1-score   support\n",
      "\n",
      "           0       0.95      0.99      0.97       735\n",
      "           1       0.20      0.02      0.04        41\n",
      "\n",
      "    accuracy                           0.94       776\n",
      "   macro avg       0.57      0.51      0.51       776\n",
      "weighted avg       0.91      0.94      0.92       776\n",
      "\n"
     ]
    }
   ],
   "source": [
    "print(metrics.classification_report(y_test,predictions))"
   ]
  },
  {
   "cell_type": "code",
   "execution_count": 35,
   "id": "0e955e0e",
   "metadata": {
    "scrolled": true
   },
   "outputs": [
    {
     "name": "stdout",
     "output_type": "stream",
     "text": [
      "Accuracy: 0.9432989690721649\n"
     ]
    }
   ],
   "source": [
    "print(\"Accuracy:\",metrics.accuracy_score(y_test, predictions))"
   ]
  },
  {
   "cell_type": "code",
   "execution_count": 36,
   "id": "e049a7e2",
   "metadata": {},
   "outputs": [],
   "source": [
    "#try a smaller learning rate\n",
    "optimizer = torch.optim.Adam(model.parameters(),lr=0.001)"
   ]
  },
  {
   "cell_type": "code",
   "execution_count": 37,
   "id": "fb8ae3d8",
   "metadata": {},
   "outputs": [
    {
     "name": "stdout",
     "output_type": "stream",
     "text": [
      "Epoch number: 0 and the loss : 0.6408201456069946\n",
      "Epoch number: 10 and the loss : 2.811824321746826\n",
      "Epoch number: 20 and the loss : 0.2671329975128174\n",
      "Epoch number: 30 and the loss : 0.25701066851615906\n",
      "Epoch number: 40 and the loss : 0.2505057156085968\n",
      "Epoch number: 50 and the loss : 0.24836188554763794\n",
      "Epoch number: 60 and the loss : 0.24620042741298676\n",
      "Epoch number: 70 and the loss : 0.24526703357696533\n",
      "Epoch number: 80 and the loss : 0.2444741427898407\n",
      "Epoch number: 90 and the loss : 0.24385349452495575\n",
      "Epoch number: 100 and the loss : 0.2430679202079773\n",
      "Epoch number: 110 and the loss : 0.2420225292444229\n",
      "Epoch number: 120 and the loss : 0.24035583436489105\n",
      "Epoch number: 130 and the loss : 0.23999065160751343\n",
      "Epoch number: 140 and the loss : 0.23957771062850952\n",
      "Epoch number: 150 and the loss : 0.23930269479751587\n",
      "Epoch number: 160 and the loss : 0.2391016185283661\n",
      "Epoch number: 170 and the loss : 0.23891644179821014\n",
      "Epoch number: 180 and the loss : 0.23879790306091309\n",
      "Epoch number: 190 and the loss : 0.23862354457378387\n",
      "Epoch number: 200 and the loss : 0.23862430453300476\n",
      "Epoch number: 210 and the loss : 0.23869869112968445\n",
      "Epoch number: 220 and the loss : 0.23840293288230896\n",
      "Epoch number: 230 and the loss : 0.23849184811115265\n",
      "Epoch number: 240 and the loss : 0.23784804344177246\n",
      "Epoch number: 250 and the loss : 0.23779064416885376\n",
      "Epoch number: 260 and the loss : 0.23746581375598907\n",
      "Epoch number: 270 and the loss : 0.23735009133815765\n",
      "Epoch number: 280 and the loss : 0.23746564984321594\n",
      "Epoch number: 290 and the loss : 0.23725831508636475\n",
      "Epoch number: 300 and the loss : 0.23692339658737183\n",
      "Epoch number: 310 and the loss : 0.2368105798959732\n",
      "Epoch number: 320 and the loss : 0.23665733635425568\n",
      "Epoch number: 330 and the loss : 0.2366318255662918\n",
      "Epoch number: 340 and the loss : 0.23648159205913544\n",
      "Epoch number: 350 and the loss : 0.23646101355552673\n",
      "Epoch number: 360 and the loss : 0.2362353503704071\n",
      "Epoch number: 370 and the loss : 0.2363167107105255\n",
      "Epoch number: 380 and the loss : 0.2361588031053543\n",
      "Epoch number: 390 and the loss : 0.2360929399728775\n",
      "Epoch number: 400 and the loss : 0.23582233488559723\n",
      "Epoch number: 410 and the loss : 0.23565073311328888\n",
      "Epoch number: 420 and the loss : 0.23551906645298004\n",
      "Epoch number: 430 and the loss : 0.23545125126838684\n",
      "Epoch number: 440 and the loss : 0.2354147583246231\n",
      "Epoch number: 450 and the loss : 0.23547156155109406\n",
      "Epoch number: 460 and the loss : 0.23523546755313873\n",
      "Epoch number: 470 and the loss : 0.23524197936058044\n",
      "Epoch number: 480 and the loss : 0.23497597873210907\n",
      "Epoch number: 490 and the loss : 0.2348441332578659\n"
     ]
    }
   ],
   "source": [
    "#set up number of epochs\n",
    "epochs = 500\n",
    "#create a list to for plotting - not required - but so you can see the change\n",
    "final_losses= []\n",
    "for i in range(epochs):\n",
    "    #run forward pass\n",
    "    y_pred=model.forward(X_train)\n",
    "    #calculate the loss\n",
    "    loss=loss_function(y_pred,y_train)\n",
    "    #append for graphing\n",
    "    final_losses.append(loss.item())\n",
    "    #don't print all 500 - but some of them\n",
    "    if i % 10 == 0:\n",
    "        print(f\"Epoch number: {i} and the loss : {loss.item()}\")\n",
    "    #Resets or zeros out the previous gradients\n",
    "    optimizer.zero_grad()\n",
    "    #computes gradient (dloss/dx) for every parameter x\n",
    "    loss.backward()\n",
    "    #update the weights using step\n",
    "    optimizer.step()"
   ]
  },
  {
   "cell_type": "code",
   "execution_count": 38,
   "id": "cd0f64ab",
   "metadata": {},
   "outputs": [
    {
     "data": {
      "image/png": "[encoded data removed]",
      "text/plain": [
       "<Figure size 640x480 with 1 Axes>"
      ]
     },
     "metadata": {},
     "output_type": "display_data"
    }
   ],
   "source": [
    "#look at the loss\n",
    "#plot the loss function\n",
    "plt.plot(range(epochs),final_losses)\n",
    "plt.xlabel('Epochs')\n",
    "plt.ylabel('Loss')\n",
    "plt.show()"
   ]
  },
  {
   "cell_type": "code",
   "execution_count": 39,
   "id": "4cd15523",
   "metadata": {},
   "outputs": [],
   "source": [
    "#make a list of the results\n",
    "predictions = []\n",
    "#turn off gradient computation to speed up testing\n",
    "with torch.no_grad():\n",
    "    for i,data in enumerate(X_test):\n",
    "        y_pred = model(data)\n",
    "        predictions.append(y_pred.argmax().item())"
   ]
  },
  {
   "cell_type": "code",
   "execution_count": 40,
   "id": "a8b4ffc7",
   "metadata": {},
   "outputs": [
    {
     "data": {
      "image/png": "[encoded data removed]",
      "text/plain": [
       "<Figure size 640x480 with 2 Axes>"
      ]
     },
     "metadata": {},
     "output_type": "display_data"
    }
   ],
   "source": [
    "#Confusion Matrix\n",
    "conf_mat = confusion_matrix(y_test, predictions)\n",
    "cm_display = ConfusionMatrixDisplay(conf_mat).plot()"
   ]
  },
  {
   "cell_type": "code",
   "execution_count": 41,
   "id": "e59632ed",
   "metadata": {
    "scrolled": true
   },
   "outputs": [
    {
     "name": "stdout",
     "output_type": "stream",
     "text": [
      "              precision    recall  f1-score   support\n",
      "\n",
      "           0       0.95      1.00      0.97       735\n",
      "           1       0.25      0.02      0.04        41\n",
      "\n",
      "    accuracy                           0.94       776\n",
      "   macro avg       0.60      0.51      0.51       776\n",
      "weighted avg       0.91      0.94      0.92       776\n",
      "\n"
     ]
    }
   ],
   "source": [
    "print(metrics.classification_report(y_test,predictions))"
   ]
  },
  {
   "cell_type": "code",
   "execution_count": 42,
   "id": "d6b1786c",
   "metadata": {
    "scrolled": true
   },
   "outputs": [
    {
     "name": "stdout",
     "output_type": "stream",
     "text": [
      "Accuracy: 0.9445876288659794\n"
     ]
    }
   ],
   "source": [
    "#make a list of the results\n",
    "predictions = []\n",
    "#turn off gradient computation to speed up testing\n",
    "with torch.no_grad():\n",
    "    for i,data in enumerate(X_test):\n",
    "        y_pred = model(data)\n",
    "        predictions.append(y_pred.argmax().item())\n",
    "\n",
    "print(\"Accuracy:\",metrics.accuracy_score(y_test, predictions))"
   ]
  },
  {
   "cell_type": "markdown",
   "id": "c103a6ab",
   "metadata": {},
   "source": [
    "###### Due to terrible classification rates with this model, attempting to add another layer and see what actually happens"
   ]
  },
  {
   "cell_type": "code",
   "execution_count": 43,
   "id": "6fb533ae",
   "metadata": {},
   "outputs": [],
   "source": [
    "#Create Model\n",
    "class ANN_model3(nn.Module):\n",
    "    def __init__(self,input_dim=15,hidden1_dim=20, hidden2_dim=10, hidden3_dim=5,out_dim=2):\n",
    "        '''\n",
    "        input_dim is 15 because there are 15 columns of features in this set.\n",
    "        we are setting up 2 hidden layers the first has 20 nodes, the second has 10\n",
    "        out_dim is 2 because there are two options - diabetic or non-diabetic\n",
    "        '''\n",
    "        super().__init__()\n",
    "        #connent input to first hidden layer\n",
    "        self.layer1 = nn.Linear(input_dim,hidden1_dim)\n",
    "        #connect first hidden layer to the second hidden layer\n",
    "        self.layer2 = nn.Linear(hidden1_dim,hidden2_dim)\n",
    "        #connect first hidden layer to the second hidden layer\n",
    "        self.layer3 = nn.Linear(hidden2_dim,hidden3_dim)\n",
    "        #connect second hidden layer to output\n",
    "        self.out = nn.Linear(hidden3_dim,out_dim)\n",
    "        #Note: each layer has a weight and bias that in embedded in the linear layer\n",
    "\n",
    "    def forward(self,x):\n",
    "        #compute the output of f_connected1 and apply ReLu\n",
    "        x = F.relu(self.layer1(x))\n",
    "        #compute the output of f_connected2 and apply ReLu\n",
    "        x = F.relu(self.layer2(x))\n",
    "        #compute the output of f_connected2 and apply ReLu\n",
    "        x = F.relu(self.layer3(x))\n",
    "        #compute the output layer\n",
    "        # no activation: cross entropy will compute softmax\n",
    "        x = self.out(x)\n",
    "        return x"
   ]
  },
  {
   "cell_type": "code",
   "execution_count": 44,
   "id": "59ac6e6f",
   "metadata": {},
   "outputs": [],
   "source": [
    "#seed pytorch - for reproducibility of setting initial weights\n",
    "torch.manual_seed(20)\n",
    "#set up model using the class you made\n",
    "model = ANN_model3(15,20,30,10).to(device)\n",
    "\n",
    "#try a learning rate\n",
    "loss_function = nn.CrossEntropyLoss()\n",
    "optimizer = torch.optim.Adam(model.parameters(),lr=0.01)"
   ]
  },
  {
   "cell_type": "code",
   "execution_count": 45,
   "id": "2878776e",
   "metadata": {
    "scrolled": true
   },
   "outputs": [
    {
     "name": "stdout",
     "output_type": "stream",
     "text": [
      "Epoch number: 0 and the loss : 68.25200653076172\n",
      "Epoch number: 20 and the loss : 17.9123592376709\n",
      "Epoch number: 40 and the loss : 1.2192864418029785\n",
      "Epoch number: 60 and the loss : 0.6535449028015137\n",
      "Epoch number: 80 and the loss : 0.4968571662902832\n",
      "Epoch number: 100 and the loss : 0.41802263259887695\n",
      "Epoch number: 120 and the loss : 0.3641941547393799\n",
      "Epoch number: 140 and the loss : 0.3296578526496887\n",
      "Epoch number: 160 and the loss : 0.3065899610519409\n",
      "Epoch number: 180 and the loss : 0.29030635952949524\n",
      "Epoch number: 200 and the loss : 0.27955058217048645\n",
      "Epoch number: 220 and the loss : 0.27239155769348145\n",
      "Epoch number: 240 and the loss : 0.26756858825683594\n",
      "Epoch number: 260 and the loss : 0.264227956533432\n",
      "Epoch number: 280 and the loss : 0.2617831528186798\n",
      "Epoch number: 300 and the loss : 0.2600950300693512\n",
      "Epoch number: 320 and the loss : 0.25889426469802856\n",
      "Epoch number: 340 and the loss : 0.25802186131477356\n",
      "Epoch number: 360 and the loss : 0.25738656520843506\n",
      "Epoch number: 380 and the loss : 0.2569127678871155\n",
      "Epoch number: 400 and the loss : 0.2565491795539856\n",
      "Epoch number: 420 and the loss : 0.2562702000141144\n",
      "Epoch number: 440 and the loss : 0.2559955418109894\n",
      "Epoch number: 460 and the loss : 0.25571635365486145\n",
      "Epoch number: 480 and the loss : 0.2554794251918793\n"
     ]
    }
   ],
   "source": [
    "#set up number of epochs\n",
    "epochs = 500\n",
    "#create a list to for plotting - not required - but so you can see the change\n",
    "final_losses= []\n",
    "for i in range(epochs):\n",
    "    #run forward pass\n",
    "    y_pred=model.forward(X_train)\n",
    "    #calculate the loss\n",
    "    loss=loss_function(y_pred,y_train)\n",
    "    #append for graphing\n",
    "    final_losses.append(loss.item())\n",
    "    #don't print all 500 - but some of them\n",
    "    if i % 20 == 0:\n",
    "        print(f\"Epoch number: {i} and the loss : {loss.item()}\")\n",
    "    #Resets or zeros out the previous gradients\n",
    "    optimizer.zero_grad()\n",
    "    #computes gradient (dloss/dx) for every parameter x\n",
    "    loss.backward()\n",
    "    #update the weights using step\n",
    "    optimizer.step()"
   ]
  },
  {
   "cell_type": "code",
   "execution_count": 46,
   "id": "89b88d02",
   "metadata": {
    "scrolled": true
   },
   "outputs": [
    {
     "name": "stdout",
     "output_type": "stream",
     "text": [
      "              precision    recall  f1-score   support\n",
      "\n",
      "           0       0.95      1.00      0.97       735\n",
      "           1       0.00      0.00      0.00        41\n",
      "\n",
      "    accuracy                           0.94       776\n",
      "   macro avg       0.47      0.50      0.49       776\n",
      "weighted avg       0.90      0.94      0.92       776\n",
      "\n"
     ]
    }
   ],
   "source": [
    "#make a list of the results\n",
    "predictions = []\n",
    "#turn off gradient computation to speed up testing\n",
    "with torch.no_grad():\n",
    "    for i,data in enumerate(X_test):\n",
    "        y_pred = model(data)\n",
    "        predictions.append(y_pred.argmax().item())\n",
    "        \n",
    "        \n",
    "print(metrics.classification_report(y_test,predictions))"
   ]
  },
  {
   "cell_type": "code",
   "execution_count": 65,
   "id": "8c96b403",
   "metadata": {},
   "outputs": [],
   "source": [
    "#seed pytorch - for reproducibility of setting initial weights\n",
    "torch.manual_seed(37)\n",
    "#set up model using the class you made\n",
    "model = ANN_model3(15,50,25,5).to(device)\n",
    "\n",
    "#try a learning rate\n",
    "loss_function = nn.CrossEntropyLoss()\n",
    "optimizer = torch.optim.Adam(model.parameters(),lr=0.001)"
   ]
  },
  {
   "cell_type": "code",
   "execution_count": 66,
   "id": "0145d53d",
   "metadata": {},
   "outputs": [
    {
     "name": "stdout",
     "output_type": "stream",
     "text": [
      "Epoch number: 0 and the loss : 782.7827758789062\n",
      "Epoch number: 50 and the loss : 0.8160468339920044\n",
      "Epoch number: 100 and the loss : 0.4804190993309021\n",
      "Epoch number: 150 and the loss : 0.4457610547542572\n",
      "Epoch number: 200 and the loss : 0.42138808965682983\n",
      "Epoch number: 250 and the loss : 0.40169212222099304\n",
      "Epoch number: 300 and the loss : 0.38531216979026794\n",
      "Epoch number: 350 and the loss : 0.3727818429470062\n",
      "Epoch number: 400 and the loss : 0.35914772748947144\n",
      "Epoch number: 450 and the loss : 0.34711310267448425\n",
      "Epoch number: 500 and the loss : 0.3364848792552948\n",
      "Epoch number: 550 and the loss : 0.3270943760871887\n",
      "Epoch number: 600 and the loss : 0.3187936842441559\n",
      "Epoch number: 650 and the loss : 0.3114542067050934\n",
      "Epoch number: 700 and the loss : 0.3049626350402832\n",
      "Epoch number: 750 and the loss : 0.2992200255393982\n",
      "Epoch number: 800 and the loss : 0.29413914680480957\n",
      "Epoch number: 850 and the loss : 0.2896437644958496\n",
      "Epoch number: 900 and the loss : 0.2856665551662445\n",
      "Epoch number: 950 and the loss : 0.28214791417121887\n"
     ]
    }
   ],
   "source": [
    "#set up number of epochs\n",
    "epochs = 1000\n",
    "#create a list to for plotting - not required - but so you can see the change\n",
    "final_losses= []\n",
    "for i in range(epochs):\n",
    "    #run forward pass\n",
    "    y_pred=model.forward(X_train)\n",
    "    #calculate the loss\n",
    "    loss=loss_function(y_pred,y_train)\n",
    "    #append for graphing\n",
    "    final_losses.append(loss.item())\n",
    "    #don't print all 500 - but some of them\n",
    "    if i % 50 == 0:\n",
    "        print(f\"Epoch number: {i} and the loss : {loss.item()}\")\n",
    "    #Resets or zeros out the previous gradients\n",
    "    optimizer.zero_grad()\n",
    "    #computes gradient (dloss/dx) for every parameter x\n",
    "    loss.backward()\n",
    "    #update the weights using step\n",
    "    optimizer.step()"
   ]
  },
  {
   "cell_type": "code",
   "execution_count": 67,
   "id": "feadffea",
   "metadata": {},
   "outputs": [
    {
     "name": "stdout",
     "output_type": "stream",
     "text": [
      "              precision    recall  f1-score   support\n",
      "\n",
      "           0       0.95      1.00      0.97       735\n",
      "           1       0.00      0.00      0.00        41\n",
      "\n",
      "    accuracy                           0.95       776\n",
      "   macro avg       0.47      0.50      0.49       776\n",
      "weighted avg       0.90      0.95      0.92       776\n",
      "\n"
     ]
    },
    {
     "name": "stderr",
     "output_type": "stream",
     "text": [
      "/home/anerud001/.local/lib/python3.11/site-packages/sklearn/metrics/_classification.py:1469: UndefinedMetricWarning: Precision and F-score are ill-defined and being set to 0.0 in labels with no predicted samples. Use `zero_division` parameter to control this behavior.\n",
      "  _warn_prf(average, modifier, msg_start, len(result))\n",
      "/home/anerud001/.local/lib/python3.11/site-packages/sklearn/metrics/_classification.py:1469: UndefinedMetricWarning: Precision and F-score are ill-defined and being set to 0.0 in labels with no predicted samples. Use `zero_division` parameter to control this behavior.\n",
      "  _warn_prf(average, modifier, msg_start, len(result))\n",
      "/home/anerud001/.local/lib/python3.11/site-packages/sklearn/metrics/_classification.py:1469: UndefinedMetricWarning: Precision and F-score are ill-defined and being set to 0.0 in labels with no predicted samples. Use `zero_division` parameter to control this behavior.\n",
      "  _warn_prf(average, modifier, msg_start, len(result))\n"
     ]
    }
   ],
   "source": [
    "#make a list of the results\n",
    "predictions = []\n",
    "#turn off gradient computation to speed up testing\n",
    "with torch.no_grad():\n",
    "    for i,data in enumerate(X_test):\n",
    "        y_pred = model(data)\n",
    "        predictions.append(y_pred.argmax().item())\n",
    "\n",
    "print(metrics.classification_report(y_test,predictions))"
   ]
  },
  {
   "cell_type": "code",
   "execution_count": 68,
   "id": "62e67060",
   "metadata": {},
   "outputs": [
    {
     "data": {
      "text/html": [
       "<div>\n",
       "<style scoped>\n",
       "    .dataframe tbody tr th:only-of-type {\n",
       "        vertical-align: middle;\n",
       "    }\n",
       "\n",
       "    .dataframe tbody tr th {\n",
       "        vertical-align: top;\n",
       "    }\n",
       "\n",
       "    .dataframe thead th {\n",
       "        text-align: right;\n",
       "    }\n",
       "</style>\n",
       "<table border=\"1\" class=\"dataframe\">\n",
       "  <thead>\n",
       "    <tr style=\"text-align: right;\">\n",
       "      <th></th>\n",
       "      <th>method</th>\n",
       "      <th>seismoacoustic</th>\n",
       "      <th>shift</th>\n",
       "      <th>genergy</th>\n",
       "      <th>gpuls</th>\n",
       "      <th>gdenergy</th>\n",
       "      <th>gdpuls</th>\n",
       "      <th>ghazard</th>\n",
       "      <th>nbumps</th>\n",
       "      <th>nbumps2</th>\n",
       "      <th>nbumps3</th>\n",
       "      <th>nbumps4</th>\n",
       "      <th>nbumps5</th>\n",
       "      <th>energy</th>\n",
       "      <th>maxenergy</th>\n",
       "    </tr>\n",
       "  </thead>\n",
       "  <tbody>\n",
       "    <tr>\n",
       "      <th>0</th>\n",
       "      <td>-0.732302</td>\n",
       "      <td>-0.77142</td>\n",
       "      <td>-1.343743</td>\n",
       "      <td>-0.327561</td>\n",
       "      <td>-0.872073</td>\n",
       "      <td>-1.050711</td>\n",
       "      <td>-1.211459</td>\n",
       "      <td>-0.307211</td>\n",
       "      <td>-0.629984</td>\n",
       "      <td>-0.502253</td>\n",
       "      <td>-0.510423</td>\n",
       "      <td>-0.242736</td>\n",
       "      <td>-0.068305</td>\n",
       "      <td>-0.243327</td>\n",
       "      <td>-0.221087</td>\n",
       "    </tr>\n",
       "    <tr>\n",
       "      <th>1</th>\n",
       "      <td>-0.732302</td>\n",
       "      <td>-0.77142</td>\n",
       "      <td>-1.343743</td>\n",
       "      <td>-0.329568</td>\n",
       "      <td>-0.898738</td>\n",
       "      <td>-1.025805</td>\n",
       "      <td>-1.322299</td>\n",
       "      <td>-0.307211</td>\n",
       "      <td>0.102965</td>\n",
       "      <td>-0.502253</td>\n",
       "      <td>0.789019</td>\n",
       "      <td>-0.242736</td>\n",
       "      <td>-0.068305</td>\n",
       "      <td>-0.145512</td>\n",
       "      <td>-0.117747</td>\n",
       "    </tr>\n",
       "    <tr>\n",
       "      <th>2</th>\n",
       "      <td>-0.732302</td>\n",
       "      <td>-0.77142</td>\n",
       "      <td>-1.343743</td>\n",
       "      <td>-0.358675</td>\n",
       "      <td>-0.904071</td>\n",
       "      <td>-1.162786</td>\n",
       "      <td>-1.306465</td>\n",
       "      <td>-0.307211</td>\n",
       "      <td>-0.629984</td>\n",
       "      <td>-0.502253</td>\n",
       "      <td>-0.510423</td>\n",
       "      <td>-0.242736</td>\n",
       "      <td>-0.068305</td>\n",
       "      <td>-0.243327</td>\n",
       "      <td>-0.221087</td>\n",
       "    </tr>\n",
       "    <tr>\n",
       "      <th>3</th>\n",
       "      <td>-0.732302</td>\n",
       "      <td>-0.77142</td>\n",
       "      <td>-1.343743</td>\n",
       "      <td>-0.268038</td>\n",
       "      <td>-0.653424</td>\n",
       "      <td>-0.440526</td>\n",
       "      <td>0.561974</td>\n",
       "      <td>-0.307211</td>\n",
       "      <td>0.102965</td>\n",
       "      <td>-0.502253</td>\n",
       "      <td>0.789019</td>\n",
       "      <td>-0.242736</td>\n",
       "      <td>-0.068305</td>\n",
       "      <td>-0.096605</td>\n",
       "      <td>-0.066078</td>\n",
       "    </tr>\n",
       "    <tr>\n",
       "      <th>4</th>\n",
       "      <td>-0.732302</td>\n",
       "      <td>-0.77142</td>\n",
       "      <td>-1.343743</td>\n",
       "      <td>-0.338645</td>\n",
       "      <td>-0.856075</td>\n",
       "      <td>-0.938636</td>\n",
       "      <td>-0.894775</td>\n",
       "      <td>-0.307211</td>\n",
       "      <td>-0.629984</td>\n",
       "      <td>-0.502253</td>\n",
       "      <td>-0.510423</td>\n",
       "      <td>-0.242736</td>\n",
       "      <td>-0.068305</td>\n",
       "      <td>-0.243327</td>\n",
       "      <td>-0.221087</td>\n",
       "    </tr>\n",
       "  </tbody>\n",
       "</table>\n",
       "</div>"
      ],
      "text/plain": [
       "     method  seismoacoustic     shift   genergy     gpuls  gdenergy    gdpuls  \\\n",
       "0 -0.732302        -0.77142 -1.343743 -0.327561 -0.872073 -1.050711 -1.211459   \n",
       "1 -0.732302        -0.77142 -1.343743 -0.329568 -0.898738 -1.025805 -1.322299   \n",
       "2 -0.732302        -0.77142 -1.343743 -0.358675 -0.904071 -1.162786 -1.306465   \n",
       "3 -0.732302        -0.77142 -1.343743 -0.268038 -0.653424 -0.440526  0.561974   \n",
       "4 -0.732302        -0.77142 -1.343743 -0.338645 -0.856075 -0.938636 -0.894775   \n",
       "\n",
       "    ghazard    nbumps   nbumps2   nbumps3   nbumps4   nbumps5    energy  \\\n",
       "0 -0.307211 -0.629984 -0.502253 -0.510423 -0.242736 -0.068305 -0.243327   \n",
       "1 -0.307211  0.102965 -0.502253  0.789019 -0.242736 -0.068305 -0.145512   \n",
       "2 -0.307211 -0.629984 -0.502253 -0.510423 -0.242736 -0.068305 -0.243327   \n",
       "3 -0.307211  0.102965 -0.502253  0.789019 -0.242736 -0.068305 -0.096605   \n",
       "4 -0.307211 -0.629984 -0.502253 -0.510423 -0.242736 -0.068305 -0.243327   \n",
       "\n",
       "   maxenergy  \n",
       "0  -0.221087  \n",
       "1  -0.117747  \n",
       "2  -0.221087  \n",
       "3  -0.066078  \n",
       "4  -0.221087  "
      ]
     },
     "execution_count": 68,
     "metadata": {},
     "output_type": "execute_result"
    }
   ],
   "source": [
    "# load dataset\n",
    "data = pd.read_csv(\"seismic-bumps.csv\", header=None, names=col_names)\n",
    "#take a peek to see if this looks right\n",
    "data.head()\n",
    "\n",
    "# Import module to standardize the scale\n",
    "from sklearn.preprocessing import StandardScaler\n",
    "# Create instance (i.e. object) of the standard scaler\n",
    "scaler = StandardScaler()\n",
    "# Fit the object to all the data except the Target/Outcome\n",
    "# use the .drop() method to gather all features except Target/Outcome\n",
    "# the axis argument refers to columns (1); a 0 would represent rows\n",
    "scaler.fit(data.drop('class', axis=1))\n",
    "# Use scaler object to conduct a transform\n",
    "scaled_features = scaler.transform(data.drop(['class'],axis=1))#this does the standardization\n",
    "\n",
    "\n",
    "\n",
    "#Here we have the normalized dataset, minus the target/output column which is the lastcol\n",
    "data_feat = pd.DataFrame(scaled_features, columns= data.columns[:-1])\n",
    "#see what you did\n",
    "data_feat.head()"
   ]
  },
  {
   "cell_type": "code",
   "execution_count": 69,
   "id": "d0ca6245",
   "metadata": {},
   "outputs": [],
   "source": [
    "X = data[feature_cols] # Features\n",
    "y = data['class'] # Target variable - notice - you need to spell\n",
    "#column name for the target correctly for this to work\n",
    "\n",
    "# Split dataset into training set and test set\n",
    "X_train, X_test, y_train, y_test = train_test_split(X, y, test_size=0.3, random_state=0)\n",
    "# 70% training and 30% test\n",
    "\n",
    "# Creating Tensors\n",
    "X_train=torch.FloatTensor(X_train.values)\n",
    "X_test=torch.FloatTensor(X_test.values)\n",
    "y_train=torch.LongTensor(y_train.values)\n",
    "y_test=torch.LongTensor(y_test.values)"
   ]
  },
  {
   "cell_type": "code",
   "execution_count": 70,
   "id": "21184fe0",
   "metadata": {},
   "outputs": [],
   "source": [
    "#seed pytorch - for reproducibility of setting initial weights\n",
    "torch.manual_seed(2)\n",
    "#set up model using the class you made\n",
    "model = ANN_model3(15,50,25,5).to(device)\n",
    "\n",
    "#try a learning rate\n",
    "loss_function = nn.CrossEntropyLoss()\n",
    "optimizer = torch.optim.Adam(model.parameters(),lr=0.001)"
   ]
  },
  {
   "cell_type": "code",
   "execution_count": 71,
   "id": "edec582c",
   "metadata": {},
   "outputs": [
    {
     "name": "stdout",
     "output_type": "stream",
     "text": [
      "Epoch number: 0 and the loss : 247.60035705566406\n",
      "Epoch number: 50 and the loss : 0.686169445514679\n",
      "Epoch number: 100 and the loss : 0.5231450796127319\n",
      "Epoch number: 150 and the loss : 0.4848271906375885\n",
      "Epoch number: 200 and the loss : 0.45871803164482117\n",
      "Epoch number: 250 and the loss : 0.43557509779930115\n",
      "Epoch number: 300 and the loss : 0.41506388783454895\n",
      "Epoch number: 350 and the loss : 0.39672523736953735\n",
      "Epoch number: 400 and the loss : 0.3803122937679291\n",
      "Epoch number: 450 and the loss : 0.3656165599822998\n"
     ]
    }
   ],
   "source": [
    "#set up number of epochs\n",
    "epochs = 500\n",
    "#create a list to for plotting - not required - but so you can see the change\n",
    "final_losses= []\n",
    "for i in range(epochs):\n",
    "    #run forward pass\n",
    "    y_pred=model.forward(X_train)\n",
    "    #calculate the loss\n",
    "    loss=loss_function(y_pred,y_train)\n",
    "    #append for graphing\n",
    "    final_losses.append(loss.item())\n",
    "    #don't print all 500 - but some of them\n",
    "    if i % 50 == 0:\n",
    "        print(f\"Epoch number: {i} and the loss : {loss.item()}\")\n",
    "    #Resets or zeros out the previous gradients\n",
    "    optimizer.zero_grad()\n",
    "    #computes gradient (dloss/dx) for every parameter x\n",
    "    loss.backward()\n",
    "    #update the weights using step\n",
    "    optimizer.step()"
   ]
  },
  {
   "cell_type": "code",
   "execution_count": 72,
   "id": "f23c3942",
   "metadata": {},
   "outputs": [
    {
     "name": "stdout",
     "output_type": "stream",
     "text": [
      "              precision    recall  f1-score   support\n",
      "\n",
      "           0       0.95      0.99      0.97       735\n",
      "           1       0.00      0.00      0.00        41\n",
      "\n",
      "    accuracy                           0.94       776\n",
      "   macro avg       0.47      0.50      0.48       776\n",
      "weighted avg       0.90      0.94      0.92       776\n",
      "\n"
     ]
    }
   ],
   "source": [
    "#make a list of the results\n",
    "predictions = []\n",
    "#turn off gradient computation to speed up testing\n",
    "with torch.no_grad():\n",
    "    for i,data in enumerate(X_test):\n",
    "        y_pred = model(data)\n",
    "        predictions.append(y_pred.argmax().item())\n",
    "\n",
    "print(metrics.classification_report(y_test,predictions))"
   ]
  },
  {
   "cell_type": "code",
   "execution_count": null,
   "id": "85e82d68",
   "metadata": {},
   "outputs": [],
   "source": []
  },
  {
   "cell_type": "code",
   "execution_count": 73,
   "id": "7c8545c5",
   "metadata": {},
   "outputs": [],
   "source": [
    "#Create Model\n",
    "class ANN_model3(nn.Module):\n",
    "    def __init__(self,input_dim=15,hidden1_dim=20, hidden2_dim=10, hidden3_dim=5,out_dim=2):\n",
    "        '''\n",
    "        input_dim is 15 because there are 15 columns of features in this set.\n",
    "        we are setting up 2 hidden layers the first has 20 nodes, the second has 10\n",
    "        out_dim is 2 because there are two options - diabetic or non-diabetic\n",
    "        '''\n",
    "        super().__init__()\n",
    "        #connent input to first hidden layer\n",
    "        self.layer1 = nn.Linear(input_dim,hidden1_dim)\n",
    "        #connect hidden layer to output\n",
    "        self.out = nn.Linear(hidden1_dim,out_dim)\n",
    "        #Note: each layer has a weight and bias that in embedded in the linear layer\n",
    "\n",
    "    def forward(self,x):\n",
    "        #compute the output of f_connected1 and apply ReLu\n",
    "        x = F.relu(self.layer1(x))\n",
    "        #compute the output layer\n",
    "        # no activation: cross entropy will compute softmax\n",
    "        x = self.out(x)\n",
    "        return x"
   ]
  },
  {
   "cell_type": "code",
   "execution_count": 76,
   "id": "14059b85",
   "metadata": {},
   "outputs": [],
   "source": [
    "#seed pytorch - for reproducibility of setting initial weights\n",
    "torch.manual_seed(20)\n",
    "#set up model using the class you made\n",
    "model = ANN_model3(15).to(device)\n",
    "\n",
    "#try a learning rate\n",
    "loss_function = nn.CrossEntropyLoss()\n",
    "optimizer = torch.optim.Adam(model.parameters(),lr=0.01)"
   ]
  },
  {
   "cell_type": "code",
   "execution_count": 78,
   "id": "1564d7b5",
   "metadata": {
    "scrolled": true
   },
   "outputs": [
    {
     "name": "stdout",
     "output_type": "stream",
     "text": [
      "Epoch number: 0 and the loss : 25.9211368560791\n",
      "Epoch number: 20 and the loss : 91.5986557006836\n",
      "Epoch number: 40 and the loss : 28.918100357055664\n",
      "Epoch number: 60 and the loss : 17.746952056884766\n",
      "Epoch number: 80 and the loss : 32.020347595214844\n",
      "Epoch number: 100 and the loss : 15.495553970336914\n",
      "Epoch number: 120 and the loss : 9.075689315795898\n",
      "Epoch number: 140 and the loss : 36.1990852355957\n",
      "Epoch number: 160 and the loss : 96.53797149658203\n",
      "Epoch number: 180 and the loss : 68.83866882324219\n",
      "Epoch number: 200 and the loss : 27.621335983276367\n",
      "Epoch number: 220 and the loss : 21.30971908569336\n",
      "Epoch number: 240 and the loss : 18.898801803588867\n",
      "Epoch number: 260 and the loss : 5.082952499389648\n",
      "Epoch number: 280 and the loss : 10.702458381652832\n",
      "Epoch number: 300 and the loss : 15.098030090332031\n",
      "Epoch number: 320 and the loss : 15.943832397460938\n",
      "Epoch number: 340 and the loss : 15.263337135314941\n",
      "Epoch number: 360 and the loss : 9.847640037536621\n",
      "Epoch number: 380 and the loss : 6.591882705688477\n",
      "Epoch number: 400 and the loss : 13.63955020904541\n",
      "Epoch number: 420 and the loss : 6.990153789520264\n",
      "Epoch number: 440 and the loss : 15.337573051452637\n",
      "Epoch number: 460 and the loss : 1.727505087852478\n",
      "Epoch number: 480 and the loss : 9.160564422607422\n",
      "Epoch number: 500 and the loss : 20.39971923828125\n",
      "Epoch number: 520 and the loss : 42.395450592041016\n",
      "Epoch number: 540 and the loss : 6.4409050941467285\n",
      "Epoch number: 560 and the loss : 10.347566604614258\n",
      "Epoch number: 580 and the loss : 3.5070960521698\n",
      "Epoch number: 600 and the loss : 7.4321393966674805\n",
      "Epoch number: 620 and the loss : 15.435408592224121\n",
      "Epoch number: 640 and the loss : 7.968935489654541\n",
      "Epoch number: 660 and the loss : 26.023256301879883\n",
      "Epoch number: 680 and the loss : 8.138274192810059\n",
      "Epoch number: 700 and the loss : 5.557239532470703\n",
      "Epoch number: 720 and the loss : 9.29318904876709\n",
      "Epoch number: 740 and the loss : 5.550449371337891\n",
      "Epoch number: 760 and the loss : 5.324354648590088\n",
      "Epoch number: 780 and the loss : 9.013447761535645\n",
      "Epoch number: 800 and the loss : 42.751495361328125\n",
      "Epoch number: 820 and the loss : 52.48085403442383\n",
      "Epoch number: 840 and the loss : 43.10788345336914\n",
      "Epoch number: 860 and the loss : 7.974976062774658\n",
      "Epoch number: 880 and the loss : 2.8873558044433594\n",
      "Epoch number: 900 and the loss : 9.672592163085938\n",
      "Epoch number: 920 and the loss : 16.37986946105957\n",
      "Epoch number: 940 and the loss : 1.5890212059020996\n",
      "Epoch number: 960 and the loss : 7.802621841430664\n",
      "Epoch number: 980 and the loss : 5.560189723968506\n"
     ]
    }
   ],
   "source": [
    "#set up number of epochs\n",
    "epochs = 1000\n",
    "#create a list to for plotting - not required - but so you can see the change\n",
    "final_losses= []\n",
    "for i in range(epochs):\n",
    "    #run forward pass\n",
    "    y_pred=model.forward(X_train)\n",
    "    #calculate the loss\n",
    "    loss=loss_function(y_pred,y_train)\n",
    "    #append for graphing\n",
    "    final_losses.append(loss.item())\n",
    "    #don't print all 500 - but some of them\n",
    "    if i % 20 == 0:\n",
    "        print(f\"Epoch number: {i} and the loss : {loss.item()}\")\n",
    "    #Resets or zeros out the previous gradients\n",
    "    optimizer.zero_grad()\n",
    "    #computes gradient (dloss/dx) for every parameter x\n",
    "    loss.backward()\n",
    "    #update the weights using step\n",
    "    optimizer.step()"
   ]
  },
  {
   "cell_type": "code",
   "execution_count": 80,
   "id": "23ab8e23",
   "metadata": {
    "scrolled": true
   },
   "outputs": [
    {
     "name": "stdout",
     "output_type": "stream",
     "text": [
      "              precision    recall  f1-score   support\n",
      "\n",
      "           0       0.95      1.00      0.97       735\n",
      "           1       0.00      0.00      0.00        41\n",
      "\n",
      "    accuracy                           0.95       776\n",
      "   macro avg       0.47      0.50      0.49       776\n",
      "weighted avg       0.90      0.95      0.92       776\n",
      "\n"
     ]
    },
    {
     "name": "stderr",
     "output_type": "stream",
     "text": [
      "/home/anerud001/.local/lib/python3.11/site-packages/sklearn/metrics/_classification.py:1469: UndefinedMetricWarning: Precision and F-score are ill-defined and being set to 0.0 in labels with no predicted samples. Use `zero_division` parameter to control this behavior.\n",
      "  _warn_prf(average, modifier, msg_start, len(result))\n",
      "/home/anerud001/.local/lib/python3.11/site-packages/sklearn/metrics/_classification.py:1469: UndefinedMetricWarning: Precision and F-score are ill-defined and being set to 0.0 in labels with no predicted samples. Use `zero_division` parameter to control this behavior.\n",
      "  _warn_prf(average, modifier, msg_start, len(result))\n",
      "/home/anerud001/.local/lib/python3.11/site-packages/sklearn/metrics/_classification.py:1469: UndefinedMetricWarning: Precision and F-score are ill-defined and being set to 0.0 in labels with no predicted samples. Use `zero_division` parameter to control this behavior.\n",
      "  _warn_prf(average, modifier, msg_start, len(result))\n"
     ]
    }
   ],
   "source": [
    "#make a list of the results\n",
    "predictions = []\n",
    "#turn off gradient computation to speed up testing\n",
    "with torch.no_grad():\n",
    "    for i,data in enumerate(X_test):\n",
    "        y_pred = model(data)\n",
    "        predictions.append(y_pred.argmax().item())\n",
    "        \n",
    "        \n",
    "print(metrics.classification_report(y_test,predictions))"
   ]
  },
  {
   "cell_type": "markdown",
   "id": "d80b8093",
   "metadata": {},
   "source": [
    "# Thoughts\n",
    "<p>The above is the best I was able to get the accuracy with around 95%. However, I have come to the terms that for some reason this algorithm is not able to identify any of the data that is true. I've tried having different splits of data, different random seeds and so forth, but for some reason it still doesn't identify the data properly. The best accuracy I have received was from the model that got one true correctly defined. Otherwise the best overall accuracy I received was from the three layers. This makes me think that it also could be due to bad data overall, since with other models I was getting ~94% every time </p>"
   ]
  },
  {
   "cell_type": "markdown",
   "id": "564ff487",
   "metadata": {},
   "source": [
    "# Trying with other dataset"
   ]
  },
  {
   "cell_type": "code",
   "execution_count": 13,
   "id": "92ed407c",
   "metadata": {},
   "outputs": [
    {
     "data": {
      "text/html": [
       "<div>\n",
       "<style scoped>\n",
       "    .dataframe tbody tr th:only-of-type {\n",
       "        vertical-align: middle;\n",
       "    }\n",
       "\n",
       "    .dataframe tbody tr th {\n",
       "        vertical-align: top;\n",
       "    }\n",
       "\n",
       "    .dataframe thead th {\n",
       "        text-align: right;\n",
       "    }\n",
       "</style>\n",
       "<table border=\"1\" class=\"dataframe\">\n",
       "  <thead>\n",
       "    <tr style=\"text-align: right;\">\n",
       "      <th></th>\n",
       "      <th>ACCESS_ALL_DOWNLOADS</th>\n",
       "      <th>ACCESS_CACHE_FILESYSTEM</th>\n",
       "      <th>ACCESS_CHECKIN_PROPERTIES</th>\n",
       "      <th>ACCESS_COARSE_LOCATION</th>\n",
       "      <th>ACCESS_COARSE_UPDATES</th>\n",
       "      <th>ACCESS_FINE_LOCATION</th>\n",
       "      <th>ACCESS_LOCATION_EXTRA_COMMANDS</th>\n",
       "      <th>ACCESS_MOCK_LOCATION</th>\n",
       "      <th>ACCESS_MTK_MMHW</th>\n",
       "      <th>ACCESS_NETWORK_STATE</th>\n",
       "      <th>...</th>\n",
       "      <th>Landroid/telephony/TelephonyManager;-&gt;getLine1Number</th>\n",
       "      <th>Landroid/telephony/TelephonyManager;-&gt;getNetworkOperator</th>\n",
       "      <th>Landroid/telephony/TelephonyManager;-&gt;getNetworkOperatorName</th>\n",
       "      <th>Landroid/telephony/TelephonyManager;-&gt;getNetworkCountryIso</th>\n",
       "      <th>Landroid/telephony/TelephonyManager;-&gt;getSimOperator</th>\n",
       "      <th>Landroid/telephony/TelephonyManager;-&gt;getSimOperatorName</th>\n",
       "      <th>Landroid/telephony/TelephonyManager;-&gt;getSimCountryIso</th>\n",
       "      <th>Landroid/telephony/TelephonyManager;-&gt;getSimSerialNumber</th>\n",
       "      <th>Lorg/apache/http/impl/client/DefaultHttpClient;-&gt;execute</th>\n",
       "      <th>Label</th>\n",
       "    </tr>\n",
       "  </thead>\n",
       "  <tbody>\n",
       "    <tr>\n",
       "      <th>0</th>\n",
       "      <td>0</td>\n",
       "      <td>0</td>\n",
       "      <td>0</td>\n",
       "      <td>0</td>\n",
       "      <td>0</td>\n",
       "      <td>0</td>\n",
       "      <td>0</td>\n",
       "      <td>0</td>\n",
       "      <td>0</td>\n",
       "      <td>1</td>\n",
       "      <td>...</td>\n",
       "      <td>1</td>\n",
       "      <td>1</td>\n",
       "      <td>1</td>\n",
       "      <td>0</td>\n",
       "      <td>0</td>\n",
       "      <td>0</td>\n",
       "      <td>0</td>\n",
       "      <td>0</td>\n",
       "      <td>1</td>\n",
       "      <td>1</td>\n",
       "    </tr>\n",
       "    <tr>\n",
       "      <th>1</th>\n",
       "      <td>0</td>\n",
       "      <td>0</td>\n",
       "      <td>0</td>\n",
       "      <td>0</td>\n",
       "      <td>0</td>\n",
       "      <td>0</td>\n",
       "      <td>0</td>\n",
       "      <td>0</td>\n",
       "      <td>0</td>\n",
       "      <td>1</td>\n",
       "      <td>...</td>\n",
       "      <td>0</td>\n",
       "      <td>0</td>\n",
       "      <td>0</td>\n",
       "      <td>1</td>\n",
       "      <td>0</td>\n",
       "      <td>0</td>\n",
       "      <td>1</td>\n",
       "      <td>0</td>\n",
       "      <td>0</td>\n",
       "      <td>1</td>\n",
       "    </tr>\n",
       "    <tr>\n",
       "      <th>2</th>\n",
       "      <td>0</td>\n",
       "      <td>0</td>\n",
       "      <td>0</td>\n",
       "      <td>0</td>\n",
       "      <td>0</td>\n",
       "      <td>0</td>\n",
       "      <td>0</td>\n",
       "      <td>0</td>\n",
       "      <td>0</td>\n",
       "      <td>1</td>\n",
       "      <td>...</td>\n",
       "      <td>0</td>\n",
       "      <td>0</td>\n",
       "      <td>0</td>\n",
       "      <td>0</td>\n",
       "      <td>0</td>\n",
       "      <td>0</td>\n",
       "      <td>0</td>\n",
       "      <td>0</td>\n",
       "      <td>0</td>\n",
       "      <td>1</td>\n",
       "    </tr>\n",
       "    <tr>\n",
       "      <th>3</th>\n",
       "      <td>0</td>\n",
       "      <td>0</td>\n",
       "      <td>0</td>\n",
       "      <td>0</td>\n",
       "      <td>0</td>\n",
       "      <td>0</td>\n",
       "      <td>0</td>\n",
       "      <td>0</td>\n",
       "      <td>0</td>\n",
       "      <td>0</td>\n",
       "      <td>...</td>\n",
       "      <td>0</td>\n",
       "      <td>1</td>\n",
       "      <td>1</td>\n",
       "      <td>1</td>\n",
       "      <td>1</td>\n",
       "      <td>0</td>\n",
       "      <td>1</td>\n",
       "      <td>0</td>\n",
       "      <td>0</td>\n",
       "      <td>1</td>\n",
       "    </tr>\n",
       "    <tr>\n",
       "      <th>4</th>\n",
       "      <td>0</td>\n",
       "      <td>0</td>\n",
       "      <td>0</td>\n",
       "      <td>0</td>\n",
       "      <td>0</td>\n",
       "      <td>0</td>\n",
       "      <td>0</td>\n",
       "      <td>0</td>\n",
       "      <td>0</td>\n",
       "      <td>0</td>\n",
       "      <td>...</td>\n",
       "      <td>0</td>\n",
       "      <td>0</td>\n",
       "      <td>0</td>\n",
       "      <td>0</td>\n",
       "      <td>0</td>\n",
       "      <td>0</td>\n",
       "      <td>0</td>\n",
       "      <td>0</td>\n",
       "      <td>0</td>\n",
       "      <td>1</td>\n",
       "    </tr>\n",
       "  </tbody>\n",
       "</table>\n",
       "<p>5 rows × 242 columns</p>\n",
       "</div>"
      ],
      "text/plain": [
       "   ACCESS_ALL_DOWNLOADS  ACCESS_CACHE_FILESYSTEM  ACCESS_CHECKIN_PROPERTIES  \\\n",
       "0                     0                        0                          0   \n",
       "1                     0                        0                          0   \n",
       "2                     0                        0                          0   \n",
       "3                     0                        0                          0   \n",
       "4                     0                        0                          0   \n",
       "\n",
       "   ACCESS_COARSE_LOCATION  ACCESS_COARSE_UPDATES  ACCESS_FINE_LOCATION  \\\n",
       "0                       0                      0                     0   \n",
       "1                       0                      0                     0   \n",
       "2                       0                      0                     0   \n",
       "3                       0                      0                     0   \n",
       "4                       0                      0                     0   \n",
       "\n",
       "   ACCESS_LOCATION_EXTRA_COMMANDS  ACCESS_MOCK_LOCATION  ACCESS_MTK_MMHW  \\\n",
       "0                               0                     0                0   \n",
       "1                               0                     0                0   \n",
       "2                               0                     0                0   \n",
       "3                               0                     0                0   \n",
       "4                               0                     0                0   \n",
       "\n",
       "   ACCESS_NETWORK_STATE  ...  \\\n",
       "0                     1  ...   \n",
       "1                     1  ...   \n",
       "2                     1  ...   \n",
       "3                     0  ...   \n",
       "4                     0  ...   \n",
       "\n",
       "   Landroid/telephony/TelephonyManager;->getLine1Number  \\\n",
       "0                                                  1      \n",
       "1                                                  0      \n",
       "2                                                  0      \n",
       "3                                                  0      \n",
       "4                                                  0      \n",
       "\n",
       "   Landroid/telephony/TelephonyManager;->getNetworkOperator  \\\n",
       "0                                                  1          \n",
       "1                                                  0          \n",
       "2                                                  0          \n",
       "3                                                  1          \n",
       "4                                                  0          \n",
       "\n",
       "   Landroid/telephony/TelephonyManager;->getNetworkOperatorName  \\\n",
       "0                                                  1              \n",
       "1                                                  0              \n",
       "2                                                  0              \n",
       "3                                                  1              \n",
       "4                                                  0              \n",
       "\n",
       "   Landroid/telephony/TelephonyManager;->getNetworkCountryIso  \\\n",
       "0                                                  0            \n",
       "1                                                  1            \n",
       "2                                                  0            \n",
       "3                                                  1            \n",
       "4                                                  0            \n",
       "\n",
       "   Landroid/telephony/TelephonyManager;->getSimOperator  \\\n",
       "0                                                  0      \n",
       "1                                                  0      \n",
       "2                                                  0      \n",
       "3                                                  1      \n",
       "4                                                  0      \n",
       "\n",
       "   Landroid/telephony/TelephonyManager;->getSimOperatorName  \\\n",
       "0                                                  0          \n",
       "1                                                  0          \n",
       "2                                                  0          \n",
       "3                                                  0          \n",
       "4                                                  0          \n",
       "\n",
       "   Landroid/telephony/TelephonyManager;->getSimCountryIso  \\\n",
       "0                                                  0        \n",
       "1                                                  1        \n",
       "2                                                  0        \n",
       "3                                                  1        \n",
       "4                                                  0        \n",
       "\n",
       "   Landroid/telephony/TelephonyManager;->getSimSerialNumber  \\\n",
       "0                                                  0          \n",
       "1                                                  0          \n",
       "2                                                  0          \n",
       "3                                                  0          \n",
       "4                                                  0          \n",
       "\n",
       "   Lorg/apache/http/impl/client/DefaultHttpClient;->execute  Label  \n",
       "0                                                  1             1  \n",
       "1                                                  0             1  \n",
       "2                                                  0             1  \n",
       "3                                                  0             1  \n",
       "4                                                  0             1  \n",
       "\n",
       "[5 rows x 242 columns]"
      ]
     },
     "execution_count": 13,
     "metadata": {},
     "output_type": "execute_result"
    }
   ],
   "source": [
    "# Load libraries\n",
    "import pandas as pd\n",
    "from sklearn.ensemble import RandomForestClassifier # Import RandomForest Classifier\n",
    "from sklearn.model_selection import train_test_split # Import train_test_split function\n",
    "from sklearn import metrics #Import scikit-learn metrics module for accuracy calculation\n",
    "#make sure you have your labels correct\n",
    "#some files have this in the file - others it is in the description\n",
    "col_names = ['ACCESS_ALL_DOWNLOADS','ACCESS_CACHE_FILESYSTEM','ACCESS_CHECKIN_PROPERTIES',\n",
    "                'ACCESS_COARSE_LOCATION','ACCESS_COARSE_UPDATES','ACCESS_FINE_LOCATION',\n",
    "                'ACCESS_LOCATION_EXTRA_COMMANDS','ACCESS_MOCK_LOCATION','ACCESS_MTK_MMHW',\n",
    "                'ACCESS_NETWORK_STATE','ACCESS_PROVIDER','ACCESS_SERVICE','ACCESS_SHARED_DATA',\n",
    "                'ACCESS_SUPERUSER','ACCESS_SURFACE_FLINGER','ACCESS_WIFI_STATE','activityCalled',\n",
    "                'ACTIVITY_RECOGNITION','ACCOUNT_MANAGER','ADD_VOICEMAIL','ANT','ANT_ADMIN',\n",
    "                'AUTHENTICATE_ACCOUNTS','AUTORUN_MANAGER_LICENSE_MANAGER','AUTORUN_MANAGER_LICENSE_SERVICE(.autorun)',\n",
    "                'BATTERY_STATS','BILLING','BIND_ACCESSIBILITY_SERVICE','BIND_APPWIDGET',\n",
    "                'BIND_CARRIER_MESSAGING_SERVICE','BIND_DEVICE_ADMIN','BIND_DREAM_SERVICE',\n",
    "                'BIND_GET_INSTALL_REFERRER_SERVICE','BIND_INPUT_METHOD','BIND_NFC_SERVICE',\n",
    "                'BIND_goodwareTIFICATION_LISTENER_SERVICE','BIND_PRINT_SERVICE','BIND_REMOTEVIEWS',\n",
    "                'BIND_TEXT_SERVICE','BIND_TV_INPUT','BIND_VOICE_INTERACTION','BIND_VPN_SERVICE',\n",
    "                'BIND_WALLPAPER','BLUETOOTH','BLUETOOTH_ADMIN','BLUETOOTH_PRIVILEGED','BODY_SENSORS',\n",
    "                'BRICK','BROADCAST_PACKAGE_REMOVED','BROADCAST_SMS','BROADCAST_STICKY','BROADCAST_WAP_PUSH',\n",
    "                'C2D_MESSAGE','CALL_PHONE','CALL_PRIVILEGED','CAMERA','CAPTURE_AUDIO_OUTPUT',\n",
    "                'CAPTURE_SECURE_VIDEO_OUTPUT','CAPTURE_VIDEO_OUTPUT','CHANGE_COMPONENT_ENABLED_STATE',\n",
    "                'CHANGE_CONFIGURATION','CHANGE_DISPLAY_MODE','CHANGE_NETWORK_STATE',\n",
    "                'CHANGE_WIFI_MULTICAST_STATE','CHANGE_WIFI_STATE','CHECK_LICENSE','CLEAR_APP_CACHE',\n",
    "                'CLEAR_APP_USER_DATA','CONTROL_LOCATION_UPDATES','DATABASE_INTERFACE_SERVICE',\n",
    "                'DELETE_CACHE_FILES','DELETE_PACKAGES','DEVICE_POWER','DIAGgoodwareSTIC','DISABLE_KEYGUARD',\n",
    "                'DOWNLOAD_SERVICE','DOWNLOAD_WITHOUT_goodwareTIFICATION','DUMP','EXPAND_STATUS_BAR',\n",
    "                'EXTENSION_PERMISSION','FACTORY_TEST','FLASHLIGHT','FORCE_BACK','FULLSCREEN.FULL',\n",
    "                'GET_ACCOUNTS','GET_PACKAGE_SIZE','GET_TASKS','GET_TOP_ACTIVITY_INFO','GLOBAL_SEARCH',\n",
    "                'GOOGLE_AUTH','GOOGLE_PHOTOS','HARDWARE_TEST','INJECT_EVENTS','INSTALL_LOCATION_PROVIDER',\n",
    "                'INSTALL_PACKAGES','INSTALL_SHORTCUT','INTERACT_ACROSS_USERS','INTERNAL_SYSTEM_WINDOW',\n",
    "                'INTERNET','JPUSH_MESSAGE','KILL_BACKGROUND_PROCESSES','LOCATION_HARDWARE','MANAGE_ACCOUNTS',\n",
    "                'MANAGE_APP_TOKENS','MANAGE_DOCUMENTS','MAPS_RECEIVE','MASTER_CLEAR','MEDIA_BUTTON',\n",
    "                'MEDIA_CONTENT_CONTROL','MESSAGE','MODIFY_AUDIO_SETTINGS','MODIFY_PHONE_STATE',\n",
    "                'MOUNT_FORMAT_FILESYSTEMS','MOUNT_UNMOUNT_FILESYSTEMS','NFC','PERSISTENT_ACTIVITY',\n",
    "                'PERMISSION','PERMISSION_RUN_TASKS','PLUGIN','PROCESS_OUTGOING_CALLS','READ',\n",
    "                'READ_ATTACHMENT','READ_AVESTTINGS','READ_CALENDAR','READ_CALL_LOG','READ_CONTACTS',\n",
    "                'READ_CONTENT_PROVIDER','READ_DATA','READ_DATABASES','READ_EXTERNAL_STORAGE',\n",
    "                'READ_FRAME_BUFFER','READ_GMAIL','READ_GSERVICES','READ_HISTORY_BOOKMARKS',\n",
    "                'READ_INPUT_STATE','READ_LOGS','READ_MESSAGES','READ_OWNER_DATA','READ_PHONE_STATE',\n",
    "                'READ_PROFILE','READ_SETTINGS','READ_SMS','READ_SOCIAL_STREAM','READ_SYNC_SETTINGS',\n",
    "                'READ_SYNC_STATS','READ_USER_DICTIONARY','READ_VOICEMAIL','REBOOT','RECEIVE',\n",
    "                'RECEIVE_BOOT_COMPLETED','RECEIVE_MMS','RECEIVE_SIGNED_DATA_RESULT','RECEIVE_SMS',\n",
    "                'RECEIVE_USER_PRESENT','RECEIVE_WAP_PUSH','RECORD_AUDIO','REORDER_TASKS','RESPOND',\n",
    "                'RESTART_PACKAGES','REQUEST','SDCARD_WRITE','SEND','SEND_RESPOND_VIA_MESSAGE','SEND_SMS',\n",
    "                'SET_ACTIVITY_WATCHER','SET_ALARM','SET_ALWAYS_FINISH','SET_ANIMATION_SCALE','SET_DEBUG_APP',\n",
    "                'SET_ORIENTATION','SET_POINTER_SPEED','SET_PREFERRED_APPLICATIONS','SET_PROCESS_LIMIT',\n",
    "                'SET_TIME','SET_TIME_ZONE','SET_WALLPAPER','SET_WALLPAPER_HINTS',\n",
    "                'SIGNAL_PERSISTENT_PROCESSES','STATUS_BAR','STORAGE','SUBSCRIBED_FEEDS_READ',\n",
    "                'SUBSCRIBED_FEEDS_WRITE','SYSTEM_ALERT_WINDOW','TRANSMIT_IR','UNINSTALL_SHORTCUT',\n",
    "                'UPDATE_DEVICE_STATS','USES_POLICY_FORCE_LOCK','USE_CREDENTIALS','USE_FINGERPRINT',\n",
    "                'USE_SIP','VIBRATE','WAKE_LOCK','WRITE','WRITE_APN_SETTINGS','WRITE_AVSETTING',\n",
    "                'WRITE_CALENDAR','WRITE_CALL_LOG','WRITE_CONTACTS','WRITE_DATA','WRITE_DATABASES',\n",
    "                'WRITE_EXTERNAL_STORAGE','WRITE_GSERVICES','WRITE_HISTORY_BOOKMARKS',\n",
    "                'WRITE_INTERNAL_STORAGE','WRITE_MEDIA_STORAGE','WRITE_OWNER_DATA','WRITE_PROFILE',\n",
    "                'WRITE_SECURE_SETTINGS','WRITE_SETTINGS','WRITE_SMS','WRITE_SOCIAL_STREAM',\n",
    "                'WRITE_SYNC_SETTINGS','WRITE_USER_DICTIONARY','WRITE_VOICEMAIL',\n",
    "                'Ljava/lang/reflect/Method;->invoke','Ljavax/crypto/Cipher;->doFinal',\n",
    "                'Ljava/lang/Runtime;->exec','Ljava/lang/System;->load',\n",
    "                'Ldalvik/system/DexClassLoader;->loadClass','Ljava/lang/System;->loadLibrary',\n",
    "                'Ljava/net/URL;->openConnection','Landroid/hardware/Camera;->open',\n",
    "                'Landroid/hardware/Camera;->takePicture',\n",
    "                'Landroid/telephony/SmsManager;->sendMultipartTextMessage',\n",
    "                'Landroid/telephony/SmsManager;->sendTextMessage',\n",
    "                'Landroid/media/AudioRecord;->startRecording',\n",
    "                'Landroid/telephony/TelephonyManager;->getCellLocation',\n",
    "                'Lcom/google/android/gms/location/LocationClient;->getLastLocation',\n",
    "                'Landroid/location/LocationManager;->getLastKgoodwarewnLocation',\n",
    "                'Landroid/telephony/TelephonyManager;->getDeviceId',\n",
    "                'Landroid/content/pm/PackageManager;->getInstalledApplications',\n",
    "                'Landroid/content/pm/PackageManager;->getInstalledPackages',\n",
    "                'Landroid/telephony/TelephonyManager;->getLine1Number',\n",
    "                'Landroid/telephony/TelephonyManager;->getNetworkOperator',\n",
    "                'Landroid/telephony/TelephonyManager;->getNetworkOperatorName',\n",
    "                'Landroid/telephony/TelephonyManager;->getNetworkCountryIso',\n",
    "                'Landroid/telephony/TelephonyManager;->getSimOperator',\n",
    "                'Landroid/telephony/TelephonyManager;->getSimOperatorName',\n",
    "                'Landroid/telephony/TelephonyManager;->getSimCountryIso',\n",
    "                'Landroid/telephony/TelephonyManager;->getSimSerialNumber',\n",
    "                'Lorg/apache/http/impl/client/DefaultHttpClient;->execute',\n",
    "                'Label']\n",
    "# load dataset\n",
    "data = pd.read_csv(\"TUANDROMD.csv\", header=None, names=col_names, low_memory=False)\n",
    "#take a peek to see if this looks right\n",
    "data.head()"
   ]
  },
  {
   "cell_type": "code",
   "execution_count": 14,
   "id": "0692e09b",
   "metadata": {},
   "outputs": [],
   "source": [
    "#split dataset in features and target variable\n",
    "feature_cols = ['ACCESS_ALL_DOWNLOADS','ACCESS_CACHE_FILESYSTEM','ACCESS_CHECKIN_PROPERTIES',\n",
    "                'ACCESS_COARSE_LOCATION','ACCESS_COARSE_UPDATES','ACCESS_FINE_LOCATION',\n",
    "                'ACCESS_LOCATION_EXTRA_COMMANDS','ACCESS_MOCK_LOCATION','ACCESS_MTK_MMHW',\n",
    "                'ACCESS_NETWORK_STATE','ACCESS_PROVIDER','ACCESS_SERVICE','ACCESS_SHARED_DATA',\n",
    "                'ACCESS_SUPERUSER','ACCESS_SURFACE_FLINGER','ACCESS_WIFI_STATE','activityCalled',\n",
    "                'ACTIVITY_RECOGNITION','ACCOUNT_MANAGER','ADD_VOICEMAIL','ANT','ANT_ADMIN',\n",
    "                'AUTHENTICATE_ACCOUNTS','AUTORUN_MANAGER_LICENSE_MANAGER','AUTORUN_MANAGER_LICENSE_SERVICE(.autorun)',\n",
    "                'BATTERY_STATS','BILLING','BIND_ACCESSIBILITY_SERVICE','BIND_APPWIDGET',\n",
    "                'BIND_CARRIER_MESSAGING_SERVICE','BIND_DEVICE_ADMIN','BIND_DREAM_SERVICE',\n",
    "                'BIND_GET_INSTALL_REFERRER_SERVICE','BIND_INPUT_METHOD','BIND_NFC_SERVICE',\n",
    "                'BIND_goodwareTIFICATION_LISTENER_SERVICE','BIND_PRINT_SERVICE','BIND_REMOTEVIEWS',\n",
    "                'BIND_TEXT_SERVICE','BIND_TV_INPUT','BIND_VOICE_INTERACTION','BIND_VPN_SERVICE',\n",
    "                'BIND_WALLPAPER','BLUETOOTH','BLUETOOTH_ADMIN','BLUETOOTH_PRIVILEGED','BODY_SENSORS',\n",
    "                'BRICK','BROADCAST_PACKAGE_REMOVED','BROADCAST_SMS','BROADCAST_STICKY','BROADCAST_WAP_PUSH',\n",
    "                'C2D_MESSAGE','CALL_PHONE','CALL_PRIVILEGED','CAMERA','CAPTURE_AUDIO_OUTPUT',\n",
    "                'CAPTURE_SECURE_VIDEO_OUTPUT','CAPTURE_VIDEO_OUTPUT','CHANGE_COMPONENT_ENABLED_STATE',\n",
    "                'CHANGE_CONFIGURATION','CHANGE_DISPLAY_MODE','CHANGE_NETWORK_STATE',\n",
    "                'CHANGE_WIFI_MULTICAST_STATE','CHANGE_WIFI_STATE','CHECK_LICENSE','CLEAR_APP_CACHE',\n",
    "                'CLEAR_APP_USER_DATA','CONTROL_LOCATION_UPDATES','DATABASE_INTERFACE_SERVICE',\n",
    "                'DELETE_CACHE_FILES','DELETE_PACKAGES','DEVICE_POWER','DIAGgoodwareSTIC','DISABLE_KEYGUARD',\n",
    "                'DOWNLOAD_SERVICE','DOWNLOAD_WITHOUT_goodwareTIFICATION','DUMP','EXPAND_STATUS_BAR',\n",
    "                'EXTENSION_PERMISSION','FACTORY_TEST','FLASHLIGHT','FORCE_BACK','FULLSCREEN.FULL',\n",
    "                'GET_ACCOUNTS','GET_PACKAGE_SIZE','GET_TASKS','GET_TOP_ACTIVITY_INFO','GLOBAL_SEARCH',\n",
    "                'GOOGLE_AUTH','GOOGLE_PHOTOS','HARDWARE_TEST','INJECT_EVENTS','INSTALL_LOCATION_PROVIDER',\n",
    "                'INSTALL_PACKAGES','INSTALL_SHORTCUT','INTERACT_ACROSS_USERS','INTERNAL_SYSTEM_WINDOW',\n",
    "                'INTERNET','JPUSH_MESSAGE','KILL_BACKGROUND_PROCESSES','LOCATION_HARDWARE','MANAGE_ACCOUNTS',\n",
    "                'MANAGE_APP_TOKENS','MANAGE_DOCUMENTS','MAPS_RECEIVE','MASTER_CLEAR','MEDIA_BUTTON',\n",
    "                'MEDIA_CONTENT_CONTROL','MESSAGE','MODIFY_AUDIO_SETTINGS','MODIFY_PHONE_STATE',\n",
    "                'MOUNT_FORMAT_FILESYSTEMS','MOUNT_UNMOUNT_FILESYSTEMS','NFC','PERSISTENT_ACTIVITY',\n",
    "                'PERMISSION','PERMISSION_RUN_TASKS','PLUGIN','PROCESS_OUTGOING_CALLS','READ',\n",
    "                'READ_ATTACHMENT','READ_AVESTTINGS','READ_CALENDAR','READ_CALL_LOG','READ_CONTACTS',\n",
    "                'READ_CONTENT_PROVIDER','READ_DATA','READ_DATABASES','READ_EXTERNAL_STORAGE',\n",
    "                'READ_FRAME_BUFFER','READ_GMAIL','READ_GSERVICES','READ_HISTORY_BOOKMARKS',\n",
    "                'READ_INPUT_STATE','READ_LOGS','READ_MESSAGES','READ_OWNER_DATA','READ_PHONE_STATE',\n",
    "                'READ_PROFILE','READ_SETTINGS','READ_SMS','READ_SOCIAL_STREAM','READ_SYNC_SETTINGS',\n",
    "                'READ_SYNC_STATS','READ_USER_DICTIONARY','READ_VOICEMAIL','REBOOT','RECEIVE',\n",
    "                'RECEIVE_BOOT_COMPLETED','RECEIVE_MMS','RECEIVE_SIGNED_DATA_RESULT','RECEIVE_SMS',\n",
    "                'RECEIVE_USER_PRESENT','RECEIVE_WAP_PUSH','RECORD_AUDIO','REORDER_TASKS','RESPOND',\n",
    "                'RESTART_PACKAGES','REQUEST','SDCARD_WRITE','SEND','SEND_RESPOND_VIA_MESSAGE','SEND_SMS',\n",
    "                'SET_ACTIVITY_WATCHER','SET_ALARM','SET_ALWAYS_FINISH','SET_ANIMATION_SCALE','SET_DEBUG_APP',\n",
    "                'SET_ORIENTATION','SET_POINTER_SPEED','SET_PREFERRED_APPLICATIONS','SET_PROCESS_LIMIT',\n",
    "                'SET_TIME','SET_TIME_ZONE','SET_WALLPAPER','SET_WALLPAPER_HINTS',\n",
    "                'SIGNAL_PERSISTENT_PROCESSES','STATUS_BAR','STORAGE','SUBSCRIBED_FEEDS_READ',\n",
    "                'SUBSCRIBED_FEEDS_WRITE','SYSTEM_ALERT_WINDOW','TRANSMIT_IR','UNINSTALL_SHORTCUT',\n",
    "                'UPDATE_DEVICE_STATS','USES_POLICY_FORCE_LOCK','USE_CREDENTIALS','USE_FINGERPRINT',\n",
    "                'USE_SIP','VIBRATE','WAKE_LOCK','WRITE','WRITE_APN_SETTINGS','WRITE_AVSETTING',\n",
    "                'WRITE_CALENDAR','WRITE_CALL_LOG','WRITE_CONTACTS','WRITE_DATA','WRITE_DATABASES',\n",
    "                'WRITE_EXTERNAL_STORAGE','WRITE_GSERVICES','WRITE_HISTORY_BOOKMARKS',\n",
    "                'WRITE_INTERNAL_STORAGE','WRITE_MEDIA_STORAGE','WRITE_OWNER_DATA','WRITE_PROFILE',\n",
    "                'WRITE_SECURE_SETTINGS','WRITE_SETTINGS','WRITE_SMS','WRITE_SOCIAL_STREAM',\n",
    "                'WRITE_SYNC_SETTINGS','WRITE_USER_DICTIONARY','WRITE_VOICEMAIL',\n",
    "                'Ljava/lang/reflect/Method;->invoke','Ljavax/crypto/Cipher;->doFinal',\n",
    "                'Ljava/lang/Runtime;->exec','Ljava/lang/System;->load',\n",
    "                'Ldalvik/system/DexClassLoader;->loadClass','Ljava/lang/System;->loadLibrary',\n",
    "                'Ljava/net/URL;->openConnection','Landroid/hardware/Camera;->open',\n",
    "                'Landroid/hardware/Camera;->takePicture',\n",
    "                'Landroid/telephony/SmsManager;->sendMultipartTextMessage',\n",
    "                'Landroid/telephony/SmsManager;->sendTextMessage',\n",
    "                'Landroid/media/AudioRecord;->startRecording',\n",
    "                'Landroid/telephony/TelephonyManager;->getCellLocation',\n",
    "                'Lcom/google/android/gms/location/LocationClient;->getLastLocation',\n",
    "                'Landroid/location/LocationManager;->getLastKgoodwarewnLocation',\n",
    "                'Landroid/telephony/TelephonyManager;->getDeviceId',\n",
    "                'Landroid/content/pm/PackageManager;->getInstalledApplications',\n",
    "                'Landroid/content/pm/PackageManager;->getInstalledPackages',\n",
    "                'Landroid/telephony/TelephonyManager;->getLine1Number',\n",
    "                'Landroid/telephony/TelephonyManager;->getNetworkOperator',\n",
    "                'Landroid/telephony/TelephonyManager;->getNetworkOperatorName',\n",
    "                'Landroid/telephony/TelephonyManager;->getNetworkCountryIso',\n",
    "                'Landroid/telephony/TelephonyManager;->getSimOperator',\n",
    "                'Landroid/telephony/TelephonyManager;->getSimOperatorName',\n",
    "                'Landroid/telephony/TelephonyManager;->getSimCountryIso',\n",
    "                'Landroid/telephony/TelephonyManager;->getSimSerialNumber',\n",
    "                'Lorg/apache/http/impl/client/DefaultHttpClient;->execute']\n",
    "\n",
    "X = data[feature_cols] # Features\n",
    "y = data['Label'] # Target variable - notice - you need to spell the column name for the target correctly for this to work\n",
    "\n",
    "# Split dataset into training set and test set\n",
    "X_train, X_test, y_train, y_test = train_test_split(X, y, test_size=0.3, random_state=1)\n",
    "# 70% training and 30% test"
   ]
  },
  {
   "cell_type": "code",
   "execution_count": 15,
   "id": "31b7e8bc",
   "metadata": {},
   "outputs": [],
   "source": [
    "# Split dataset into training set and test set\n",
    "X_train, X_test, y_train, y_test = train_test_split(X, y, test_size=0.3, random_state=0)\n",
    "# 70% training and 30% test\n",
    "\n",
    "# Creating Tensors\n",
    "X_train=torch.FloatTensor(X_train.values)\n",
    "X_test=torch.FloatTensor(X_test.values)\n",
    "y_train=torch.LongTensor(y_train.values)\n",
    "y_test=torch.LongTensor(y_test.values)"
   ]
  },
  {
   "cell_type": "code",
   "execution_count": 16,
   "id": "257cc909",
   "metadata": {},
   "outputs": [],
   "source": [
    "# Get cpu, gpu or mps device for training.\n",
    "device = (\n",
    "\"cuda\"\n",
    "if torch.cuda.is_available()\n",
    "else \"mps\"\n",
    "if torch.backends.mps.is_available()\n",
    "else \"cpu\"\n",
    ")\n",
    "\n",
    "#Create Model\n",
    "class ANN_model(nn.Module):\n",
    "    def __init__(self,input_dim=241,hidden1_dim=100, hidden2_dim=20,out_dim=2):\n",
    "        '''\n",
    "        input_dim is 15 because there are 15 columns of features in this set.\n",
    "        we are setting up 2 hidden layers the first has 20 nodes, the second has 10\n",
    "        out_dim is 2 because there are two options - diabetic or non-diabetic\n",
    "        '''\n",
    "        super().__init__()\n",
    "        #connent input to first hidden layer\n",
    "        self.layer1 = nn.Linear(input_dim,hidden1_dim)\n",
    "        #connect first hidden layer to the second hidden layer\n",
    "        self.layer2 = nn.Linear(hidden1_dim,hidden2_dim)\n",
    "        #connect second hidden layer to output\n",
    "        self.out = nn.Linear(hidden2_dim,out_dim)\n",
    "        #Note: each layer has a weight and bias that in embedded in the linear layer\n",
    "\n",
    "    def forward(self,x):\n",
    "        #compute the output of f_connected1 and apply ReLu\n",
    "        x = F.relu(self.layer1(x))\n",
    "        #compute the output of f_connected2 and apply ReLu\n",
    "        x = F.relu(self.layer2(x))\n",
    "        #compute the output layer\n",
    "        # no activation: cross entropy will compute softmax\n",
    "        x = self.out(x)\n",
    "        return x"
   ]
  },
  {
   "cell_type": "code",
   "execution_count": 17,
   "id": "5118292f",
   "metadata": {},
   "outputs": [],
   "source": [
    "#seed pytorch - for reproducibility of setting initial weights\n",
    "torch.manual_seed(20)\n",
    "#set up model using the class you made\n",
    "model = ANN_model().to(device)"
   ]
  },
  {
   "cell_type": "code",
   "execution_count": 19,
   "id": "6bf42bcb",
   "metadata": {},
   "outputs": [
    {
     "name": "stdout",
     "output_type": "stream",
     "text": [
      "ANN_model(\n",
      "  (layer1): Linear(in_features=241, out_features=100, bias=True)\n",
      "  (layer2): Linear(in_features=100, out_features=20, bias=True)\n",
      "  (out): Linear(in_features=20, out_features=2, bias=True)\n",
      ")\n"
     ]
    }
   ],
   "source": [
    "#print out the model\n",
    "print(model)"
   ]
  },
  {
   "cell_type": "code",
   "execution_count": 20,
   "id": "69e74498",
   "metadata": {},
   "outputs": [],
   "source": [
    "# Backward Propagation - loss and optimizer\n",
    "loss_function = nn.CrossEntropyLoss()\n",
    "optimizer = torch.optim.Adam(model.parameters(),lr=0.01)"
   ]
  },
  {
   "cell_type": "code",
   "execution_count": 21,
   "id": "cc491526",
   "metadata": {},
   "outputs": [
    {
     "name": "stdout",
     "output_type": "stream",
     "text": [
      "Epoch number: 0 and the loss : 0.6848992705345154\n",
      "Epoch number: 10 and the loss : 0.08980214595794678\n",
      "Epoch number: 20 and the loss : 0.047394976019859314\n",
      "Epoch number: 30 and the loss : 0.02867731638252735\n",
      "Epoch number: 40 and the loss : 0.020950492471456528\n",
      "Epoch number: 50 and the loss : 0.01639767736196518\n",
      "Epoch number: 60 and the loss : 0.013028034940361977\n",
      "Epoch number: 70 and the loss : 0.010979165323078632\n",
      "Epoch number: 80 and the loss : 0.009803170338273048\n",
      "Epoch number: 90 and the loss : 0.009133022278547287\n",
      "Epoch number: 100 and the loss : 0.008730581030249596\n",
      "Epoch number: 110 and the loss : 0.008487886749207973\n",
      "Epoch number: 120 and the loss : 0.00832640752196312\n",
      "Epoch number: 130 and the loss : 0.008212215267121792\n",
      "Epoch number: 140 and the loss : 0.008130121976137161\n",
      "Epoch number: 150 and the loss : 0.008068675175309181\n",
      "Epoch number: 160 and the loss : 0.008022033609449863\n",
      "Epoch number: 170 and the loss : 0.007985804229974747\n",
      "Epoch number: 180 and the loss : 0.007956922054290771\n",
      "Epoch number: 190 and the loss : 0.007933558896183968\n",
      "Epoch number: 200 and the loss : 0.007914352230727673\n",
      "Epoch number: 210 and the loss : 0.007898546755313873\n",
      "Epoch number: 220 and the loss : 0.007885192520916462\n",
      "Epoch number: 230 and the loss : 0.007874003611505032\n",
      "Epoch number: 240 and the loss : 0.007864268496632576\n",
      "Epoch number: 250 and the loss : 0.007855735719203949\n",
      "Epoch number: 260 and the loss : 0.007848184555768967\n",
      "Epoch number: 270 and the loss : 0.007841521874070168\n",
      "Epoch number: 280 and the loss : 0.007835617288947105\n",
      "Epoch number: 290 and the loss : 0.007830357179045677\n",
      "Epoch number: 300 and the loss : 0.007825647480785847\n",
      "Epoch number: 310 and the loss : 0.007821381092071533\n",
      "Epoch number: 320 and the loss : 0.007817506790161133\n",
      "Epoch number: 330 and the loss : 0.007814014330506325\n",
      "Epoch number: 340 and the loss : 0.0078108045272529125\n",
      "Epoch number: 350 and the loss : 0.007807833142578602\n",
      "Epoch number: 360 and the loss : 0.007805066183209419\n",
      "Epoch number: 370 and the loss : 0.007802470587193966\n",
      "Epoch number: 380 and the loss : 0.0078000458888709545\n",
      "Epoch number: 390 and the loss : 0.007797920145094395\n",
      "Epoch number: 400 and the loss : 0.0077957287430763245\n",
      "Epoch number: 410 and the loss : 0.0077936528250575066\n",
      "Epoch number: 420 and the loss : 0.007791660260409117\n",
      "Epoch number: 430 and the loss : 0.0077897729352116585\n",
      "Epoch number: 440 and the loss : 0.007787965703755617\n",
      "Epoch number: 450 and the loss : 0.00778623903170228\n",
      "Epoch number: 460 and the loss : 0.007784578017890453\n",
      "Epoch number: 470 and the loss : 0.0077829728834331036\n",
      "Epoch number: 480 and the loss : 0.007781420834362507\n",
      "Epoch number: 490 and the loss : 0.007779908832162619\n"
     ]
    }
   ],
   "source": [
    "#set up number of epochs\n",
    "epochs = 500\n",
    "#create a list to for plotting - not required - but so you can see the change\n",
    "final_losses= []\n",
    "for i in range(epochs):\n",
    "    #run forward pass\n",
    "    y_pred=model.forward(X_train)\n",
    "    #calculate the loss\n",
    "    loss=loss_function(y_pred,y_train)\n",
    "    #append for graphing\n",
    "    final_losses.append(loss.item())\n",
    "    #don't print all 500 - but some of them\n",
    "    if i % 10 == 0:\n",
    "        print(f\"Epoch number: {i} and the loss : {loss.item()}\")\n",
    "    #Resets or zeros out the previous gradients\n",
    "    optimizer.zero_grad()\n",
    "    #computes gradient (dloss/dx) for every parameter x\n",
    "    loss.backward()\n",
    "    #update the weights using step\n",
    "    optimizer.step()"
   ]
  },
  {
   "cell_type": "code",
   "execution_count": 22,
   "id": "ef224ba1",
   "metadata": {},
   "outputs": [
    {
     "data": {
      "image/png": "[encoded data removed]",
      "text/plain": [
       "<Figure size 640x480 with 1 Axes>"
      ]
     },
     "metadata": {},
     "output_type": "display_data"
    }
   ],
   "source": [
    "#look at the loss\n",
    "#plot the loss function\n",
    "plt.plot(range(epochs),final_losses)\n",
    "plt.xlabel('Epochs')\n",
    "plt.ylabel('Loss')\n",
    "plt.show()"
   ]
  },
  {
   "cell_type": "code",
   "execution_count": 23,
   "id": "2672ed39",
   "metadata": {},
   "outputs": [],
   "source": [
    "#make a list of the results\n",
    "predictions = []\n",
    "#turn off gradient computation to speed up testing\n",
    "with torch.no_grad():\n",
    "    for i,data in enumerate(X_test):\n",
    "        y_pred = model(data)\n",
    "        predictions.append(y_pred.argmax().item())"
   ]
  },
  {
   "cell_type": "code",
   "execution_count": 24,
   "id": "2dca5ab9",
   "metadata": {},
   "outputs": [
    {
     "data": {
      "image/png": "[encoded data removed]",
      "text/plain": [
       "<Figure size 640x480 with 2 Axes>"
      ]
     },
     "metadata": {},
     "output_type": "display_data"
    }
   ],
   "source": [
    "#Confusion Matrix\n",
    "conf_mat = confusion_matrix(y_test, predictions)\n",
    "cm_display = ConfusionMatrixDisplay(conf_mat).plot()"
   ]
  },
  {
   "cell_type": "code",
   "execution_count": 27,
   "id": "2689d631",
   "metadata": {},
   "outputs": [
    {
     "name": "stdout",
     "output_type": "stream",
     "text": [
      "              precision    recall  f1-score   support\n",
      "\n",
      "           0       0.97      0.97      0.97       265\n",
      "           1       0.99      0.99      0.99      1075\n",
      "\n",
      "    accuracy                           0.99      1340\n",
      "   macro avg       0.98      0.98      0.98      1340\n",
      "weighted avg       0.99      0.99      0.99      1340\n",
      "\n",
      "0.9873134328358208\n"
     ]
    }
   ],
   "source": [
    "print(metrics.classification_report(y_test,predictions))\n",
    "print(metrics.accuracy_score(y_test,predictions))"
   ]
  },
  {
   "cell_type": "code",
   "execution_count": 28,
   "id": "48ecbbe0",
   "metadata": {},
   "outputs": [],
   "source": [
    "# Backward Propagation - loss and optimizer\n",
    "loss_function = nn.CrossEntropyLoss()\n",
    "optimizer = torch.optim.Adam(model.parameters(),lr=0.001)"
   ]
  },
  {
   "cell_type": "code",
   "execution_count": 29,
   "id": "eefd45b4",
   "metadata": {},
   "outputs": [
    {
     "name": "stdout",
     "output_type": "stream",
     "text": [
      "Epoch number: 0 and the loss : 0.007778442930430174\n",
      "Epoch number: 50 and the loss : 0.0074357325211167336\n",
      "Epoch number: 100 and the loss : 0.007429793477058411\n",
      "Epoch number: 150 and the loss : 0.007428756449371576\n",
      "Epoch number: 200 and the loss : 0.007428323850035667\n",
      "Epoch number: 250 and the loss : 0.007428073789924383\n",
      "Epoch number: 300 and the loss : 0.007427920121699572\n",
      "Epoch number: 350 and the loss : 0.007427910342812538\n",
      "Epoch number: 400 and the loss : 0.007427760865539312\n",
      "Epoch number: 450 and the loss : 0.007427713833749294\n",
      "Epoch number: 500 and the loss : 0.007427678443491459\n",
      "Epoch number: 550 and the loss : 0.007427653763443232\n",
      "Epoch number: 600 and the loss : 0.007427631411701441\n",
      "Epoch number: 650 and the loss : 0.0074276430532336235\n",
      "Epoch number: 700 and the loss : 0.00742767471820116\n"
     ]
    }
   ],
   "source": [
    "#set up number of epochs\n",
    "epochs = 701\n",
    "#create a list to for plotting - not required - but so you can see the change\n",
    "final_losses= []\n",
    "for i in range(epochs):\n",
    "    #run forward pass\n",
    "    y_pred=model.forward(X_train)\n",
    "    #calculate the loss\n",
    "    loss=loss_function(y_pred,y_train)\n",
    "    #append for graphing\n",
    "    final_losses.append(loss.item())\n",
    "    #don't print all 500 - but some of them\n",
    "    if i % 50 == 0:\n",
    "        print(f\"Epoch number: {i} and the loss : {loss.item()}\")\n",
    "    #Resets or zeros out the previous gradients\n",
    "    optimizer.zero_grad()\n",
    "    #computes gradient (dloss/dx) for every parameter x\n",
    "    loss.backward()\n",
    "    #update the weights using step\n",
    "    optimizer.step()"
   ]
  },
  {
   "cell_type": "code",
   "execution_count": 30,
   "id": "f5903fa9",
   "metadata": {},
   "outputs": [
    {
     "data": {
      "image/png": "[encoded data removed]",
      "text/plain": [
       "<Figure size 640x480 with 1 Axes>"
      ]
     },
     "metadata": {},
     "output_type": "display_data"
    }
   ],
   "source": [
    "#look at the loss\n",
    "#plot the loss function\n",
    "plt.plot(range(epochs),final_losses)\n",
    "plt.xlabel('Epochs')\n",
    "plt.ylabel('Loss')\n",
    "plt.show()"
   ]
  },
  {
   "cell_type": "code",
   "execution_count": 31,
   "id": "5224dc3e",
   "metadata": {},
   "outputs": [],
   "source": [
    "#make a list of the results\n",
    "predictions = []\n",
    "#turn off gradient computation to speed up testing\n",
    "with torch.no_grad():\n",
    "    for i,data in enumerate(X_test):\n",
    "        y_pred = model(data)\n",
    "        predictions.append(y_pred.argmax().item())"
   ]
  },
  {
   "cell_type": "code",
   "execution_count": 32,
   "id": "cc0d9398",
   "metadata": {},
   "outputs": [
    {
     "data": {
      "image/png": "[encoded data removed]",
      "text/plain": [
       "<Figure size 640x480 with 2 Axes>"
      ]
     },
     "metadata": {},
     "output_type": "display_data"
    }
   ],
   "source": [
    "#Confusion Matrix\n",
    "conf_mat = confusion_matrix(y_test, predictions)\n",
    "cm_display = ConfusionMatrixDisplay(conf_mat).plot()"
   ]
  },
  {
   "cell_type": "code",
   "execution_count": 33,
   "id": "77cc513c",
   "metadata": {},
   "outputs": [
    {
     "name": "stdout",
     "output_type": "stream",
     "text": [
      "              precision    recall  f1-score   support\n",
      "\n",
      "           0       0.97      0.96      0.97       265\n",
      "           1       0.99      0.99      0.99      1075\n",
      "\n",
      "    accuracy                           0.99      1340\n",
      "   macro avg       0.98      0.98      0.98      1340\n",
      "weighted avg       0.99      0.99      0.99      1340\n",
      "\n",
      "0.9865671641791045\n"
     ]
    }
   ],
   "source": [
    "print(metrics.classification_report(y_test,predictions))\n",
    "print(metrics.accuracy_score(y_test,predictions))"
   ]
  },
  {
   "cell_type": "markdown",
   "id": "f3576327",
   "metadata": {},
   "source": [
    "# Trying with different # layers"
   ]
  },
  {
   "cell_type": "code",
   "execution_count": 38,
   "id": "560bda97",
   "metadata": {},
   "outputs": [],
   "source": [
    "# Get cpu, gpu or mps device for training.\n",
    "device = (\n",
    "\"cuda\"\n",
    "if torch.cuda.is_available()\n",
    "else \"mps\"\n",
    "if torch.backends.mps.is_available()\n",
    "else \"cpu\"\n",
    ")\n",
    "\n",
    "#Create Model\n",
    "class ANN_model2(nn.Module):\n",
    "    def __init__(self,input_dim=241,hidden1_dim=120, hidden2_dim=60,hidden3_dim=30, hidden4_dim=10,out_dim=2):\n",
    "        '''\n",
    "        input_dim is 15 because there are 15 columns of features in this set.\n",
    "        we are setting up 2 hidden layers the first has 20 nodes, the second has 10\n",
    "        out_dim is 2 because there are two options - diabetic or non-diabetic\n",
    "        '''\n",
    "        super().__init__()\n",
    "        #connent input to first hidden layer\n",
    "        self.layer1 = nn.Linear(input_dim,hidden1_dim)\n",
    "        #connect first hidden layer to the second hidden layer\n",
    "        self.layer2 = nn.Linear(hidden1_dim,hidden2_dim)\n",
    "        #connent input to first hidden layer\n",
    "        self.layer3 = nn.Linear(hidden2_dim,hidden3_dim)\n",
    "        #connect first hidden layer to the second hidden layer\n",
    "        self.layer4 = nn.Linear(hidden3_dim,hidden4_dim)\n",
    "        #connect second hidden layer to output\n",
    "        self.out = nn.Linear(hidden4_dim,out_dim)\n",
    "        #Note: each layer has a weight and bias that in embedded in the linear layer\n",
    "\n",
    "    def forward(self,x):\n",
    "        #compute the output of f_connected1 and apply ReLu\n",
    "        x = F.relu(self.layer1(x))\n",
    "        #compute the output of f_connected2 and apply ReLu\n",
    "        x = F.relu(self.layer2(x))\n",
    "        #compute the output of f_connected1 and apply ReLu\n",
    "        x = F.relu(self.layer3(x))\n",
    "        #compute the output of f_connected2 and apply ReLu\n",
    "        x = F.relu(self.layer4(x))\n",
    "        #compute the output layer\n",
    "        # no activation: cross entropy will compute softmax\n",
    "        x = self.out(x)\n",
    "        return x"
   ]
  },
  {
   "cell_type": "code",
   "execution_count": 39,
   "id": "967bf451",
   "metadata": {},
   "outputs": [],
   "source": [
    "#seed pytorch - for reproducibility of setting initial weights\n",
    "torch.manual_seed(20)\n",
    "#set up model using the class you made\n",
    "model = ANN_model2().to(device)"
   ]
  },
  {
   "cell_type": "code",
   "execution_count": 40,
   "id": "4bc07f31",
   "metadata": {},
   "outputs": [
    {
     "name": "stdout",
     "output_type": "stream",
     "text": [
      "ANN_model2(\n",
      "  (layer1): Linear(in_features=241, out_features=120, bias=True)\n",
      "  (layer2): Linear(in_features=120, out_features=60, bias=True)\n",
      "  (layer3): Linear(in_features=60, out_features=30, bias=True)\n",
      "  (layer4): Linear(in_features=30, out_features=10, bias=True)\n",
      "  (out): Linear(in_features=10, out_features=2, bias=True)\n",
      ")\n"
     ]
    }
   ],
   "source": [
    "#print out the model\n",
    "print(model)"
   ]
  },
  {
   "cell_type": "code",
   "execution_count": 41,
   "id": "83623f98",
   "metadata": {},
   "outputs": [],
   "source": [
    "# Backward Propagation - loss and optimizer\n",
    "loss_function = nn.CrossEntropyLoss()\n",
    "optimizer = torch.optim.Adam(model.parameters(),lr=0.01)"
   ]
  },
  {
   "cell_type": "code",
   "execution_count": 42,
   "id": "6a79e6a1",
   "metadata": {},
   "outputs": [
    {
     "name": "stdout",
     "output_type": "stream",
     "text": [
      "Epoch number: 0 and the loss : 0.6543000936508179\n",
      "Epoch number: 10 and the loss : 0.15086893737316132\n",
      "Epoch number: 20 and the loss : 0.058246247470378876\n",
      "Epoch number: 30 and the loss : 0.03320645913481712\n",
      "Epoch number: 40 and the loss : 0.019139891490340233\n",
      "Epoch number: 50 and the loss : 0.01172997523099184\n",
      "Epoch number: 60 and the loss : 0.008879479020833969\n",
      "Epoch number: 70 and the loss : 0.008231102488934994\n",
      "Epoch number: 80 and the loss : 0.007981032133102417\n",
      "Epoch number: 90 and the loss : 0.007821074686944485\n",
      "Epoch number: 100 and the loss : 0.007716369349509478\n",
      "Epoch number: 110 and the loss : 0.007645478006452322\n",
      "Epoch number: 120 and the loss : 0.007596021983772516\n",
      "Epoch number: 130 and the loss : 0.007559673860669136\n",
      "Epoch number: 140 and the loss : 0.007532372605055571\n",
      "Epoch number: 150 and the loss : 0.00751198036596179\n",
      "Epoch number: 160 and the loss : 0.007496604695916176\n",
      "Epoch number: 170 and the loss : 0.007484853267669678\n",
      "Epoch number: 180 and the loss : 0.007475769147276878\n",
      "Epoch number: 190 and the loss : 0.007468633819371462\n",
      "Epoch number: 200 and the loss : 0.0074629453010857105\n",
      "Epoch number: 210 and the loss : 0.007458352018147707\n",
      "Epoch number: 220 and the loss : 0.007454574573785067\n",
      "Epoch number: 230 and the loss : 0.007451451849192381\n",
      "Epoch number: 240 and the loss : 0.00744883855804801\n",
      "Epoch number: 250 and the loss : 0.00744662806391716\n",
      "Epoch number: 260 and the loss : 0.007444737479090691\n",
      "Epoch number: 270 and the loss : 0.007443110458552837\n",
      "Epoch number: 280 and the loss : 0.0074417064897716045\n",
      "Epoch number: 290 and the loss : 0.0074404822662472725\n",
      "Epoch number: 300 and the loss : 0.007439413107931614\n",
      "Epoch number: 310 and the loss : 0.00743847107514739\n",
      "Epoch number: 320 and the loss : 0.007437639869749546\n",
      "Epoch number: 330 and the loss : 0.007436894346028566\n",
      "Epoch number: 340 and the loss : 0.007436228916049004\n",
      "Epoch number: 350 and the loss : 0.007435636129230261\n",
      "Epoch number: 360 and the loss : 0.007435100618749857\n",
      "Epoch number: 370 and the loss : 0.007434615399688482\n",
      "Epoch number: 380 and the loss : 0.0074341753497719765\n",
      "Epoch number: 390 and the loss : 0.007433777209371328\n",
      "Epoch number: 400 and the loss : 0.00743341026827693\n",
      "Epoch number: 410 and the loss : 0.00743307638913393\n",
      "Epoch number: 420 and the loss : 0.00743276858702302\n",
      "Epoch number: 430 and the loss : 0.007432484067976475\n",
      "Epoch number: 440 and the loss : 0.007432225625962019\n",
      "Epoch number: 450 and the loss : 0.007431983947753906\n",
      "Epoch number: 460 and the loss : 0.007431760895997286\n",
      "Epoch number: 470 and the loss : 0.0074315546080470085\n",
      "Epoch number: 480 and the loss : 0.0074313641525805\n",
      "Epoch number: 490 and the loss : 0.007431187201291323\n"
     ]
    }
   ],
   "source": [
    "#set up number of epochs\n",
    "epochs = 500\n",
    "#create a list to for plotting - not required - but so you can see the change\n",
    "final_losses= []\n",
    "for i in range(epochs):\n",
    "    #run forward pass\n",
    "    y_pred=model.forward(X_train)\n",
    "    #calculate the loss\n",
    "    loss=loss_function(y_pred,y_train)\n",
    "    #append for graphing\n",
    "    final_losses.append(loss.item())\n",
    "    #don't print all 500 - but some of them\n",
    "    if i % 10 == 0:\n",
    "        print(f\"Epoch number: {i} and the loss : {loss.item()}\")\n",
    "    #Resets or zeros out the previous gradients\n",
    "    optimizer.zero_grad()\n",
    "    #computes gradient (dloss/dx) for every parameter x\n",
    "    loss.backward()\n",
    "    #update the weights using step\n",
    "    optimizer.step()"
   ]
  },
  {
   "cell_type": "code",
   "execution_count": 43,
   "id": "ced1844a",
   "metadata": {},
   "outputs": [
    {
     "data": {
      "image/png": "[encoded data removed]",
      "text/plain": [
       "<Figure size 640x480 with 1 Axes>"
      ]
     },
     "metadata": {},
     "output_type": "display_data"
    }
   ],
   "source": [
    "#look at the loss\n",
    "#plot the loss function\n",
    "plt.plot(range(epochs),final_losses)\n",
    "plt.xlabel('Epochs')\n",
    "plt.ylabel('Loss')\n",
    "plt.show()"
   ]
  },
  {
   "cell_type": "code",
   "execution_count": 44,
   "id": "51343123",
   "metadata": {},
   "outputs": [],
   "source": [
    "#make a list of the results\n",
    "predictions = []\n",
    "#turn off gradient computation to speed up testing\n",
    "with torch.no_grad():\n",
    "    for i,data in enumerate(X_test):\n",
    "        y_pred = model(data)\n",
    "        predictions.append(y_pred.argmax().item())"
   ]
  },
  {
   "cell_type": "code",
   "execution_count": 45,
   "id": "d55fd405",
   "metadata": {},
   "outputs": [
    {
     "data": {
      "image/png": "[encoded data removed]",
      "text/plain": [
       "<Figure size 640x480 with 2 Axes>"
      ]
     },
     "metadata": {},
     "output_type": "display_data"
    }
   ],
   "source": [
    "#Confusion Matrix\n",
    "conf_mat = confusion_matrix(y_test, predictions)\n",
    "cm_display = ConfusionMatrixDisplay(conf_mat).plot()"
   ]
  },
  {
   "cell_type": "code",
   "execution_count": 46,
   "id": "1eb32f9e",
   "metadata": {},
   "outputs": [
    {
     "name": "stdout",
     "output_type": "stream",
     "text": [
      "              precision    recall  f1-score   support\n",
      "\n",
      "           0       0.97      0.97      0.97       265\n",
      "           1       0.99      0.99      0.99      1075\n",
      "\n",
      "    accuracy                           0.99      1340\n",
      "   macro avg       0.98      0.98      0.98      1340\n",
      "weighted avg       0.99      0.99      0.99      1340\n",
      "\n",
      "0.9880597014925373\n"
     ]
    }
   ],
   "source": [
    "print(metrics.classification_report(y_test,predictions))\n",
    "print(metrics.accuracy_score(y_test,predictions))"
   ]
  },
  {
   "cell_type": "code",
   "execution_count": null,
   "id": "c25fd450",
   "metadata": {},
   "outputs": [],
   "source": []
  },
  {
   "cell_type": "code",
   "execution_count": 47,
   "id": "8cf386d4",
   "metadata": {},
   "outputs": [],
   "source": [
    "#seed pytorch - for reproducibility of setting initial weights\n",
    "torch.manual_seed(20)\n",
    "#set up model using the class you made\n",
    "model = ANN_model2().to(device)"
   ]
  },
  {
   "cell_type": "code",
   "execution_count": 48,
   "id": "cbd117f1",
   "metadata": {},
   "outputs": [
    {
     "name": "stdout",
     "output_type": "stream",
     "text": [
      "ANN_model2(\n",
      "  (layer1): Linear(in_features=241, out_features=120, bias=True)\n",
      "  (layer2): Linear(in_features=120, out_features=60, bias=True)\n",
      "  (layer3): Linear(in_features=60, out_features=30, bias=True)\n",
      "  (layer4): Linear(in_features=30, out_features=10, bias=True)\n",
      "  (out): Linear(in_features=10, out_features=2, bias=True)\n",
      ")\n"
     ]
    }
   ],
   "source": [
    "#print out the model\n",
    "print(model)"
   ]
  },
  {
   "cell_type": "code",
   "execution_count": 49,
   "id": "2c4e8391",
   "metadata": {},
   "outputs": [],
   "source": [
    "# Backward Propagation - loss and optimizer\n",
    "loss_function = nn.CrossEntropyLoss()\n",
    "optimizer = torch.optim.Adam(model.parameters(),lr=0.001)"
   ]
  },
  {
   "cell_type": "code",
   "execution_count": 50,
   "id": "b15a32b6",
   "metadata": {},
   "outputs": [
    {
     "name": "stdout",
     "output_type": "stream",
     "text": [
      "Epoch number: 0 and the loss : 0.6543000936508179\n",
      "Epoch number: 50 and the loss : 0.10883680731058121\n",
      "Epoch number: 100 and the loss : 0.02965197153389454\n",
      "Epoch number: 150 and the loss : 0.013202644884586334\n",
      "Epoch number: 200 and the loss : 0.00856089685112238\n",
      "Epoch number: 250 and the loss : 0.008174730464816093\n",
      "Epoch number: 300 and the loss : 0.008014687336981297\n",
      "Epoch number: 350 and the loss : 0.00790130253881216\n",
      "Epoch number: 400 and the loss : 0.007815700024366379\n",
      "Epoch number: 450 and the loss : 0.0077483211643993855\n"
     ]
    }
   ],
   "source": [
    "#set up number of epochs\n",
    "epochs = 500\n",
    "#create a list to for plotting - not required - but so you can see the change\n",
    "final_losses= []\n",
    "for i in range(epochs):\n",
    "    #run forward pass\n",
    "    y_pred=model.forward(X_train)\n",
    "    #calculate the loss\n",
    "    loss=loss_function(y_pred,y_train)\n",
    "    #append for graphing\n",
    "    final_losses.append(loss.item())\n",
    "    #don't print all 500 - but some of them\n",
    "    if i % 50 == 0:\n",
    "        print(f\"Epoch number: {i} and the loss : {loss.item()}\")\n",
    "    #Resets or zeros out the previous gradients\n",
    "    optimizer.zero_grad()\n",
    "    #computes gradient (dloss/dx) for every parameter x\n",
    "    loss.backward()\n",
    "    #update the weights using step\n",
    "    optimizer.step()"
   ]
  },
  {
   "cell_type": "code",
   "execution_count": 52,
   "id": "b10d653b",
   "metadata": {},
   "outputs": [],
   "source": [
    "#make a list of the results\n",
    "predictions = []\n",
    "#turn off gradient computation to speed up testing\n",
    "with torch.no_grad():\n",
    "    for i,data in enumerate(X_test):\n",
    "        y_pred = model(data)\n",
    "        predictions.append(y_pred.argmax().item())"
   ]
  },
  {
   "cell_type": "code",
   "execution_count": 53,
   "id": "2e72c30b",
   "metadata": {},
   "outputs": [
    {
     "data": {
      "image/png": "[encoded data removed]",
      "text/plain": [
       "<Figure size 640x480 with 2 Axes>"
      ]
     },
     "metadata": {},
     "output_type": "display_data"
    }
   ],
   "source": [
    "#Confusion Matrix\n",
    "conf_mat = confusion_matrix(y_test, predictions)\n",
    "cm_display = ConfusionMatrixDisplay(conf_mat).plot()"
   ]
  },
  {
   "cell_type": "code",
   "execution_count": 55,
   "id": "5ef37b7d",
   "metadata": {},
   "outputs": [
    {
     "name": "stdout",
     "output_type": "stream",
     "text": [
      "              precision    recall  f1-score   support\n",
      "\n",
      "           0       0.97      0.97      0.97       265\n",
      "           1       0.99      0.99      0.99      1075\n",
      "\n",
      "    accuracy                           0.99      1340\n",
      "   macro avg       0.98      0.98      0.98      1340\n",
      "weighted avg       0.99      0.99      0.99      1340\n",
      "\n",
      "0.9888059701492538\n"
     ]
    }
   ],
   "source": [
    "print(metrics.classification_report(y_test,predictions))\n",
    "print(metrics.accuracy_score(y_test,predictions))"
   ]
  },
  {
   "cell_type": "markdown",
   "id": "76c88808",
   "metadata": {},
   "source": [
    "#### Having 2 more layers helped the accuracy here"
   ]
  },
  {
   "cell_type": "code",
   "execution_count": null,
   "id": "4b7dbc83",
   "metadata": {},
   "outputs": [],
   "source": []
  },
  {
   "cell_type": "code",
   "execution_count": 60,
   "id": "7ddc8e28",
   "metadata": {},
   "outputs": [],
   "source": [
    "# Get cpu, gpu or mps device for training.\n",
    "device = (\n",
    "\"cuda\"\n",
    "if torch.cuda.is_available()\n",
    "else \"mps\"\n",
    "if torch.backends.mps.is_available()\n",
    "else \"cpu\"\n",
    ")\n",
    "\n",
    "#Create Model\n",
    "class ANN_model5(nn.Module):\n",
    "    def __init__(self,input_dim=241,hidden1_dim=120, hidden2_dim=60,hidden3_dim=30, hidden4_dim=15,hidden5_dim=7,out_dim=2):\n",
    "        '''\n",
    "        input_dim is 15 because there are 15 columns of features in this set.\n",
    "        we are setting up 2 hidden layers the first has 20 nodes, the second has 10\n",
    "        out_dim is 2 because there are two options - diabetic or non-diabetic\n",
    "        '''\n",
    "        super().__init__()\n",
    "        #connent input to first hidden layer\n",
    "        self.layer1 = nn.Linear(input_dim,hidden1_dim)\n",
    "        #connect first hidden layer to the second hidden layer\n",
    "        self.layer2 = nn.Linear(hidden1_dim,hidden2_dim)\n",
    "        #connent input to first hidden layer\n",
    "        self.layer3 = nn.Linear(hidden2_dim,hidden3_dim)\n",
    "        #connect first hidden layer to the second hidden layer\n",
    "        self.layer4 = nn.Linear(hidden3_dim,hidden4_dim)\n",
    "        #connect first hidden layer to the second hidden layer\n",
    "        self.layer5 = nn.Linear(hidden4_dim,hidden5_dim)\n",
    "        #connect second hidden layer to output\n",
    "        self.out = nn.Linear(hidden5_dim,out_dim)\n",
    "        #Note: each layer has a weight and bias that in embedded in the linear layer\n",
    "\n",
    "    def forward(self,x):\n",
    "        #compute the output of f_connected1 and apply ReLu\n",
    "        x = F.relu(self.layer1(x))\n",
    "        #compute the output of f_connected2 and apply ReLu\n",
    "        x = F.relu(self.layer2(x))\n",
    "        #compute the output of f_connected1 and apply ReLu\n",
    "        x = F.relu(self.layer3(x))\n",
    "        #compute the output of f_connected2 and apply ReLu\n",
    "        x = F.relu(self.layer4(x))\n",
    "        #compute the output of f_connected2 and apply ReLu\n",
    "        x = F.relu(self.layer5(x))\n",
    "        #compute the output layer\n",
    "        # no activation: cross entropy will compute softmax\n",
    "        x = self.out(x)\n",
    "        return x"
   ]
  },
  {
   "cell_type": "code",
   "execution_count": 61,
   "id": "3c3d6b3f",
   "metadata": {},
   "outputs": [],
   "source": [
    "#seed pytorch - for reproducibility of setting initial weights\n",
    "torch.manual_seed(20)\n",
    "#set up model using the class you made\n",
    "model = ANN_model5().to(device)"
   ]
  },
  {
   "cell_type": "code",
   "execution_count": 62,
   "id": "72a7cbd5",
   "metadata": {},
   "outputs": [
    {
     "name": "stdout",
     "output_type": "stream",
     "text": [
      "ANN_model5(\n",
      "  (layer1): Linear(in_features=241, out_features=120, bias=True)\n",
      "  (layer2): Linear(in_features=120, out_features=60, bias=True)\n",
      "  (layer3): Linear(in_features=60, out_features=30, bias=True)\n",
      "  (layer4): Linear(in_features=30, out_features=15, bias=True)\n",
      "  (layer5): Linear(in_features=15, out_features=7, bias=True)\n",
      "  (out): Linear(in_features=7, out_features=2, bias=True)\n",
      ")\n"
     ]
    }
   ],
   "source": [
    "#print out the model\n",
    "print(model)"
   ]
  },
  {
   "cell_type": "code",
   "execution_count": 63,
   "id": "2caf6e72",
   "metadata": {},
   "outputs": [],
   "source": [
    "# Backward Propagation - loss and optimizer\n",
    "loss_function = nn.CrossEntropyLoss()\n",
    "optimizer = torch.optim.Adam(model.parameters(),lr=0.001)"
   ]
  },
  {
   "cell_type": "code",
   "execution_count": 64,
   "id": "bf16a0ab",
   "metadata": {},
   "outputs": [
    {
     "name": "stdout",
     "output_type": "stream",
     "text": [
      "Epoch number: 0 and the loss : 0.8902871012687683\n",
      "Epoch number: 75 and the loss : 0.09814359247684479\n",
      "Epoch number: 150 and the loss : 0.023756185546517372\n",
      "Epoch number: 225 and the loss : 0.010681793093681335\n",
      "Epoch number: 300 and the loss : 0.008120530284941196\n",
      "Epoch number: 375 and the loss : 0.007738813292235136\n",
      "Epoch number: 450 and the loss : 0.007557605858892202\n",
      "Epoch number: 525 and the loss : 0.007490143645554781\n"
     ]
    }
   ],
   "source": [
    "#set up number of epochs\n",
    "epochs = 526\n",
    "#create a list to for plotting - not required - but so you can see the change\n",
    "final_losses= []\n",
    "for i in range(epochs):\n",
    "    #run forward pass\n",
    "    y_pred=model.forward(X_train)\n",
    "    #calculate the loss\n",
    "    loss=loss_function(y_pred,y_train)\n",
    "    #append for graphing\n",
    "    final_losses.append(loss.item())\n",
    "    #don't print all 500 - but some of them\n",
    "    if i % 75 == 0:\n",
    "        print(f\"Epoch number: {i} and the loss : {loss.item()}\")\n",
    "    #Resets or zeros out the previous gradients\n",
    "    optimizer.zero_grad()\n",
    "    #computes gradient (dloss/dx) for every parameter x\n",
    "    loss.backward()\n",
    "    #update the weights using step\n",
    "    optimizer.step()"
   ]
  },
  {
   "cell_type": "code",
   "execution_count": 65,
   "id": "88e5e474",
   "metadata": {},
   "outputs": [],
   "source": [
    "#make a list of the results\n",
    "predictions = []\n",
    "#turn off gradient computation to speed up testing\n",
    "with torch.no_grad():\n",
    "    for i,data in enumerate(X_test):\n",
    "        y_pred = model(data)\n",
    "        predictions.append(y_pred.argmax().item())"
   ]
  },
  {
   "cell_type": "code",
   "execution_count": 66,
   "id": "907e017c",
   "metadata": {},
   "outputs": [
    {
     "data": {
      "image/png": "[encoded data removed]",
      "text/plain": [
       "<Figure size 640x480 with 2 Axes>"
      ]
     },
     "metadata": {},
     "output_type": "display_data"
    }
   ],
   "source": [
    "#Confusion Matrix\n",
    "conf_mat = confusion_matrix(y_test, predictions)\n",
    "cm_display = ConfusionMatrixDisplay(conf_mat).plot()"
   ]
  },
  {
   "cell_type": "code",
   "execution_count": 67,
   "id": "eec060f4",
   "metadata": {},
   "outputs": [
    {
     "name": "stdout",
     "output_type": "stream",
     "text": [
      "              precision    recall  f1-score   support\n",
      "\n",
      "           0       0.96      0.96      0.96       265\n",
      "           1       0.99      0.99      0.99      1075\n",
      "\n",
      "    accuracy                           0.99      1340\n",
      "   macro avg       0.98      0.98      0.98      1340\n",
      "weighted avg       0.99      0.99      0.99      1340\n",
      "\n",
      "0.9850746268656716\n"
     ]
    }
   ],
   "source": [
    "print(metrics.classification_report(y_test,predictions))\n",
    "print(metrics.accuracy_score(y_test,predictions))"
   ]
  },
  {
   "cell_type": "markdown",
   "id": "063d7215",
   "metadata": {},
   "source": [
    "#### Having one more layer didn't help"
   ]
  },
  {
   "cell_type": "markdown",
   "id": "a189f4b6",
   "metadata": {},
   "source": [
    "# Final Thoughts\n",
    "\n",
    "<p>Having more layers helped in this case, and I figure that could be due to how many input dimensions my dataset has. That being said, this neural net didn't get as good of an accuracy for this dataset as the trees, which I also think is due to it's binary nature. Still allowed for a pretty good accuracy in terms of classifing things in the model with 4 layers. </p>"
   ]
  },
  {
   "cell_type": "code",
   "execution_count": null,
   "id": "dc3b0774",
   "metadata": {},
   "outputs": [],
   "source": []
  },
  {
   "cell_type": "code",
   "execution_count": 11,
   "id": "e9707323",
   "metadata": {},
   "outputs": [
    {
     "name": "stdout",
     "output_type": "stream",
     "text": [
      "Epoch number: 0 and the loss : 7.216541767120361\n",
      "Epoch number: 10 and the loss : 0.882745623588562\n",
      "Epoch number: 20 and the loss : 0.7243971824645996\n",
      "Epoch number: 30 and the loss : 0.6850691437721252\n",
      "Epoch number: 40 and the loss : 0.62884122133255\n",
      "Epoch number: 50 and the loss : 0.6058641672134399\n",
      "Epoch number: 60 and the loss : 0.596460223197937\n",
      "Epoch number: 70 and the loss : 0.5879489779472351\n",
      "Epoch number: 80 and the loss : 0.5836927890777588\n",
      "Epoch number: 90 and the loss : 0.5778025388717651\n",
      "Epoch number: 100 and the loss : 0.5717313289642334\n",
      "Epoch number: 110 and the loss : 0.567734956741333\n",
      "Epoch number: 120 and the loss : 0.5635650157928467\n",
      "Epoch number: 130 and the loss : 0.5587884783744812\n",
      "Epoch number: 140 and the loss : 0.5557228922843933\n",
      "Epoch number: 150 and the loss : 0.5537784099578857\n",
      "Epoch number: 160 and the loss : 0.550162136554718\n",
      "Epoch number: 170 and the loss : 0.5459961295127869\n",
      "Epoch number: 180 and the loss : 0.5387944579124451\n",
      "Epoch number: 190 and the loss : 0.5333734750747681\n",
      "Epoch number: 200 and the loss : 0.5328755378723145\n",
      "Epoch number: 210 and the loss : 0.5303100943565369\n",
      "Epoch number: 220 and the loss : 0.5180956721305847\n",
      "Epoch number: 230 and the loss : 0.5193496942520142\n",
      "Epoch number: 240 and the loss : 0.5087479948997498\n",
      "Epoch number: 250 and the loss : 0.5043991804122925\n",
      "Epoch number: 260 and the loss : 0.5922600030899048\n",
      "Epoch number: 270 and the loss : 0.5748326778411865\n",
      "Epoch number: 280 and the loss : 0.5431927442550659\n",
      "Epoch number: 290 and the loss : 0.5261451005935669\n",
      "Epoch number: 300 and the loss : 0.5244880318641663\n",
      "Epoch number: 310 and the loss : 0.5198771357536316\n",
      "Epoch number: 320 and the loss : 0.5168056488037109\n",
      "Epoch number: 330 and the loss : 0.5137979388237\n",
      "Epoch number: 340 and the loss : 0.5107930302619934\n",
      "Epoch number: 350 and the loss : 0.5080771446228027\n",
      "Epoch number: 360 and the loss : 0.5048134326934814\n",
      "Epoch number: 370 and the loss : 0.5018840432167053\n",
      "Epoch number: 380 and the loss : 0.4973503649234772\n",
      "Epoch number: 390 and the loss : 0.49428313970565796\n",
      "Epoch number: 400 and the loss : 0.49108409881591797\n",
      "Epoch number: 410 and the loss : 0.4882769286632538\n",
      "Epoch number: 420 and the loss : 0.4863261878490448\n",
      "Epoch number: 430 and the loss : 0.48230400681495667\n",
      "Epoch number: 440 and the loss : 0.6829595565795898\n",
      "Epoch number: 450 and the loss : 0.5666958093643188\n",
      "Epoch number: 460 and the loss : 0.5552467107772827\n",
      "Epoch number: 470 and the loss : 0.542422890663147\n",
      "Epoch number: 480 and the loss : 0.5424420237541199\n",
      "Epoch number: 490 and the loss : 0.5305287837982178\n"
     ]
    }
   ],
   "source": [
    "#set up number of epochs\n",
    "epochs = 500\n",
    "#create a list to for plotting - not required - but so you can see the change\n",
    "final_losses= []\n",
    "for i in range(epochs):\n",
    "    #run forward pass\n",
    "    y_pred=model.forward(X_train)\n",
    "    #calculate the loss\n",
    "    loss=loss_function(y_pred,y_train)\n",
    "    #append for graphing\n",
    "    final_losses.append(loss.item())\n",
    "    #don't print all 500 - but some of them\n",
    "    if i % 10 == 0:\n",
    "        print(f\"Epoch number: {i} and the loss : {loss.item()}\")\n",
    "    #Resets or zeros out the previous gradients\n",
    "    optimizer.zero_grad()\n",
    "    #computes gradient (dloss/dx) for every parameter x\n",
    "    loss.backward()\n",
    "    #update the weights using step\n",
    "    optimizer.step()"
   ]
  }
 ],
 "metadata": {
  "kernelspec": {
   "display_name": "Python 3 (ipykernel)",
   "language": "python",
   "name": "python3"
  },
  "language_info": {
   "codemirror_mode": {
    "name": "ipython",
    "version": 3
   },
   "file_extension": ".py",
   "mimetype": "text/x-python",
   "name": "python",
   "nbconvert_exporter": "python",
   "pygments_lexer": "ipython3",
   "version": "3.11.7"
  }
 },
 "nbformat": 4,
 "nbformat_minor": 5
}
